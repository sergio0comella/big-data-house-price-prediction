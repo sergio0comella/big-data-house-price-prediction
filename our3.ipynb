{
 "cells": [
  {
   "cell_type": "code",
   "execution_count": 12,
   "metadata": {},
   "outputs": [],
   "source": [
    "# Imports\n",
    "import numpy as np\n",
    "import pandas as pd\n",
    "import os\n",
    "import matplotlib.pyplot as plt\n",
    "import seaborn as sns\n",
    "\n",
    "# PySpark imports\n",
    "from pyspark.sql import SparkSession\n",
    "import pyspark.sql.functions as F\n",
    "from pyspark.ml.stat import Correlation\n",
    "from pyspark.ml.feature import VectorAssembler\n",
    "from pyspark.mllib.stat\n",
    "import Statistics\n",
    "\n",
    "\n",
    "import warnings\n",
    "warnings.filterwarnings('ignore')\n",
    "%matplotlib inline\n"
   ]
  },
  {
   "cell_type": "code",
   "execution_count": 13,
   "metadata": {},
   "outputs": [
    {
     "data": {
      "text/html": [
       "\n",
       "            <div>\n",
       "                <p><b>SparkSession - in-memory</b></p>\n",
       "                \n",
       "        <div>\n",
       "            <p><b>SparkContext</b></p>\n",
       "\n",
       "            <p><a href=\"http://host.docker.internal:4040\">Spark UI</a></p>\n",
       "\n",
       "            <dl>\n",
       "              <dt>Version</dt>\n",
       "                <dd><code>v3.3.0</code></dd>\n",
       "              <dt>Master</dt>\n",
       "                <dd><code>local[*]</code></dd>\n",
       "              <dt>AppName</dt>\n",
       "                <dd><code>Hello spark.ml</code></dd>\n",
       "            </dl>\n",
       "        </div>\n",
       "        \n",
       "            </div>\n",
       "        "
      ],
      "text/plain": [
       "<pyspark.sql.session.SparkSession at 0x12fd1ee5820>"
      ]
     },
     "execution_count": 13,
     "metadata": {},
     "output_type": "execute_result"
    }
   ],
   "source": [
    "# 'local[*]' means use all available cores in the local machine\n",
    "spark = SparkSession \\\n",
    "    .builder \\\n",
    "    .appName(\"houseRegression\") \\\n",
    "    .master('local[*]') \\\n",
    "    .getOrCreate()\n",
    "\n",
    "spark"
   ]
  },
  {
   "cell_type": "code",
   "execution_count": 14,
   "metadata": {},
   "outputs": [
    {
     "data": {
      "text/plain": [
       "(1460, 1459)"
      ]
     },
     "execution_count": 14,
     "metadata": {},
     "output_type": "execute_result"
    }
   ],
   "source": [
    "train_fname = r'./dataset/train.csv'\n",
    "test_fname = r'./dataset/test.csv'\n",
    "\n",
    "df = spark.read.csv(train_fname, header=True, inferSchema=True,nullValue='NA').repartition(4).persist()\n",
    "df_test = spark.read.csv(test_fname, header=True, inferSchema=True, nullValue='NA').repartition(4).persist()\n",
    "\n",
    "df.count(), df_test.count()\n"
   ]
  },
  {
   "cell_type": "code",
   "execution_count": 31,
   "metadata": {},
   "outputs": [
    {
     "name": "stdout",
     "output_type": "stream",
     "text": [
      "+-------+------------------+\n",
      "|summary|         SalePrice|\n",
      "+-------+------------------+\n",
      "|  count|              1460|\n",
      "|   mean|180921.19589041095|\n",
      "| stddev| 79442.50288288662|\n",
      "|    min|             34900|\n",
      "|     5%|             88000|\n",
      "|    25%|            129900|\n",
      "|    50%|            163000|\n",
      "|    75%|            214000|\n",
      "|    95%|            326000|\n",
      "|    max|            755000|\n",
      "+-------+------------------+\n",
      "\n"
     ]
    }
   ],
   "source": [
    "df.select('SalePrice').summary(\"count\", \"mean\", \"stddev\",\n",
    "                               \"min\", \"5%\", \"25%\", \"50%\", \"75%\", \"95%\", \"max\").show()\n"
   ]
  },
  {
   "cell_type": "code",
   "execution_count": 29,
   "metadata": {},
   "outputs": [],
   "source": [
    "# Convert MSSubClass to a string because it is a categorical field\n",
    "df = df.withColumn('MSSubClass', F.col('MSSubClass').cast('string'))\n",
    "df_test = df_test.withColumn('MSSubClass', F.col('MSSubClass').cast('string'))"
   ]
  },
  {
   "cell_type": "code",
   "execution_count": 55,
   "metadata": {},
   "outputs": [
    {
     "ename": "IllegalArgumentException",
     "evalue": "Data type string of column MSSubClass is not supported.\nData type string of column MSZoning is not supported.\nData type string of column Street is not supported.\nData type string of column Alley is not supported.\nData type string of column LotShape is not supported.\nData type string of column LandContour is not supported.\nData type string of column Utilities is not supported.\nData type string of column LotConfig is not supported.\nData type string of column LandSlope is not supported.\nData type string of column Neighborhood is not supported.\nData type string of column Condition1 is not supported.\nData type string of column Condition2 is not supported.\nData type string of column BldgType is not supported.\nData type string of column HouseStyle is not supported.\nData type string of column RoofStyle is not supported.\nData type string of column RoofMatl is not supported.\nData type string of column Exterior1st is not supported.\nData type string of column Exterior2nd is not supported.\nData type string of column MasVnrType is not supported.\nData type string of column ExterQual is not supported.\nData type string of column ExterCond is not supported.\nData type string of column Foundation is not supported.\nData type string of column BsmtQual is not supported.\nData type string of column BsmtCond is not supported.\nData type string of column BsmtExposure is not supported.\nData type string of column BsmtFinType1 is not supported.\nData type string of column BsmtFinType2 is not supported.\nData type string of column Heating is not supported.\nData type string of column HeatingQC is not supported.\nData type string of column CentralAir is not supported.\nData type string of column Electrical is not supported.\nData type string of column KitchenQual is not supported.\nData type string of column Functional is not supported.\nData type string of column FireplaceQu is not supported.\nData type string of column GarageType is not supported.\nData type string of column GarageFinish is not supported.\nData type string of column GarageQual is not supported.\nData type string of column GarageCond is not supported.\nData type string of column PavedDrive is not supported.\nData type string of column PoolQC is not supported.\nData type string of column Fence is not supported.\nData type string of column MiscFeature is not supported.\nData type string of column SaleType is not supported.\nData type string of column SaleCondition is not supported.",
     "output_type": "error",
     "traceback": [
      "\u001b[1;31m---------------------------------------------------------------------------\u001b[0m",
      "\u001b[1;31mIllegalArgumentException\u001b[0m                  Traceback (most recent call last)",
      "\u001b[1;32md:\\www\\big-data-house-price-prediction\\our3.ipynb Cella 6\u001b[0m in \u001b[0;36m<cell line: 3>\u001b[1;34m()\u001b[0m\n\u001b[0;32m      <a href='vscode-notebook-cell:/d%3A/www/big-data-house-price-prediction/our3.ipynb#W5sZmlsZQ%3D%3D?line=0'>1</a>\u001b[0m assembler \u001b[39m=\u001b[39m VectorAssembler(inputCols\u001b[39m=\u001b[39mdf\u001b[39m.\u001b[39mcolumns,\n\u001b[0;32m      <a href='vscode-notebook-cell:/d%3A/www/big-data-house-price-prediction/our3.ipynb#W5sZmlsZQ%3D%3D?line=1'>2</a>\u001b[0m outputCol\u001b[39m=\u001b[39m\u001b[39m\"\u001b[39m\u001b[39mfeatures\u001b[39m\u001b[39m\"\u001b[39m,handleInvalid\u001b[39m=\u001b[39m\u001b[39m'\u001b[39m\u001b[39mkeep\u001b[39m\u001b[39m'\u001b[39m)\n\u001b[1;32m----> <a href='vscode-notebook-cell:/d%3A/www/big-data-house-price-prediction/our3.ipynb#W5sZmlsZQ%3D%3D?line=2'>3</a>\u001b[0m df2 \u001b[39m=\u001b[39m assembler\u001b[39m.\u001b[39;49mtransform(df)\u001b[39m.\u001b[39mselect(\u001b[39m\"\u001b[39m\u001b[39mfeatures\u001b[39m\u001b[39m\"\u001b[39m)\n\u001b[0;32m      <a href='vscode-notebook-cell:/d%3A/www/big-data-house-price-prediction/our3.ipynb#W5sZmlsZQ%3D%3D?line=4'>5</a>\u001b[0m \u001b[39m# correlation will be in Dense Matrix\u001b[39;00m\n\u001b[0;32m      <a href='vscode-notebook-cell:/d%3A/www/big-data-house-price-prediction/our3.ipynb#W5sZmlsZQ%3D%3D?line=5'>6</a>\u001b[0m correlation \u001b[39m=\u001b[39m Correlation\u001b[39m.\u001b[39mcorr(df2,\u001b[39m\"\u001b[39m\u001b[39mfeatures\u001b[39m\u001b[39m\"\u001b[39m,\u001b[39m\"\u001b[39m\u001b[39mpearson\u001b[39m\u001b[39m\"\u001b[39m)\u001b[39m.\u001b[39mcollect()[\u001b[39m0\u001b[39m][\u001b[39m0\u001b[39m]\n",
      "File \u001b[1;32m~\\AppData\\Local\\Packages\\PythonSoftwareFoundation.Python.3.8_qbz5n2kfra8p0\\LocalCache\\local-packages\\Python38\\site-packages\\pyspark\\ml\\base.py:262\u001b[0m, in \u001b[0;36mTransformer.transform\u001b[1;34m(self, dataset, params)\u001b[0m\n\u001b[0;32m    260\u001b[0m         \u001b[39mreturn\u001b[39;00m \u001b[39mself\u001b[39m\u001b[39m.\u001b[39mcopy(params)\u001b[39m.\u001b[39m_transform(dataset)\n\u001b[0;32m    261\u001b[0m     \u001b[39melse\u001b[39;00m:\n\u001b[1;32m--> 262\u001b[0m         \u001b[39mreturn\u001b[39;00m \u001b[39mself\u001b[39;49m\u001b[39m.\u001b[39;49m_transform(dataset)\n\u001b[0;32m    263\u001b[0m \u001b[39melse\u001b[39;00m:\n\u001b[0;32m    264\u001b[0m     \u001b[39mraise\u001b[39;00m \u001b[39mTypeError\u001b[39;00m(\u001b[39m\"\u001b[39m\u001b[39mParams must be a param map but got \u001b[39m\u001b[39m%s\u001b[39;00m\u001b[39m.\u001b[39m\u001b[39m\"\u001b[39m \u001b[39m%\u001b[39m \u001b[39mtype\u001b[39m(params))\n",
      "File \u001b[1;32m~\\AppData\\Local\\Packages\\PythonSoftwareFoundation.Python.3.8_qbz5n2kfra8p0\\LocalCache\\local-packages\\Python38\\site-packages\\pyspark\\ml\\wrapper.py:396\u001b[0m, in \u001b[0;36mJavaTransformer._transform\u001b[1;34m(self, dataset)\u001b[0m\n\u001b[0;32m    393\u001b[0m \u001b[39massert\u001b[39;00m \u001b[39mself\u001b[39m\u001b[39m.\u001b[39m_java_obj \u001b[39mis\u001b[39;00m \u001b[39mnot\u001b[39;00m \u001b[39mNone\u001b[39;00m\n\u001b[0;32m    395\u001b[0m \u001b[39mself\u001b[39m\u001b[39m.\u001b[39m_transfer_params_to_java()\n\u001b[1;32m--> 396\u001b[0m \u001b[39mreturn\u001b[39;00m DataFrame(\u001b[39mself\u001b[39;49m\u001b[39m.\u001b[39;49m_java_obj\u001b[39m.\u001b[39;49mtransform(dataset\u001b[39m.\u001b[39;49m_jdf), dataset\u001b[39m.\u001b[39msparkSession)\n",
      "File \u001b[1;32m~\\AppData\\Local\\Packages\\PythonSoftwareFoundation.Python.3.8_qbz5n2kfra8p0\\LocalCache\\local-packages\\Python38\\site-packages\\py4j\\java_gateway.py:1321\u001b[0m, in \u001b[0;36mJavaMember.__call__\u001b[1;34m(self, *args)\u001b[0m\n\u001b[0;32m   1315\u001b[0m command \u001b[39m=\u001b[39m proto\u001b[39m.\u001b[39mCALL_COMMAND_NAME \u001b[39m+\u001b[39m\\\n\u001b[0;32m   1316\u001b[0m     \u001b[39mself\u001b[39m\u001b[39m.\u001b[39mcommand_header \u001b[39m+\u001b[39m\\\n\u001b[0;32m   1317\u001b[0m     args_command \u001b[39m+\u001b[39m\\\n\u001b[0;32m   1318\u001b[0m     proto\u001b[39m.\u001b[39mEND_COMMAND_PART\n\u001b[0;32m   1320\u001b[0m answer \u001b[39m=\u001b[39m \u001b[39mself\u001b[39m\u001b[39m.\u001b[39mgateway_client\u001b[39m.\u001b[39msend_command(command)\n\u001b[1;32m-> 1321\u001b[0m return_value \u001b[39m=\u001b[39m get_return_value(\n\u001b[0;32m   1322\u001b[0m     answer, \u001b[39mself\u001b[39;49m\u001b[39m.\u001b[39;49mgateway_client, \u001b[39mself\u001b[39;49m\u001b[39m.\u001b[39;49mtarget_id, \u001b[39mself\u001b[39;49m\u001b[39m.\u001b[39;49mname)\n\u001b[0;32m   1324\u001b[0m \u001b[39mfor\u001b[39;00m temp_arg \u001b[39min\u001b[39;00m temp_args:\n\u001b[0;32m   1325\u001b[0m     temp_arg\u001b[39m.\u001b[39m_detach()\n",
      "File \u001b[1;32m~\\AppData\\Local\\Packages\\PythonSoftwareFoundation.Python.3.8_qbz5n2kfra8p0\\LocalCache\\local-packages\\Python38\\site-packages\\pyspark\\sql\\utils.py:196\u001b[0m, in \u001b[0;36mcapture_sql_exception.<locals>.deco\u001b[1;34m(*a, **kw)\u001b[0m\n\u001b[0;32m    192\u001b[0m converted \u001b[39m=\u001b[39m convert_exception(e\u001b[39m.\u001b[39mjava_exception)\n\u001b[0;32m    193\u001b[0m \u001b[39mif\u001b[39;00m \u001b[39mnot\u001b[39;00m \u001b[39misinstance\u001b[39m(converted, UnknownException):\n\u001b[0;32m    194\u001b[0m     \u001b[39m# Hide where the exception came from that shows a non-Pythonic\u001b[39;00m\n\u001b[0;32m    195\u001b[0m     \u001b[39m# JVM exception message.\u001b[39;00m\n\u001b[1;32m--> 196\u001b[0m     \u001b[39mraise\u001b[39;00m converted \u001b[39mfrom\u001b[39;00m \u001b[39mNone\u001b[39m\n\u001b[0;32m    197\u001b[0m \u001b[39melse\u001b[39;00m:\n\u001b[0;32m    198\u001b[0m     \u001b[39mraise\u001b[39;00m\n",
      "\u001b[1;31mIllegalArgumentException\u001b[0m: Data type string of column MSSubClass is not supported.\nData type string of column MSZoning is not supported.\nData type string of column Street is not supported.\nData type string of column Alley is not supported.\nData type string of column LotShape is not supported.\nData type string of column LandContour is not supported.\nData type string of column Utilities is not supported.\nData type string of column LotConfig is not supported.\nData type string of column LandSlope is not supported.\nData type string of column Neighborhood is not supported.\nData type string of column Condition1 is not supported.\nData type string of column Condition2 is not supported.\nData type string of column BldgType is not supported.\nData type string of column HouseStyle is not supported.\nData type string of column RoofStyle is not supported.\nData type string of column RoofMatl is not supported.\nData type string of column Exterior1st is not supported.\nData type string of column Exterior2nd is not supported.\nData type string of column MasVnrType is not supported.\nData type string of column ExterQual is not supported.\nData type string of column ExterCond is not supported.\nData type string of column Foundation is not supported.\nData type string of column BsmtQual is not supported.\nData type string of column BsmtCond is not supported.\nData type string of column BsmtExposure is not supported.\nData type string of column BsmtFinType1 is not supported.\nData type string of column BsmtFinType2 is not supported.\nData type string of column Heating is not supported.\nData type string of column HeatingQC is not supported.\nData type string of column CentralAir is not supported.\nData type string of column Electrical is not supported.\nData type string of column KitchenQual is not supported.\nData type string of column Functional is not supported.\nData type string of column FireplaceQu is not supported.\nData type string of column GarageType is not supported.\nData type string of column GarageFinish is not supported.\nData type string of column GarageQual is not supported.\nData type string of column GarageCond is not supported.\nData type string of column PavedDrive is not supported.\nData type string of column PoolQC is not supported.\nData type string of column Fence is not supported.\nData type string of column MiscFeature is not supported.\nData type string of column SaleType is not supported.\nData type string of column SaleCondition is not supported."
     ]
    }
   ],
   "source": [
    "assembler = VectorAssembler(inputCols=df.columns,\n",
    "outputCol=\"features\",handleInvalid='keep')\n",
    "df2 = assembler.transform(df).select(\"features\")\n",
    "\n",
    "# correlation will be in Dense Matrix\n",
    "correlation = Correlation.corr(df2,\"features\",\"pearson\").collect()[0][0]\n",
    "\n",
    "# To convert Dense Matrix into DataFrame\n",
    "rows = correlation.toArray().tolist()\n",
    "df2 = spark.createDataFrame(rows,df.columns)"
   ]
  }
 ],
 "metadata": {
  "kernelspec": {
   "display_name": "Python 3.8.10 64-bit (microsoft store)",
   "language": "python",
   "name": "python3"
  },
  "language_info": {
   "codemirror_mode": {
    "name": "ipython",
    "version": 3
   },
   "file_extension": ".py",
   "mimetype": "text/x-python",
   "name": "python",
   "nbconvert_exporter": "python",
   "pygments_lexer": "ipython3",
   "version": "3.8.10"
  },
  "orig_nbformat": 4,
  "vscode": {
   "interpreter": {
    "hash": "aaf5edabc44c88571c4d6b9ef24023248b21d69e1eb8175a770a6e63ccf0995c"
   }
  }
 },
 "nbformat": 4,
 "nbformat_minor": 2
}
