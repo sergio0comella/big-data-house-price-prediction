{
 "cells": [
  {
   "cell_type": "code",
   "execution_count": null,
   "metadata": {},
   "outputs": [],
   "source": [
    "#installing pyspark\n",
    "# !pip install pyspark"
   ]
  },
  {
   "cell_type": "code",
   "execution_count": null,
   "metadata": {},
   "outputs": [],
   "source": [
    "#Importing required libraries\n",
    "from pyspark.sql.types import *\n",
    "from pyspark.sql.functions import *\n",
    "from pyspark.sql import SparkSession\n",
    "\n",
    "from pyspark.ml import Pipeline\n",
    "from pyspark.ml.feature import VectorAssembler, StringIndexer\n",
    "from pyspark.ml.regression import LinearRegression\n"
   ]
  },
  {
   "cell_type": "code",
   "execution_count": null,
   "metadata": {},
   "outputs": [],
   "source": [
    "#creating a spark session\n",
    "spark = SparkSession.builder.master(\"HouseRegression\").getOrCreate()"
   ]
  },
  {
   "cell_type": "code",
   "execution_count": null,
   "metadata": {},
   "outputs": [],
   "source": [
    "train = spark.read.csv(\"./dataset/train.csv\", inferSchema=True, header=True)\n",
    "test = spark.read.csv(\"./dataset/test.csv\", inferSchema=True, header=True)\n",
    "train.printSchema()"
   ]
  },
  {
   "cell_type": "code",
   "execution_count": null,
   "metadata": {},
   "outputs": [],
   "source": [
    "#String Indexer are used tranform strings into categorical data. We are doing it for only one column here but we can doit for all string data\n",
    "indexer = StringIndexer(inputCol=\"LotShape\", outputCol=\"LotShape2\")\n",
    "indexed = indexer.fit(train).transform(train)\n",
    "indexed.head(1)\n"
   ]
  },
  {
   "cell_type": "code",
   "execution_count": null,
   "metadata": {},
   "outputs": [],
   "source": [
    "#Assembler combines all integer and create a vector which is used as input to predict. Here we have only selected columns with data type as integer\n",
    "assembler= VectorAssembler(inputCols=[\"MSSubClass\",\"LotArea\",\"OverallQual\",\"OverallCond\",\"BsmtFinSF1\",\n",
    "                                      \"BsmtFinSF2\",\"BsmtUnfSF\",\"TotalBsmtSF\",\"1stFlrSF\",\"2ndFlrSF\",\"LowQualFinSF\",\"GrLivArea\",\"BsmtFullBath\",\"BsmtHalfBath\",\n",
    "                                     \"FullBath\",\"HalfBath\",\"BedroomAbvGr\",\"KitchenAbvGr\",\"TotRmsAbvGrd\",\"Fireplaces\",\"YearBuilt\",\n",
    "                                     \"YearRemodAdd\",\"GarageCars\",\"GarageArea\",\"WoodDeckSF\",\"OpenPorchSF\",\"EnclosedPorch\",\"3SsnPorch\",\"ScreenPorch\",\"PoolArea\",\n",
    "                                     \"MiscVal\",\"MoSold\",\"YrSold\",\"LotShape2\"],outputCol=\"features\")"
   ]
  },
  {
   "cell_type": "code",
   "execution_count": null,
   "metadata": {},
   "outputs": [],
   "source": [
    "#transforming assembler\n",
    "output= assembler.transform(indexed)\n",
    "output.select(\"features\",\"SalePrice\")"
   ]
  },
  {
   "cell_type": "code",
   "execution_count": null,
   "metadata": {},
   "outputs": [],
   "source": [
    "#We can see column features is dense vector\n",
    "final = output.select(\"features\", \"SalePrice\")\n",
    "final.head(3)"
   ]
  },
  {
   "cell_type": "code",
   "execution_count": null,
   "metadata": {},
   "outputs": [],
   "source": [
    "#We will split data into train and validate\n",
    "train_df, valid_df = final.randomSplit([0.7, 0.3])\n",
    "train_df.describe().show()"
   ]
  },
  {
   "cell_type": "code",
   "execution_count": null,
   "metadata": {},
   "outputs": [],
   "source": [
    "#initializing and fitting model\n",
    "lr= LinearRegression(labelCol=\"SalePrice\")\n",
    "model= lr.fit(train_df)"
   ]
  },
  {
   "cell_type": "code",
   "execution_count": null,
   "metadata": {},
   "outputs": [],
   "source": [
    "#fitting model of validation set\n",
    "validate=model.evaluate(valid_df)"
   ]
  },
  {
   "cell_type": "code",
   "execution_count": null,
   "metadata": {},
   "outputs": [],
   "source": [
    "#let's check how model performed\n",
    "print(validate.rootMeanSquaredError)\n",
    "print(validate.r2)"
   ]
  }
 ],
 "metadata": {
  "kernelspec": {
   "display_name": "Python 3.8.10 64-bit (microsoft store)",
   "language": "python",
   "name": "python3"
  },
  "language_info": {
   "name": "python",
   "version": "3.8.10"
  },
  "orig_nbformat": 4,
  "vscode": {
   "interpreter": {
    "hash": "aaf5edabc44c88571c4d6b9ef24023248b21d69e1eb8175a770a6e63ccf0995c"
   }
  }
 },
 "nbformat": 4,
 "nbformat_minor": 2
}
