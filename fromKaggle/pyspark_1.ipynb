{
 "cells": [
  {
   "cell_type": "markdown",
   "metadata": {
    "papermill": {
     "duration": 0.038564,
     "end_time": "2021-04-07T17:43:36.241994",
     "exception": false,
     "start_time": "2021-04-07T17:43:36.203430",
     "status": "completed"
    },
    "tags": []
   },
   "source": [
    "# House Prices Prediction baseline (written on PySpark)\n",
    "**Task type:** Regression\n",
    "\n",
    "**Models used:** Linear Regression, RandomForest Regression\n",
    "\n",
    "<img src=\"http://www.freeiconspng.com/uploads/house-from-premier-builders-in-carthage-mo-64836--home-builders-5.png\" height=200 width=200>"
   ]
  },
  {
   "cell_type": "markdown",
   "metadata": {
    "papermill": {
     "duration": 0.036394,
     "end_time": "2021-04-07T17:43:36.317443",
     "exception": false,
     "start_time": "2021-04-07T17:43:36.281049",
     "status": "completed"
    },
    "tags": []
   },
   "source": [
    "*This notebook is a version of the solution to the Kaggle's **House Prices - Advanced Regression Techniques** competition. It was written using PySpark though the amount of data does not require using BigData techniques.*"
   ]
  },
  {
   "cell_type": "code",
   "execution_count": 73,
   "metadata": {
    "_cell_guid": "b1076dfc-b9ad-4769-8c92-a6c4dae69d19",
    "_uuid": "8f2839f25d086af736a60e9eeb907d3b93b6e0e5",
    "execution": {
     "iopub.execute_input": "2021-04-07T17:43:36.402044Z",
     "iopub.status.busy": "2021-04-07T17:43:36.401291Z",
     "iopub.status.idle": "2021-04-07T17:43:36.406488Z",
     "shell.execute_reply": "2021-04-07T17:43:36.407214Z"
    },
    "papermill": {
     "duration": 0.051108,
     "end_time": "2021-04-07T17:43:36.407740",
     "exception": false,
     "start_time": "2021-04-07T17:43:36.356632",
     "status": "completed"
    },
    "tags": []
   },
   "outputs": [],
   "source": [
    "# This Python 3 environment comes with many helpful analytics libraries installed\n",
    "# It is defined by the kaggle/python Docker image: https://github.com/kaggle/docker-python\n",
    "# For example, here's several helpful packages to load\n",
    "\n",
    "import numpy as np # linear algebra\n",
    "import pandas as pd # data processing, CSV file I/O (e.g. pd.read_csv)\n",
    "\n",
    "# Input data files are available in the read-only \"../input/\" directory\n",
    "# For example, running this (by clicking run or pressing Shift+Enter) will list all files under the input directory\n",
    "\n",
    "import os\n",
    "for dirname, _, filenames in os.walk('/kaggle/input'):\n",
    "    for filename in filenames:\n",
    "        print(os.path.join(dirname, filename))\n",
    "\n",
    "# You can write up to 20GB to the current directory (/kaggle/working/) that gets preserved as output when you create a version using \"Save & Run All\" \n",
    "# You can also write temporary files to /kaggle/temp/, but they won't be saved outside of the current session"
   ]
  },
  {
   "cell_type": "markdown",
   "metadata": {
    "papermill": {
     "duration": 0.037325,
     "end_time": "2021-04-07T17:43:36.483932",
     "exception": false,
     "start_time": "2021-04-07T17:43:36.446607",
     "status": "completed"
    },
    "tags": []
   },
   "source": [
    "**Installing PySpark in cause you don't have it preinstalled on your environment.**"
   ]
  },
  {
   "cell_type": "code",
   "execution_count": 58,
   "metadata": {
    "execution": {
     "iopub.execute_input": "2021-04-07T17:43:36.563488Z",
     "iopub.status.busy": "2021-04-07T17:43:36.562766Z",
     "iopub.status.idle": "2021-04-07T17:44:18.680885Z",
     "shell.execute_reply": "2021-04-07T17:44:18.681455Z"
    },
    "papermill": {
     "duration": 42.160358,
     "end_time": "2021-04-07T17:44:18.681718",
     "exception": false,
     "start_time": "2021-04-07T17:43:36.521360",
     "status": "completed"
    },
    "tags": []
   },
   "outputs": [
    {
     "name": "stdout",
     "output_type": "stream",
     "text": [
      "Requirement already satisfied: pyspark in c:\\users\\sergi\\appdata\\local\\packages\\pythonsoftwarefoundation.python.3.8_qbz5n2kfra8p0\\localcache\\local-packages\\python38\\site-packages (3.3.0)\n",
      "Requirement already satisfied: py4j==0.10.9.5 in c:\\users\\sergi\\appdata\\local\\packages\\pythonsoftwarefoundation.python.3.8_qbz5n2kfra8p0\\localcache\\local-packages\\python38\\site-packages (from pyspark) (0.10.9.5)\n",
      "Note: you may need to restart the kernel to use updated packages.\n"
     ]
    },
    {
     "name": "stderr",
     "output_type": "stream",
     "text": [
      "WARNING: You are using pip version 21.1.1; however, version 22.1.2 is available.\n",
      "You should consider upgrading via the 'C:\\Users\\sergi\\AppData\\Local\\Microsoft\\WindowsApps\\PythonSoftwareFoundation.Python.3.8_qbz5n2kfra8p0\\python.exe -m pip install --upgrade pip' command.\n"
     ]
    }
   ],
   "source": [
    "pip install pyspark"
   ]
  },
  {
   "cell_type": "markdown",
   "metadata": {
    "papermill": {
     "duration": 0.160052,
     "end_time": "2021-04-07T17:44:19.002041",
     "exception": false,
     "start_time": "2021-04-07T17:44:18.841989",
     "status": "completed"
    },
    "tags": []
   },
   "source": [
    "# 1. Initiate Spark environment"
   ]
  },
  {
   "cell_type": "code",
   "execution_count": 74,
   "metadata": {
    "execution": {
     "iopub.execute_input": "2021-04-07T17:44:19.328410Z",
     "iopub.status.busy": "2021-04-07T17:44:19.327527Z",
     "iopub.status.idle": "2021-04-07T17:44:19.622940Z",
     "shell.execute_reply": "2021-04-07T17:44:19.622091Z"
    },
    "papermill": {
     "duration": 0.461435,
     "end_time": "2021-04-07T17:44:19.623150",
     "exception": false,
     "start_time": "2021-04-07T17:44:19.161715",
     "status": "completed"
    },
    "tags": []
   },
   "outputs": [],
   "source": [
    "from pyspark import SparkConf, SparkContext\n",
    "from pyspark.sql import SparkSession, SQLContext\n",
    "\n",
    "from pyspark.sql.types import *\n",
    "import pyspark.sql.functions as F\n",
    "from pyspark.sql.functions import udf, col\n",
    "\n",
    "from pyspark.ml.regression import LinearRegression\n",
    "from pyspark.mllib.evaluation import RegressionMetrics\n",
    "\n",
    "from pyspark.ml.tuning import ParamGridBuilder, CrossValidator, CrossValidatorModel\n",
    "from pyspark.ml.feature import VectorAssembler, StandardScaler\n",
    "from pyspark.ml.evaluation import RegressionEvaluator"
   ]
  },
  {
   "cell_type": "code",
   "execution_count": 75,
   "metadata": {
    "execution": {
     "iopub.execute_input": "2021-04-07T17:44:19.941476Z",
     "iopub.status.busy": "2021-04-07T17:44:19.940408Z",
     "iopub.status.idle": "2021-04-07T17:44:21.005298Z",
     "shell.execute_reply": "2021-04-07T17:44:21.004412Z"
    },
    "papermill": {
     "duration": 1.22831,
     "end_time": "2021-04-07T17:44:21.005484",
     "exception": false,
     "start_time": "2021-04-07T17:44:19.777174",
     "status": "completed"
    },
    "tags": []
   },
   "outputs": [],
   "source": [
    "import matplotlib.pyplot as plt\n",
    "import seaborn as sns\n",
    "\n",
    "from scipy import stats\n",
    "from scipy.stats import norm, skew "
   ]
  },
  {
   "cell_type": "code",
   "execution_count": 76,
   "metadata": {
    "execution": {
     "iopub.execute_input": "2021-04-07T17:44:21.333859Z",
     "iopub.status.busy": "2021-04-07T17:44:21.332933Z",
     "iopub.status.idle": "2021-04-07T17:44:28.313381Z",
     "shell.execute_reply": "2021-04-07T17:44:28.312436Z"
    },
    "papermill": {
     "duration": 7.143118,
     "end_time": "2021-04-07T17:44:28.313650",
     "exception": false,
     "start_time": "2021-04-07T17:44:21.170532",
     "status": "completed"
    },
    "tags": []
   },
   "outputs": [],
   "source": [
    "spark_session = SparkSession.builder.master(\"local[2]\").appName(\"HousingRegression\").getOrCreate()"
   ]
  },
  {
   "cell_type": "code",
   "execution_count": 77,
   "metadata": {
    "execution": {
     "iopub.execute_input": "2021-04-07T17:44:28.636788Z",
     "iopub.status.busy": "2021-04-07T17:44:28.635992Z",
     "iopub.status.idle": "2021-04-07T17:44:28.639548Z",
     "shell.execute_reply": "2021-04-07T17:44:28.638988Z"
    },
    "papermill": {
     "duration": 0.169352,
     "end_time": "2021-04-07T17:44:28.639742",
     "exception": false,
     "start_time": "2021-04-07T17:44:28.470390",
     "status": "completed"
    },
    "tags": []
   },
   "outputs": [],
   "source": [
    "spark_context = spark_session.sparkContext\n"
   ]
  },
  {
   "cell_type": "code",
   "execution_count": 78,
   "metadata": {
    "execution": {
     "iopub.execute_input": "2021-04-07T17:44:28.962595Z",
     "iopub.status.busy": "2021-04-07T17:44:28.961735Z",
     "iopub.status.idle": "2021-04-07T17:44:28.968754Z",
     "shell.execute_reply": "2021-04-07T17:44:28.969331Z"
    },
    "papermill": {
     "duration": 0.173396,
     "end_time": "2021-04-07T17:44:28.969569",
     "exception": false,
     "start_time": "2021-04-07T17:44:28.796173",
     "status": "completed"
    },
    "tags": []
   },
   "outputs": [
    {
     "name": "stderr",
     "output_type": "stream",
     "text": [
      "C:\\Users\\sergi\\AppData\\Local\\Packages\\PythonSoftwareFoundation.Python.3.8_qbz5n2kfra8p0\\LocalCache\\local-packages\\Python38\\site-packages\\pyspark\\sql\\context.py:112: FutureWarning: Deprecated in 3.0.0. Use SparkSession.builder.getOrCreate() instead.\n",
      "  warnings.warn(\n"
     ]
    }
   ],
   "source": [
    "spark_sql_context = SQLContext(spark_context)"
   ]
  },
  {
   "cell_type": "markdown",
   "metadata": {
    "papermill": {
     "duration": 0.156702,
     "end_time": "2021-04-07T17:44:29.284172",
     "exception": false,
     "start_time": "2021-04-07T17:44:29.127470",
     "status": "completed"
    },
    "tags": []
   },
   "source": [
    "# 2. Loading data & EDA"
   ]
  },
  {
   "cell_type": "code",
   "execution_count": 79,
   "metadata": {
    "execution": {
     "iopub.execute_input": "2021-04-07T17:44:29.605469Z",
     "iopub.status.busy": "2021-04-07T17:44:29.604430Z",
     "iopub.status.idle": "2021-04-07T17:44:29.607393Z",
     "shell.execute_reply": "2021-04-07T17:44:29.606549Z"
    },
    "papermill": {
     "duration": 0.165451,
     "end_time": "2021-04-07T17:44:29.607583",
     "exception": false,
     "start_time": "2021-04-07T17:44:29.442132",
     "status": "completed"
    },
    "tags": []
   },
   "outputs": [],
   "source": [
    "TRAIN_INPUT = '../dataset/train.csv'\n",
    "TEST_INPUT = '../dataset/test.csv'\n"
   ]
  },
  {
   "cell_type": "markdown",
   "metadata": {
    "papermill": {
     "duration": 0.157683,
     "end_time": "2021-04-07T17:44:29.921196",
     "exception": false,
     "start_time": "2021-04-07T17:44:29.763513",
     "status": "completed"
    },
    "tags": []
   },
   "source": [
    "**First, let's us pandas to handle the missing data and do some visualizations.**"
   ]
  },
  {
   "cell_type": "code",
   "execution_count": 80,
   "metadata": {
    "execution": {
     "iopub.execute_input": "2021-04-07T17:44:30.241173Z",
     "iopub.status.busy": "2021-04-07T17:44:30.240414Z",
     "iopub.status.idle": "2021-04-07T17:44:30.354964Z",
     "shell.execute_reply": "2021-04-07T17:44:30.354317Z"
    },
    "papermill": {
     "duration": 0.276245,
     "end_time": "2021-04-07T17:44:30.355144",
     "exception": false,
     "start_time": "2021-04-07T17:44:30.078899",
     "status": "completed"
    },
    "tags": []
   },
   "outputs": [],
   "source": [
    "pd_train = pd.read_csv(TRAIN_INPUT)\n",
    "pd_test = pd.read_csv(TEST_INPUT)\n",
    "na_cols = pd_train.columns[pd_train.isna().any()].tolist()\n"
   ]
  },
  {
   "cell_type": "markdown",
   "metadata": {
    "papermill": {
     "duration": 0.158783,
     "end_time": "2021-04-07T17:44:30.671111",
     "exception": false,
     "start_time": "2021-04-07T17:44:30.512328",
     "status": "completed"
    },
    "tags": []
   },
   "source": [
    "**QQ-plot**"
   ]
  },
  {
   "cell_type": "code",
   "execution_count": 81,
   "metadata": {
    "execution": {
     "iopub.execute_input": "2021-04-07T17:44:31.022870Z",
     "iopub.status.busy": "2021-04-07T17:44:31.011956Z",
     "iopub.status.idle": "2021-04-07T17:44:31.219309Z",
     "shell.execute_reply": "2021-04-07T17:44:31.219972Z"
    },
    "papermill": {
     "duration": 0.38916,
     "end_time": "2021-04-07T17:44:31.220221",
     "exception": false,
     "start_time": "2021-04-07T17:44:30.831061",
     "status": "completed"
    },
    "tags": []
   },
   "outputs": [
    {
     "data": {
      "image/png": "[encoded data removed]",
      "text/plain": [
       "<Figure size 432x288 with 1 Axes>"
      ]
     },
     "metadata": {
      "needs_background": "light"
     },
     "output_type": "display_data"
    }
   ],
   "source": [
    "# Let's Explore how SalePrice is distributed against normal theoretical quantiles\n",
    "fig = plt.figure()\n",
    "ax = fig.add_subplot()\n",
    "res = stats.probplot(pd_train['SalePrice'], plot=plt)"
   ]
  },
  {
   "cell_type": "markdown",
   "metadata": {
    "papermill": {
     "duration": 0.157588,
     "end_time": "2021-04-07T17:44:31.534509",
     "exception": false,
     "start_time": "2021-04-07T17:44:31.376921",
     "status": "completed"
    },
    "tags": []
   },
   "source": [
    "**Dist plot (normal vs factual distribution of SalePrice)**"
   ]
  },
  {
   "cell_type": "code",
   "execution_count": 82,
   "metadata": {
    "execution": {
     "iopub.execute_input": "2021-04-07T17:44:31.860893Z",
     "iopub.status.busy": "2021-04-07T17:44:31.860146Z",
     "iopub.status.idle": "2021-04-07T17:44:32.278356Z",
     "shell.execute_reply": "2021-04-07T17:44:32.277600Z"
    },
    "papermill": {
     "duration": 0.585307,
     "end_time": "2021-04-07T17:44:32.278537",
     "exception": false,
     "start_time": "2021-04-07T17:44:31.693230",
     "status": "completed"
    },
    "tags": []
   },
   "outputs": [
    {
     "name": "stderr",
     "output_type": "stream",
     "text": [
      "C:\\Users\\sergi\\AppData\\Local\\Packages\\PythonSoftwareFoundation.Python.3.8_qbz5n2kfra8p0\\LocalCache\\local-packages\\Python38\\site-packages\\seaborn\\distributions.py:2619: FutureWarning: `distplot` is a deprecated function and will be removed in a future version. Please adapt your code to use either `displot` (a figure-level function with similar flexibility) or `histplot` (an axes-level function for histograms).\n",
      "  warnings.warn(msg, FutureWarning)\n"
     ]
    },
    {
     "data": {
      "text/plain": [
       "Text(0.5, 1.0, 'SalePrice distribution')"
      ]
     },
     "execution_count": 82,
     "metadata": {},
     "output_type": "execute_result"
    },
    {
     "data": {
      "image/png": "[encoded data removed]",
      "text/plain": [
       "<Figure size 432x288 with 1 Axes>"
      ]
     },
     "metadata": {
      "needs_background": "light"
     },
     "output_type": "display_data"
    }
   ],
   "source": [
    "sns.distplot(pd_train['SalePrice'] , fit=norm);\n",
    "\n",
    "# parameters\n",
    "(mu, sigma) = norm.fit(pd_train['SalePrice'])\n",
    "\n",
    "plt.suptitle('Normal distribution with mu = {:.2f} and sigma = {:.2f}'.format(mu, sigma))\n",
    "plt.ylabel('Frequency')\n",
    "plt.title('SalePrice distribution')\n",
    "\n"
   ]
  },
  {
   "cell_type": "markdown",
   "metadata": {
    "papermill": {
     "duration": 0.157799,
     "end_time": "2021-04-07T17:44:32.640306",
     "exception": false,
     "start_time": "2021-04-07T17:44:32.482507",
     "status": "completed"
    },
    "tags": []
   },
   "source": [
    "**Now let's build a correlation matrix**"
   ]
  },
  {
   "cell_type": "code",
   "execution_count": 83,
   "metadata": {
    "execution": {
     "iopub.execute_input": "2021-04-07T17:44:32.969468Z",
     "iopub.status.busy": "2021-04-07T17:44:32.968712Z",
     "iopub.status.idle": "2021-04-07T17:44:32.982053Z",
     "shell.execute_reply": "2021-04-07T17:44:32.981298Z"
    },
    "papermill": {
     "duration": 0.182204,
     "end_time": "2021-04-07T17:44:32.982243",
     "exception": false,
     "start_time": "2021-04-07T17:44:32.800039",
     "status": "completed"
    },
    "tags": []
   },
   "outputs": [],
   "source": [
    "corr = pd_train.corr()"
   ]
  },
  {
   "cell_type": "code",
   "execution_count": 86,
   "metadata": {
    "execution": {
     "iopub.execute_input": "2021-04-07T17:44:33.311606Z",
     "iopub.status.busy": "2021-04-07T17:44:33.310770Z",
     "iopub.status.idle": "2021-04-07T17:44:33.419363Z",
     "shell.execute_reply": "2021-04-07T17:44:33.418729Z"
    },
    "papermill": {
     "duration": 0.275215,
     "end_time": "2021-04-07T17:44:33.419552",
     "exception": false,
     "start_time": "2021-04-07T17:44:33.144337",
     "status": "completed"
    },
    "tags": []
   },
   "outputs": [
    {
     "data": {
      "text/html": [
       "<style type=\"text/css\">\n",
       "#T_52118_row0_col0 {\n",
       "  background-color: #fde725;\n",
       "  color: #000000;\n",
       "}\n",
       "#T_52118_row1_col0 {\n",
       "  background-color: #84d44b;\n",
       "  color: #000000;\n",
       "}\n",
       "#T_52118_row2_col0 {\n",
       "  background-color: #5ac864;\n",
       "  color: #000000;\n",
       "}\n",
       "#T_52118_row3_col0 {\n",
       "  background-color: #3bbb75;\n",
       "  color: #f1f1f1;\n",
       "}\n",
       "#T_52118_row4_col0 {\n",
       "  background-color: #37b878;\n",
       "  color: #f1f1f1;\n",
       "}\n",
       "#T_52118_row5_col0 {\n",
       "  background-color: #32b67a;\n",
       "  color: #f1f1f1;\n",
       "}\n",
       "#T_52118_row6_col0 {\n",
       "  background-color: #31b57b;\n",
       "  color: #f1f1f1;\n",
       "}\n",
       "#T_52118_row7_col0 {\n",
       "  background-color: #25ab82;\n",
       "  color: #f1f1f1;\n",
       "}\n",
       "#T_52118_row8_col0 {\n",
       "  background-color: #21a585;\n",
       "  color: #f1f1f1;\n",
       "}\n",
       "#T_52118_row9_col0 {\n",
       "  background-color: #20a386;\n",
       "  color: #f1f1f1;\n",
       "}\n",
       "#T_52118_row10_col0 {\n",
       "  background-color: #1fa088;\n",
       "  color: #f1f1f1;\n",
       "}\n",
       "#T_52118_row11_col0 {\n",
       "  background-color: #1e9c89;\n",
       "  color: #f1f1f1;\n",
       "}\n",
       "#T_52118_row12_col0 {\n",
       "  background-color: #1f9a8a;\n",
       "  color: #f1f1f1;\n",
       "}\n",
       "#T_52118_row13_col0 {\n",
       "  background-color: #1f978b;\n",
       "  color: #f1f1f1;\n",
       "}\n",
       "#T_52118_row14_col0 {\n",
       "  background-color: #24868e;\n",
       "  color: #f1f1f1;\n",
       "}\n",
       "#T_52118_row15_col0 {\n",
       "  background-color: #277f8e;\n",
       "  color: #f1f1f1;\n",
       "}\n",
       "#T_52118_row16_col0 {\n",
       "  background-color: #29798e;\n",
       "  color: #f1f1f1;\n",
       "}\n",
       "#T_52118_row17_col0 {\n",
       "  background-color: #2a788e;\n",
       "  color: #f1f1f1;\n",
       "}\n",
       "#T_52118_row18_col0 {\n",
       "  background-color: #2a778e;\n",
       "  color: #f1f1f1;\n",
       "}\n",
       "#T_52118_row19_col0 {\n",
       "  background-color: #2d718e;\n",
       "  color: #f1f1f1;\n",
       "}\n",
       "#T_52118_row20_col0 {\n",
       "  background-color: #2e6d8e;\n",
       "  color: #f1f1f1;\n",
       "}\n",
       "#T_52118_row21_col0 {\n",
       "  background-color: #32648e;\n",
       "  color: #f1f1f1;\n",
       "}\n",
       "#T_52118_row22_col0 {\n",
       "  background-color: #34618d;\n",
       "  color: #f1f1f1;\n",
       "}\n",
       "#T_52118_row23_col0 {\n",
       "  background-color: #39568c;\n",
       "  color: #f1f1f1;\n",
       "}\n",
       "#T_52118_row24_col0 {\n",
       "  background-color: #3f4889;\n",
       "  color: #f1f1f1;\n",
       "}\n",
       "#T_52118_row25_col0 {\n",
       "  background-color: #414487;\n",
       "  color: #f1f1f1;\n",
       "}\n",
       "#T_52118_row26_col0 {\n",
       "  background-color: #453882;\n",
       "  color: #f1f1f1;\n",
       "}\n",
       "#T_52118_row27_col0 {\n",
       "  background-color: #453781;\n",
       "  color: #f1f1f1;\n",
       "}\n",
       "#T_52118_row28_col0 {\n",
       "  background-color: #482878;\n",
       "  color: #f1f1f1;\n",
       "}\n",
       "#T_52118_row29_col0 {\n",
       "  background-color: #482576;\n",
       "  color: #f1f1f1;\n",
       "}\n",
       "#T_52118_row30_col0, #T_52118_row31_col0 {\n",
       "  background-color: #482475;\n",
       "  color: #f1f1f1;\n",
       "}\n",
       "#T_52118_row32_col0, #T_52118_row33_col0 {\n",
       "  background-color: #482374;\n",
       "  color: #f1f1f1;\n",
       "}\n",
       "#T_52118_row34_col0 {\n",
       "  background-color: #481467;\n",
       "  color: #f1f1f1;\n",
       "}\n",
       "#T_52118_row35_col0 {\n",
       "  background-color: #471164;\n",
       "  color: #f1f1f1;\n",
       "}\n",
       "#T_52118_row36_col0 {\n",
       "  background-color: #440256;\n",
       "  color: #f1f1f1;\n",
       "}\n",
       "#T_52118_row37_col0 {\n",
       "  background-color: #440154;\n",
       "  color: #f1f1f1;\n",
       "}\n",
       "</style>\n",
       "<table id=\"T_52118\">\n",
       "  <thead>\n",
       "    <tr>\n",
       "      <th class=\"blank level0\" >&nbsp;</th>\n",
       "      <th id=\"T_52118_level0_col0\" class=\"col_heading level0 col0\" >SalePrice</th>\n",
       "    </tr>\n",
       "  </thead>\n",
       "  <tbody>\n",
       "    <tr>\n",
       "      <th id=\"T_52118_level0_row0\" class=\"row_heading level0 row0\" >SalePrice</th>\n",
       "      <td id=\"T_52118_row0_col0\" class=\"data row0 col0\" >1.000000</td>\n",
       "    </tr>\n",
       "    <tr>\n",
       "      <th id=\"T_52118_level0_row1\" class=\"row_heading level0 row1\" >OverallQual</th>\n",
       "      <td id=\"T_52118_row1_col0\" class=\"data row1 col0\" >0.790982</td>\n",
       "    </tr>\n",
       "    <tr>\n",
       "      <th id=\"T_52118_level0_row2\" class=\"row_heading level0 row2\" >GrLivArea</th>\n",
       "      <td id=\"T_52118_row2_col0\" class=\"data row2 col0\" >0.708624</td>\n",
       "    </tr>\n",
       "    <tr>\n",
       "      <th id=\"T_52118_level0_row3\" class=\"row_heading level0 row3\" >GarageCars</th>\n",
       "      <td id=\"T_52118_row3_col0\" class=\"data row3 col0\" >0.640409</td>\n",
       "    </tr>\n",
       "    <tr>\n",
       "      <th id=\"T_52118_level0_row4\" class=\"row_heading level0 row4\" >GarageArea</th>\n",
       "      <td id=\"T_52118_row4_col0\" class=\"data row4 col0\" >0.623431</td>\n",
       "    </tr>\n",
       "    <tr>\n",
       "      <th id=\"T_52118_level0_row5\" class=\"row_heading level0 row5\" >TotalBsmtSF</th>\n",
       "      <td id=\"T_52118_row5_col0\" class=\"data row5 col0\" >0.613581</td>\n",
       "    </tr>\n",
       "    <tr>\n",
       "      <th id=\"T_52118_level0_row6\" class=\"row_heading level0 row6\" >1stFlrSF</th>\n",
       "      <td id=\"T_52118_row6_col0\" class=\"data row6 col0\" >0.605852</td>\n",
       "    </tr>\n",
       "    <tr>\n",
       "      <th id=\"T_52118_level0_row7\" class=\"row_heading level0 row7\" >FullBath</th>\n",
       "      <td id=\"T_52118_row7_col0\" class=\"data row7 col0\" >0.560664</td>\n",
       "    </tr>\n",
       "    <tr>\n",
       "      <th id=\"T_52118_level0_row8\" class=\"row_heading level0 row8\" >TotRmsAbvGrd</th>\n",
       "      <td id=\"T_52118_row8_col0\" class=\"data row8 col0\" >0.533723</td>\n",
       "    </tr>\n",
       "    <tr>\n",
       "      <th id=\"T_52118_level0_row9\" class=\"row_heading level0 row9\" >YearBuilt</th>\n",
       "      <td id=\"T_52118_row9_col0\" class=\"data row9 col0\" >0.522897</td>\n",
       "    </tr>\n",
       "    <tr>\n",
       "      <th id=\"T_52118_level0_row10\" class=\"row_heading level0 row10\" >YearRemodAdd</th>\n",
       "      <td id=\"T_52118_row10_col0\" class=\"data row10 col0\" >0.507101</td>\n",
       "    </tr>\n",
       "    <tr>\n",
       "      <th id=\"T_52118_level0_row11\" class=\"row_heading level0 row11\" >GarageYrBlt</th>\n",
       "      <td id=\"T_52118_row11_col0\" class=\"data row11 col0\" >0.486362</td>\n",
       "    </tr>\n",
       "    <tr>\n",
       "      <th id=\"T_52118_level0_row12\" class=\"row_heading level0 row12\" >MasVnrArea</th>\n",
       "      <td id=\"T_52118_row12_col0\" class=\"data row12 col0\" >0.477493</td>\n",
       "    </tr>\n",
       "    <tr>\n",
       "      <th id=\"T_52118_level0_row13\" class=\"row_heading level0 row13\" >Fireplaces</th>\n",
       "      <td id=\"T_52118_row13_col0\" class=\"data row13 col0\" >0.466929</td>\n",
       "    </tr>\n",
       "    <tr>\n",
       "      <th id=\"T_52118_level0_row14\" class=\"row_heading level0 row14\" >BsmtFinSF1</th>\n",
       "      <td id=\"T_52118_row14_col0\" class=\"data row14 col0\" >0.386420</td>\n",
       "    </tr>\n",
       "    <tr>\n",
       "      <th id=\"T_52118_level0_row15\" class=\"row_heading level0 row15\" >LotFrontage</th>\n",
       "      <td id=\"T_52118_row15_col0\" class=\"data row15 col0\" >0.351799</td>\n",
       "    </tr>\n",
       "    <tr>\n",
       "      <th id=\"T_52118_level0_row16\" class=\"row_heading level0 row16\" >WoodDeckSF</th>\n",
       "      <td id=\"T_52118_row16_col0\" class=\"data row16 col0\" >0.324413</td>\n",
       "    </tr>\n",
       "    <tr>\n",
       "      <th id=\"T_52118_level0_row17\" class=\"row_heading level0 row17\" >2ndFlrSF</th>\n",
       "      <td id=\"T_52118_row17_col0\" class=\"data row17 col0\" >0.319334</td>\n",
       "    </tr>\n",
       "    <tr>\n",
       "      <th id=\"T_52118_level0_row18\" class=\"row_heading level0 row18\" >OpenPorchSF</th>\n",
       "      <td id=\"T_52118_row18_col0\" class=\"data row18 col0\" >0.315856</td>\n",
       "    </tr>\n",
       "    <tr>\n",
       "      <th id=\"T_52118_level0_row19\" class=\"row_heading level0 row19\" >HalfBath</th>\n",
       "      <td id=\"T_52118_row19_col0\" class=\"data row19 col0\" >0.284108</td>\n",
       "    </tr>\n",
       "    <tr>\n",
       "      <th id=\"T_52118_level0_row20\" class=\"row_heading level0 row20\" >LotArea</th>\n",
       "      <td id=\"T_52118_row20_col0\" class=\"data row20 col0\" >0.263843</td>\n",
       "    </tr>\n",
       "    <tr>\n",
       "      <th id=\"T_52118_level0_row21\" class=\"row_heading level0 row21\" >BsmtFullBath</th>\n",
       "      <td id=\"T_52118_row21_col0\" class=\"data row21 col0\" >0.227122</td>\n",
       "    </tr>\n",
       "    <tr>\n",
       "      <th id=\"T_52118_level0_row22\" class=\"row_heading level0 row22\" >BsmtUnfSF</th>\n",
       "      <td id=\"T_52118_row22_col0\" class=\"data row22 col0\" >0.214479</td>\n",
       "    </tr>\n",
       "    <tr>\n",
       "      <th id=\"T_52118_level0_row23\" class=\"row_heading level0 row23\" >BedroomAbvGr</th>\n",
       "      <td id=\"T_52118_row23_col0\" class=\"data row23 col0\" >0.168213</td>\n",
       "    </tr>\n",
       "    <tr>\n",
       "      <th id=\"T_52118_level0_row24\" class=\"row_heading level0 row24\" >ScreenPorch</th>\n",
       "      <td id=\"T_52118_row24_col0\" class=\"data row24 col0\" >0.111447</td>\n",
       "    </tr>\n",
       "    <tr>\n",
       "      <th id=\"T_52118_level0_row25\" class=\"row_heading level0 row25\" >PoolArea</th>\n",
       "      <td id=\"T_52118_row25_col0\" class=\"data row25 col0\" >0.092404</td>\n",
       "    </tr>\n",
       "    <tr>\n",
       "      <th id=\"T_52118_level0_row26\" class=\"row_heading level0 row26\" >MoSold</th>\n",
       "      <td id=\"T_52118_row26_col0\" class=\"data row26 col0\" >0.046432</td>\n",
       "    </tr>\n",
       "    <tr>\n",
       "      <th id=\"T_52118_level0_row27\" class=\"row_heading level0 row27\" >3SsnPorch</th>\n",
       "      <td id=\"T_52118_row27_col0\" class=\"data row27 col0\" >0.044584</td>\n",
       "    </tr>\n",
       "    <tr>\n",
       "      <th id=\"T_52118_level0_row28\" class=\"row_heading level0 row28\" >BsmtFinSF2</th>\n",
       "      <td id=\"T_52118_row28_col0\" class=\"data row28 col0\" >-0.011378</td>\n",
       "    </tr>\n",
       "    <tr>\n",
       "      <th id=\"T_52118_level0_row29\" class=\"row_heading level0 row29\" >BsmtHalfBath</th>\n",
       "      <td id=\"T_52118_row29_col0\" class=\"data row29 col0\" >-0.016844</td>\n",
       "    </tr>\n",
       "    <tr>\n",
       "      <th id=\"T_52118_level0_row30\" class=\"row_heading level0 row30\" >MiscVal</th>\n",
       "      <td id=\"T_52118_row30_col0\" class=\"data row30 col0\" >-0.021190</td>\n",
       "    </tr>\n",
       "    <tr>\n",
       "      <th id=\"T_52118_level0_row31\" class=\"row_heading level0 row31\" >Id</th>\n",
       "      <td id=\"T_52118_row31_col0\" class=\"data row31 col0\" >-0.021917</td>\n",
       "    </tr>\n",
       "    <tr>\n",
       "      <th id=\"T_52118_level0_row32\" class=\"row_heading level0 row32\" >LowQualFinSF</th>\n",
       "      <td id=\"T_52118_row32_col0\" class=\"data row32 col0\" >-0.025606</td>\n",
       "    </tr>\n",
       "    <tr>\n",
       "      <th id=\"T_52118_level0_row33\" class=\"row_heading level0 row33\" >YrSold</th>\n",
       "      <td id=\"T_52118_row33_col0\" class=\"data row33 col0\" >-0.028923</td>\n",
       "    </tr>\n",
       "    <tr>\n",
       "      <th id=\"T_52118_level0_row34\" class=\"row_heading level0 row34\" >OverallCond</th>\n",
       "      <td id=\"T_52118_row34_col0\" class=\"data row34 col0\" >-0.077856</td>\n",
       "    </tr>\n",
       "    <tr>\n",
       "      <th id=\"T_52118_level0_row35\" class=\"row_heading level0 row35\" >MSSubClass</th>\n",
       "      <td id=\"T_52118_row35_col0\" class=\"data row35 col0\" >-0.084284</td>\n",
       "    </tr>\n",
       "    <tr>\n",
       "      <th id=\"T_52118_level0_row36\" class=\"row_heading level0 row36\" >EnclosedPorch</th>\n",
       "      <td id=\"T_52118_row36_col0\" class=\"data row36 col0\" >-0.128578</td>\n",
       "    </tr>\n",
       "    <tr>\n",
       "      <th id=\"T_52118_level0_row37\" class=\"row_heading level0 row37\" >KitchenAbvGr</th>\n",
       "      <td id=\"T_52118_row37_col0\" class=\"data row37 col0\" >-0.135907</td>\n",
       "    </tr>\n",
       "  </tbody>\n",
       "</table>\n"
      ],
      "text/plain": [
       "<pandas.io.formats.style.Styler at 0x18a5843dd60>"
      ]
     },
     "execution_count": 86,
     "metadata": {},
     "output_type": "execute_result"
    }
   ],
   "source": [
    "corr[['SalePrice']].sort_values(by='SalePrice',ascending=False).style.background_gradient(cmap='viridis', axis=None)"
   ]
  },
  {
   "cell_type": "markdown",
   "metadata": {
    "papermill": {
     "duration": 0.163006,
     "end_time": "2021-04-07T17:44:33.742866",
     "exception": false,
     "start_time": "2021-04-07T17:44:33.579860",
     "status": "completed"
    },
    "tags": []
   },
   "source": [
    "**We can see that the top-10 features have a high correlation level with the target variable.**"
   ]
  },
  {
   "cell_type": "markdown",
   "metadata": {
    "papermill": {
     "duration": 0.168874,
     "end_time": "2021-04-07T17:44:34.072075",
     "exception": false,
     "start_time": "2021-04-07T17:44:33.903201",
     "status": "completed"
    },
    "tags": []
   },
   "source": [
    "**A good idea would be to create a new feature with 3-4 of top-features combined, which we will try later. [see \"New\" Feature]**"
   ]
  },
  {
   "cell_type": "markdown",
   "metadata": {
    "papermill": {
     "duration": 0.158504,
     "end_time": "2021-04-07T17:44:34.392072",
     "exception": false,
     "start_time": "2021-04-07T17:44:34.233568",
     "status": "completed"
    },
    "tags": []
   },
   "source": [
    "**Now let's explore the dataset for outliers.**"
   ]
  },
  {
   "cell_type": "code",
   "execution_count": null,
   "metadata": {
    "execution": {
     "iopub.execute_input": "2021-04-07T17:44:34.748936Z",
     "iopub.status.busy": "2021-04-07T17:44:34.740565Z",
     "iopub.status.idle": "2021-04-07T17:44:35.101241Z",
     "shell.execute_reply": "2021-04-07T17:44:35.100450Z"
    },
    "papermill": {
     "duration": 0.547966,
     "end_time": "2021-04-07T17:44:35.101415",
     "exception": false,
     "start_time": "2021-04-07T17:44:34.553449",
     "status": "completed"
    },
    "tags": []
   },
   "outputs": [
    {
     "data": {
      "text/plain": [
       "Text(0.5, 1.0, 'GarageCars vs SalePrice')"
      ]
     },
     "execution_count": 37,
     "metadata": {},
     "output_type": "execute_result"
    },
    {
     "data": {
      "image/png": "[encoded data removed]",
      "text/plain": [
       "<Figure size 1080x360 with 2 Axes>"
      ]
     },
     "metadata": {
      "needs_background": "light"
     },
     "output_type": "display_data"
    }
   ],
   "source": [
    "fig, axes = plt.subplots(1, 2, sharex=True, figsize=(15,5))\n",
    "axes[0].set_xlim(0,10)\n",
    "\n",
    "sns.scatterplot(data=pd_train, ax=axes[0], x='OverallQual', y='SalePrice')\n",
    "axes[0].set_title('OverallQual vs SalePrice')\n",
    "sns.scatterplot(data=pd_train, ax=axes[1], x='GarageCars', y='SalePrice')\n",
    "axes[1].set_title('GarageCars vs SalePrice')"
   ]
  },
  {
   "cell_type": "code",
   "execution_count": null,
   "metadata": {
    "execution": {
     "iopub.execute_input": "2021-04-07T17:44:35.454955Z",
     "iopub.status.busy": "2021-04-07T17:44:35.452000Z",
     "iopub.status.idle": "2021-04-07T17:44:35.815566Z",
     "shell.execute_reply": "2021-04-07T17:44:35.814900Z"
    },
    "papermill": {
     "duration": 0.551301,
     "end_time": "2021-04-07T17:44:35.815789",
     "exception": false,
     "start_time": "2021-04-07T17:44:35.264488",
     "status": "completed"
    },
    "tags": []
   },
   "outputs": [
    {
     "data": {
      "text/plain": [
       "Text(0.5, 1.0, 'GarageArea vs SalePrice')"
      ]
     },
     "execution_count": 39,
     "metadata": {},
     "output_type": "execute_result"
    },
    {
     "data": {
      "image/png": "[encoded data removed]",
      "text/plain": [
       "<Figure size 1080x360 with 2 Axes>"
      ]
     },
     "metadata": {
      "needs_background": "light"
     },
     "output_type": "display_data"
    }
   ],
   "source": [
    "fig, axes = plt.subplots(1, 2, sharex=True, figsize=(15,5))\n",
    "axes[0].set_xlim(0, 6000)\n",
    "\n",
    "sns.scatterplot(data=pd_train, ax=axes[0], x='GrLivArea', y='SalePrice')\n",
    "axes[0].set_title('GrLivArea vs SalePrice')\n",
    "sns.scatterplot(data=pd_train, ax=axes[1], x='GarageArea', y='SalePrice')\n",
    "axes[1].set_title('GarageArea vs SalePrice')"
   ]
  },
  {
   "cell_type": "code",
   "execution_count": null,
   "metadata": {
    "execution": {
     "iopub.execute_input": "2021-04-07T17:44:36.186237Z",
     "iopub.status.busy": "2021-04-07T17:44:36.181705Z",
     "iopub.status.idle": "2021-04-07T17:44:36.540863Z",
     "shell.execute_reply": "2021-04-07T17:44:36.540189Z"
    },
    "papermill": {
     "duration": 0.557647,
     "end_time": "2021-04-07T17:44:36.541060",
     "exception": false,
     "start_time": "2021-04-07T17:44:35.983413",
     "status": "completed"
    },
    "tags": []
   },
   "outputs": [
    {
     "data": {
      "text/plain": [
       "Text(0.5, 1.0, '1stFlrSF vs SalePrice')"
      ]
     },
     "execution_count": 40,
     "metadata": {},
     "output_type": "execute_result"
    },
    {
     "data": {
      "image/png": "[encoded data removed]",
      "text/plain": [
       "<Figure size 1080x360 with 2 Axes>"
      ]
     },
     "metadata": {
      "needs_background": "light"
     },
     "output_type": "display_data"
    }
   ],
   "source": [
    "fig, axes = plt.subplots(1, 2, sharex=True, figsize=(15,5))\n",
    "axes[0].set_xlim(0, 6000)\n",
    "\n",
    "sns.scatterplot(data=pd_train, ax=axes[0], x='TotalBsmtSF', y='SalePrice')\n",
    "axes[0].set_title('TotalBsmtSF vs SalePrice')\n",
    "sns.scatterplot(data=pd_train, ax=axes[1], x='1stFlrSF', y='SalePrice')\n",
    "axes[1].set_title('1stFlrSF vs SalePrice')"
   ]
  },
  {
   "cell_type": "markdown",
   "metadata": {
    "papermill": {
     "duration": 0.166622,
     "end_time": "2021-04-07T17:44:36.880146",
     "exception": false,
     "start_time": "2021-04-07T17:44:36.713524",
     "status": "completed"
    },
    "tags": []
   },
   "source": [
    "## Handling missing data: \n",
    "**determining the proportion of missing data from overall dataset.**"
   ]
  },
  {
   "cell_type": "code",
   "execution_count": null,
   "metadata": {
    "execution": {
     "iopub.execute_input": "2021-04-07T17:44:37.230023Z",
     "iopub.status.busy": "2021-04-07T17:44:37.229073Z",
     "iopub.status.idle": "2021-04-07T17:44:37.263734Z",
     "shell.execute_reply": "2021-04-07T17:44:37.264401Z"
    },
    "papermill": {
     "duration": 0.218462,
     "end_time": "2021-04-07T17:44:37.264624",
     "exception": false,
     "start_time": "2021-04-07T17:44:37.046162",
     "status": "completed"
    },
    "tags": []
   },
   "outputs": [
    {
     "data": {
      "text/html": [
       "<div>\n",
       "<style scoped>\n",
       "    .dataframe tbody tr th:only-of-type {\n",
       "        vertical-align: middle;\n",
       "    }\n",
       "\n",
       "    .dataframe tbody tr th {\n",
       "        vertical-align: top;\n",
       "    }\n",
       "\n",
       "    .dataframe thead th {\n",
       "        text-align: right;\n",
       "    }\n",
       "</style>\n",
       "<table border=\"1\" class=\"dataframe\">\n",
       "  <thead>\n",
       "    <tr style=\"text-align: right;\">\n",
       "      <th></th>\n",
       "      <th>Total</th>\n",
       "      <th>Perc_missing</th>\n",
       "    </tr>\n",
       "  </thead>\n",
       "  <tbody>\n",
       "    <tr>\n",
       "      <th>PoolQC</th>\n",
       "      <td>1453</td>\n",
       "      <td>0.995205</td>\n",
       "    </tr>\n",
       "    <tr>\n",
       "      <th>MiscFeature</th>\n",
       "      <td>1406</td>\n",
       "      <td>0.963014</td>\n",
       "    </tr>\n",
       "    <tr>\n",
       "      <th>Alley</th>\n",
       "      <td>1369</td>\n",
       "      <td>0.937671</td>\n",
       "    </tr>\n",
       "    <tr>\n",
       "      <th>Fence</th>\n",
       "      <td>1179</td>\n",
       "      <td>0.807534</td>\n",
       "    </tr>\n",
       "    <tr>\n",
       "      <th>FireplaceQu</th>\n",
       "      <td>690</td>\n",
       "      <td>0.472603</td>\n",
       "    </tr>\n",
       "    <tr>\n",
       "      <th>LotFrontage</th>\n",
       "      <td>259</td>\n",
       "      <td>0.177397</td>\n",
       "    </tr>\n",
       "    <tr>\n",
       "      <th>GarageType</th>\n",
       "      <td>81</td>\n",
       "      <td>0.055479</td>\n",
       "    </tr>\n",
       "    <tr>\n",
       "      <th>GarageYrBlt</th>\n",
       "      <td>81</td>\n",
       "      <td>0.055479</td>\n",
       "    </tr>\n",
       "    <tr>\n",
       "      <th>GarageCond</th>\n",
       "      <td>81</td>\n",
       "      <td>0.055479</td>\n",
       "    </tr>\n",
       "    <tr>\n",
       "      <th>GarageQual</th>\n",
       "      <td>81</td>\n",
       "      <td>0.055479</td>\n",
       "    </tr>\n",
       "    <tr>\n",
       "      <th>GarageFinish</th>\n",
       "      <td>81</td>\n",
       "      <td>0.055479</td>\n",
       "    </tr>\n",
       "    <tr>\n",
       "      <th>BsmtFinType2</th>\n",
       "      <td>38</td>\n",
       "      <td>0.026027</td>\n",
       "    </tr>\n",
       "    <tr>\n",
       "      <th>BsmtExposure</th>\n",
       "      <td>38</td>\n",
       "      <td>0.026027</td>\n",
       "    </tr>\n",
       "    <tr>\n",
       "      <th>BsmtQual</th>\n",
       "      <td>37</td>\n",
       "      <td>0.025342</td>\n",
       "    </tr>\n",
       "    <tr>\n",
       "      <th>BsmtCond</th>\n",
       "      <td>37</td>\n",
       "      <td>0.025342</td>\n",
       "    </tr>\n",
       "  </tbody>\n",
       "</table>\n",
       "</div>"
      ],
      "text/plain": [
       "              Total  Perc_missing\n",
       "PoolQC         1453      0.995205\n",
       "MiscFeature    1406      0.963014\n",
       "Alley          1369      0.937671\n",
       "Fence          1179      0.807534\n",
       "FireplaceQu     690      0.472603\n",
       "LotFrontage     259      0.177397\n",
       "GarageType       81      0.055479\n",
       "GarageYrBlt      81      0.055479\n",
       "GarageCond       81      0.055479\n",
       "GarageQual       81      0.055479\n",
       "GarageFinish     81      0.055479\n",
       "BsmtFinType2     38      0.026027\n",
       "BsmtExposure     38      0.026027\n",
       "BsmtQual         37      0.025342\n",
       "BsmtCond         37      0.025342"
      ]
     },
     "execution_count": 42,
     "metadata": {},
     "output_type": "execute_result"
    }
   ],
   "source": [
    "total = pd_train.isnull().sum().sort_values(ascending=False)\n",
    "percent = (pd_train.isnull().sum()/pd_train.shape[0]).sort_values(ascending=False)\n",
    "\n",
    "missing = pd.concat([total, percent], axis=1, keys=['Total', 'Perc_missing'])\n",
    "missing.head(15)"
   ]
  },
  {
   "cell_type": "code",
   "execution_count": null,
   "metadata": {
    "execution": {
     "iopub.execute_input": "2021-04-07T17:44:37.615823Z",
     "iopub.status.busy": "2021-04-07T17:44:37.614613Z",
     "iopub.status.idle": "2021-04-07T17:44:37.637101Z",
     "shell.execute_reply": "2021-04-07T17:44:37.637743Z"
    },
    "papermill": {
     "duration": 0.204952,
     "end_time": "2021-04-07T17:44:37.637961",
     "exception": false,
     "start_time": "2021-04-07T17:44:37.433009",
     "status": "completed"
    },
    "tags": []
   },
   "outputs": [
    {
     "name": "stderr",
     "output_type": "stream",
     "text": [
      "C:\\Users\\sergi\\AppData\\Local\\Temp\\ipykernel_27248\\3408229438.py:3: FutureWarning: In a future version of pandas all arguments of DataFrame.drop except for the argument 'labels' will be keyword-only.\n",
      "  pd_train = pd_train.drop((missing[missing['Perc_missing'] >= 0.15]).index,1)\n"
     ]
    },
    {
     "data": {
      "text/html": [
       "<div>\n",
       "<style scoped>\n",
       "    .dataframe tbody tr th:only-of-type {\n",
       "        vertical-align: middle;\n",
       "    }\n",
       "\n",
       "    .dataframe tbody tr th {\n",
       "        vertical-align: top;\n",
       "    }\n",
       "\n",
       "    .dataframe thead th {\n",
       "        text-align: right;\n",
       "    }\n",
       "</style>\n",
       "<table border=\"1\" class=\"dataframe\">\n",
       "  <thead>\n",
       "    <tr style=\"text-align: right;\">\n",
       "      <th></th>\n",
       "      <th>Id</th>\n",
       "      <th>MSSubClass</th>\n",
       "      <th>MSZoning</th>\n",
       "      <th>LotArea</th>\n",
       "      <th>Street</th>\n",
       "      <th>LotShape</th>\n",
       "      <th>LandContour</th>\n",
       "      <th>Utilities</th>\n",
       "      <th>LotConfig</th>\n",
       "      <th>LandSlope</th>\n",
       "      <th>...</th>\n",
       "      <th>3SsnPorch</th>\n",
       "      <th>ScreenPorch</th>\n",
       "      <th>PoolArea</th>\n",
       "      <th>MiscVal</th>\n",
       "      <th>MoSold</th>\n",
       "      <th>YrSold</th>\n",
       "      <th>SaleType</th>\n",
       "      <th>SaleCondition</th>\n",
       "      <th>SalePrice</th>\n",
       "      <th>New</th>\n",
       "    </tr>\n",
       "  </thead>\n",
       "  <tbody>\n",
       "    <tr>\n",
       "      <th>0</th>\n",
       "      <td>1</td>\n",
       "      <td>60</td>\n",
       "      <td>RL</td>\n",
       "      <td>8450</td>\n",
       "      <td>Pave</td>\n",
       "      <td>Reg</td>\n",
       "      <td>Lvl</td>\n",
       "      <td>AllPub</td>\n",
       "      <td>Inside</td>\n",
       "      <td>Gtl</td>\n",
       "      <td>...</td>\n",
       "      <td>0</td>\n",
       "      <td>0</td>\n",
       "      <td>0</td>\n",
       "      <td>0</td>\n",
       "      <td>2</td>\n",
       "      <td>2008</td>\n",
       "      <td>WD</td>\n",
       "      <td>Normal</td>\n",
       "      <td>208500</td>\n",
       "      <td>6559560</td>\n",
       "    </tr>\n",
       "    <tr>\n",
       "      <th>1</th>\n",
       "      <td>2</td>\n",
       "      <td>20</td>\n",
       "      <td>RL</td>\n",
       "      <td>9600</td>\n",
       "      <td>Pave</td>\n",
       "      <td>Reg</td>\n",
       "      <td>Lvl</td>\n",
       "      <td>AllPub</td>\n",
       "      <td>FR2</td>\n",
       "      <td>Gtl</td>\n",
       "      <td>...</td>\n",
       "      <td>0</td>\n",
       "      <td>0</td>\n",
       "      <td>0</td>\n",
       "      <td>0</td>\n",
       "      <td>5</td>\n",
       "      <td>2007</td>\n",
       "      <td>WD</td>\n",
       "      <td>Normal</td>\n",
       "      <td>181500</td>\n",
       "      <td>3483120</td>\n",
       "    </tr>\n",
       "    <tr>\n",
       "      <th>2</th>\n",
       "      <td>3</td>\n",
       "      <td>60</td>\n",
       "      <td>RL</td>\n",
       "      <td>11250</td>\n",
       "      <td>Pave</td>\n",
       "      <td>IR1</td>\n",
       "      <td>Lvl</td>\n",
       "      <td>AllPub</td>\n",
       "      <td>Inside</td>\n",
       "      <td>Gtl</td>\n",
       "      <td>...</td>\n",
       "      <td>0</td>\n",
       "      <td>0</td>\n",
       "      <td>0</td>\n",
       "      <td>0</td>\n",
       "      <td>9</td>\n",
       "      <td>2008</td>\n",
       "      <td>WD</td>\n",
       "      <td>Normal</td>\n",
       "      <td>223500</td>\n",
       "      <td>7601216</td>\n",
       "    </tr>\n",
       "    <tr>\n",
       "      <th>3</th>\n",
       "      <td>4</td>\n",
       "      <td>70</td>\n",
       "      <td>RL</td>\n",
       "      <td>9550</td>\n",
       "      <td>Pave</td>\n",
       "      <td>IR1</td>\n",
       "      <td>Lvl</td>\n",
       "      <td>AllPub</td>\n",
       "      <td>Corner</td>\n",
       "      <td>Gtl</td>\n",
       "      <td>...</td>\n",
       "      <td>0</td>\n",
       "      <td>0</td>\n",
       "      <td>0</td>\n",
       "      <td>0</td>\n",
       "      <td>2</td>\n",
       "      <td>2006</td>\n",
       "      <td>WD</td>\n",
       "      <td>Abnorml</td>\n",
       "      <td>140000</td>\n",
       "      <td>7716198</td>\n",
       "    </tr>\n",
       "    <tr>\n",
       "      <th>4</th>\n",
       "      <td>5</td>\n",
       "      <td>60</td>\n",
       "      <td>RL</td>\n",
       "      <td>14260</td>\n",
       "      <td>Pave</td>\n",
       "      <td>IR1</td>\n",
       "      <td>Lvl</td>\n",
       "      <td>AllPub</td>\n",
       "      <td>FR2</td>\n",
       "      <td>Gtl</td>\n",
       "      <td>...</td>\n",
       "      <td>0</td>\n",
       "      <td>0</td>\n",
       "      <td>0</td>\n",
       "      <td>0</td>\n",
       "      <td>12</td>\n",
       "      <td>2008</td>\n",
       "      <td>WD</td>\n",
       "      <td>Normal</td>\n",
       "      <td>250000</td>\n",
       "      <td>14700224</td>\n",
       "    </tr>\n",
       "  </tbody>\n",
       "</table>\n",
       "<p>5 rows × 76 columns</p>\n",
       "</div>"
      ],
      "text/plain": [
       "   Id  MSSubClass MSZoning  LotArea Street LotShape LandContour Utilities  \\\n",
       "0   1          60       RL     8450   Pave      Reg         Lvl    AllPub   \n",
       "1   2          20       RL     9600   Pave      Reg         Lvl    AllPub   \n",
       "2   3          60       RL    11250   Pave      IR1         Lvl    AllPub   \n",
       "3   4          70       RL     9550   Pave      IR1         Lvl    AllPub   \n",
       "4   5          60       RL    14260   Pave      IR1         Lvl    AllPub   \n",
       "\n",
       "  LotConfig LandSlope  ... 3SsnPorch ScreenPorch PoolArea MiscVal MoSold  \\\n",
       "0    Inside       Gtl  ...         0           0        0       0      2   \n",
       "1       FR2       Gtl  ...         0           0        0       0      5   \n",
       "2    Inside       Gtl  ...         0           0        0       0      9   \n",
       "3    Corner       Gtl  ...         0           0        0       0      2   \n",
       "4       FR2       Gtl  ...         0           0        0       0     12   \n",
       "\n",
       "   YrSold  SaleType  SaleCondition  SalePrice       New  \n",
       "0    2008        WD         Normal     208500   6559560  \n",
       "1    2007        WD         Normal     181500   3483120  \n",
       "2    2008        WD         Normal     223500   7601216  \n",
       "3    2006        WD        Abnorml     140000   7716198  \n",
       "4    2008        WD         Normal     250000  14700224  \n",
       "\n",
       "[5 rows x 76 columns]"
      ]
     },
     "execution_count": 43,
     "metadata": {},
     "output_type": "execute_result"
    }
   ],
   "source": [
    "# We will remove features with missing proportion of more than 15% (thumb rule)\n",
    "\n",
    "pd_train = pd_train.drop((missing[missing['Perc_missing'] >= 0.15]).index,1)\n",
    "pd_train.head()"
   ]
  },
  {
   "cell_type": "code",
   "execution_count": null,
   "metadata": {
    "execution": {
     "iopub.execute_input": "2021-04-07T17:44:38.017646Z",
     "iopub.status.busy": "2021-04-07T17:44:38.016537Z",
     "iopub.status.idle": "2021-04-07T17:44:38.020372Z",
     "shell.execute_reply": "2021-04-07T17:44:38.019579Z"
    },
    "papermill": {
     "duration": 0.215765,
     "end_time": "2021-04-07T17:44:38.020573",
     "exception": false,
     "start_time": "2021-04-07T17:44:37.804808",
     "status": "completed"
    },
    "tags": []
   },
   "outputs": [],
   "source": [
    "pd_train['New'] = pd_train['OverallQual'] * pd_train['GarageArea'] * pd_train['GrLivArea']\n",
    "pd_test['New'] = pd_test['OverallQual'] * pd_test['GarageArea'] * pd_test['GrLivArea']\n",
    "\n",
    "# As some of the contestants have noticed, this results in a spike in model performance later"
   ]
  },
  {
   "cell_type": "code",
   "execution_count": null,
   "metadata": {
    "execution": {
     "iopub.execute_input": "2021-04-07T17:44:38.405257Z",
     "iopub.status.busy": "2021-04-07T17:44:38.404471Z",
     "iopub.status.idle": "2021-04-07T17:44:38.407774Z",
     "shell.execute_reply": "2021-04-07T17:44:38.408281Z"
    },
    "papermill": {
     "duration": 0.200114,
     "end_time": "2021-04-07T17:44:38.408508",
     "exception": false,
     "start_time": "2021-04-07T17:44:38.208394",
     "status": "completed"
    },
    "tags": []
   },
   "outputs": [],
   "source": [
    "train_cols = list(pd_train.columns)\n",
    "train_cols.remove('SalePrice')"
   ]
  },
  {
   "cell_type": "code",
   "execution_count": null,
   "metadata": {
    "execution": {
     "iopub.execute_input": "2021-04-07T17:44:38.830552Z",
     "iopub.status.busy": "2021-04-07T17:44:38.829580Z",
     "iopub.status.idle": "2021-04-07T17:44:38.834899Z",
     "shell.execute_reply": "2021-04-07T17:44:38.834089Z"
    },
    "papermill": {
     "duration": 0.256266,
     "end_time": "2021-04-07T17:44:38.835096",
     "exception": false,
     "start_time": "2021-04-07T17:44:38.578830",
     "status": "completed"
    },
    "tags": []
   },
   "outputs": [],
   "source": [
    "#Make test ds feature set same as in train ds\n",
    "pd_test = pd_test[train_cols]"
   ]
  },
  {
   "cell_type": "code",
   "execution_count": null,
   "metadata": {
    "execution": {
     "iopub.execute_input": "2021-04-07T17:44:39.378262Z",
     "iopub.status.busy": "2021-04-07T17:44:39.377341Z",
     "iopub.status.idle": "2021-04-07T17:44:39.386926Z",
     "shell.execute_reply": "2021-04-07T17:44:39.386094Z"
    },
    "papermill": {
     "duration": 0.194773,
     "end_time": "2021-04-07T17:44:39.387114",
     "exception": false,
     "start_time": "2021-04-07T17:44:39.192341",
     "status": "completed"
    },
    "tags": []
   },
   "outputs": [
    {
     "data": {
      "text/plain": [
       "['MSZoning',\n",
       " 'Utilities',\n",
       " 'Exterior1st',\n",
       " 'Exterior2nd',\n",
       " 'MasVnrType',\n",
       " 'MasVnrArea',\n",
       " 'BsmtQual',\n",
       " 'BsmtCond',\n",
       " 'BsmtExposure',\n",
       " 'BsmtFinType1',\n",
       " 'BsmtFinSF1',\n",
       " 'BsmtFinType2',\n",
       " 'BsmtFinSF2',\n",
       " 'BsmtUnfSF',\n",
       " 'TotalBsmtSF',\n",
       " 'BsmtFullBath',\n",
       " 'BsmtHalfBath',\n",
       " 'KitchenQual',\n",
       " 'Functional',\n",
       " 'GarageType',\n",
       " 'GarageYrBlt',\n",
       " 'GarageFinish',\n",
       " 'GarageCars',\n",
       " 'GarageArea',\n",
       " 'GarageQual',\n",
       " 'GarageCond',\n",
       " 'SaleType',\n",
       " 'New']"
      ]
     },
     "execution_count": 47,
     "metadata": {},
     "output_type": "execute_result"
    }
   ],
   "source": [
    "pd_test.columns[pd_test.isna().any()].tolist()"
   ]
  },
  {
   "cell_type": "code",
   "execution_count": null,
   "metadata": {
    "execution": {
     "iopub.execute_input": "2021-04-07T17:44:39.750420Z",
     "iopub.status.busy": "2021-04-07T17:44:39.740824Z",
     "iopub.status.idle": "2021-04-07T17:44:39.783387Z",
     "shell.execute_reply": "2021-04-07T17:44:39.784028Z"
    },
    "papermill": {
     "duration": 0.229968,
     "end_time": "2021-04-07T17:44:39.784256",
     "exception": false,
     "start_time": "2021-04-07T17:44:39.554288",
     "status": "completed"
    },
    "tags": []
   },
   "outputs": [
    {
     "name": "stdout",
     "output_type": "stream",
     "text": [
      "0\n",
      "4\n"
     ]
    }
   ],
   "source": [
    "# Althoug this is not the best solution to fill the NA-values with \"None\"/0, for most of the features \n",
    "# in the particular datas, it literally means \"None\"/0 (e.g. Garage Area, Garage Type, Condition) as the house\n",
    "# probably doesn't have the garage.\n",
    "\n",
    "for col in ['BsmtQual', 'BsmtCond', 'BsmtExposure', 'BsmtFinType1', 'BsmtFinType2']:\n",
    "    pd_train[col] = pd_train[col].fillna(\"None\")\n",
    "    pd_test[col] = pd_test[col].fillna(\"None\")\n",
    "    \n",
    "for col in ['GarageType', 'GarageFinish', 'GarageQual', 'GarageCond']:\n",
    "    pd_train[col] = pd_train[col].fillna(\"None\")\n",
    "    pd_test[col] = pd_test[col].fillna(\"None\")\n",
    "    \n",
    "for col in ['GarageYrBlt', 'GarageArea', 'GarageCars']:\n",
    "    pd_train[col] = pd_train[col].fillna(0)\n",
    "    pd_test[col] = pd_test[col].fillna(0)\n",
    "    \n",
    "pd_train['MasVnrType'] = pd_train['MasVnrType'].fillna(\"None\")\n",
    "pd_test['MasVnrType'] = pd_test['MasVnrType'].fillna(\"None\")\n",
    "\n",
    "pd_train['MasVnrArea'] = pd_train['MasVnrArea'].fillna(0)\n",
    "pd_test['MasVnrArea'] = pd_test['MasVnrArea'].fillna(0)\n",
    "\n",
    "pd_train['Electrical'] = pd_train['Electrical'].fillna(pd_train['Electrical'].mode()[0])\n",
    "pd_test['Electrical'] = pd_test['Electrical'].fillna(pd_test['Electrical'].mode()[0])\n",
    "\n",
    "print(pd_train.isnull().sum().max()) # check if any missing values are left\n",
    "print(pd_test.isnull().sum().max())\n"
   ]
  },
  {
   "cell_type": "code",
   "execution_count": null,
   "metadata": {
    "execution": {
     "iopub.execute_input": "2021-04-07T17:44:40.135837Z",
     "iopub.status.busy": "2021-04-07T17:44:40.135062Z",
     "iopub.status.idle": "2021-04-07T17:44:40.138762Z",
     "shell.execute_reply": "2021-04-07T17:44:40.138192Z"
    },
    "papermill": {
     "duration": 0.185817,
     "end_time": "2021-04-07T17:44:40.138945",
     "exception": false,
     "start_time": "2021-04-07T17:44:39.953128",
     "status": "completed"
    },
    "tags": []
   },
   "outputs": [],
   "source": [
    "pd_test['BsmtFinSF1'] = pd_test['BsmtFinSF1'].fillna(pd_test['BsmtFinSF1'].mean())\n",
    "pd_test['BsmtFinSF2'] = pd_test['BsmtFinSF2'].fillna(pd_test['BsmtFinSF2'].mean())\n",
    "pd_test['BsmtUnfSF'] = pd_test['BsmtUnfSF'].fillna(pd_test['BsmtUnfSF'].mean())\n",
    "pd_test['TotalBsmtSF'] = pd_test['TotalBsmtSF'].fillna(pd_test['TotalBsmtSF'].mean())\n",
    "pd_test['BsmtFullBath'] = pd_test['BsmtFullBath'].fillna(pd_test['BsmtFullBath'].mean())\n",
    "pd_test['BsmtHalfBath'] = pd_test['BsmtHalfBath'].fillna(pd_test['BsmtHalfBath'].mean())"
   ]
  },
  {
   "cell_type": "code",
   "execution_count": null,
   "metadata": {
    "execution": {
     "iopub.execute_input": "2021-04-07T17:44:40.481764Z",
     "iopub.status.busy": "2021-04-07T17:44:40.480793Z",
     "iopub.status.idle": "2021-04-07T17:44:40.483184Z",
     "shell.execute_reply": "2021-04-07T17:44:40.483678Z"
    },
    "papermill": {
     "duration": 0.175939,
     "end_time": "2021-04-07T17:44:40.483936",
     "exception": false,
     "start_time": "2021-04-07T17:44:40.307997",
     "status": "completed"
    },
    "tags": []
   },
   "outputs": [],
   "source": [
    "# This is how fillna is done in PySpark\n",
    "\n",
    "# train_df = train_df.na.fill('NoData', subset=['MSZoning', 'Utilities', 'Exterior1st', 'Exterior2nd', 'BsmtFinSF1',\n",
    "#       'BsmtFinSF2', 'BsmtUnfSF', 'TotalBsmtSF', 'BsmtFullBath',\n",
    "#       'BsmtHalfBath', 'KitchenQual', 'Functional', 'GarageCars', 'GarageArea','SaleType'])\n",
    "# test_df = test_df.na.fill('NoData', subset=['MSZoning', 'Utilities', 'Exterior1st', 'Exterior2nd', 'BsmtFinSF1',\n",
    "#       'BsmtFinSF2', 'BsmtUnfSF', 'TotalBsmtSF', 'BsmtFullBath',\n",
    "#       'BsmtHalfBath', 'KitchenQual', 'Functional', 'GarageCars', 'GarageArea','SaleType'])"
   ]
  },
  {
   "cell_type": "code",
   "execution_count": null,
   "metadata": {
    "execution": {
     "iopub.execute_input": "2021-04-07T17:44:40.827385Z",
     "iopub.status.busy": "2021-04-07T17:44:40.826614Z",
     "iopub.status.idle": "2021-04-07T17:44:40.870042Z",
     "shell.execute_reply": "2021-04-07T17:44:40.870810Z"
    },
    "papermill": {
     "duration": 0.21694,
     "end_time": "2021-04-07T17:44:40.871052",
     "exception": false,
     "start_time": "2021-04-07T17:44:40.654112",
     "status": "completed"
    },
    "tags": []
   },
   "outputs": [],
   "source": [
    "cat_columns = pd_train.select_dtypes(include=['object']).columns\n",
    "pd_train[cat_columns] = pd_train[cat_columns].fillna('NoData')\n",
    "pd_test[cat_columns] = pd_test[cat_columns].fillna('NoData')"
   ]
  },
  {
   "cell_type": "markdown",
   "metadata": {
    "papermill": {
     "duration": 0.191986,
     "end_time": "2021-04-07T17:44:41.247612",
     "exception": false,
     "start_time": "2021-04-07T17:44:41.055626",
     "status": "completed"
    },
    "tags": []
   },
   "source": [
    "## Handling outliers: \n",
    "**the values are based on the scatterplots above.**"
   ]
  },
  {
   "cell_type": "code",
   "execution_count": null,
   "metadata": {
    "execution": {
     "iopub.execute_input": "2021-04-07T17:44:41.617792Z",
     "iopub.status.busy": "2021-04-07T17:44:41.616758Z",
     "iopub.status.idle": "2021-04-07T17:44:41.636482Z",
     "shell.execute_reply": "2021-04-07T17:44:41.637191Z"
    },
    "papermill": {
     "duration": 0.192871,
     "end_time": "2021-04-07T17:44:41.637408",
     "exception": false,
     "start_time": "2021-04-07T17:44:41.444537",
     "status": "completed"
    },
    "tags": []
   },
   "outputs": [
    {
     "name": "stdout",
     "output_type": "stream",
     "text": [
      "Dropping outliers resulted in 1460 instances in the new dataset\n",
      "Dropping outliers resulted in 1458 instances in the new dataset\n",
      "Dropping outliers resulted in 1449 instances in the new dataset\n",
      "Dropping outliers resulted in 1444 instances in the new dataset\n"
     ]
    }
   ],
   "source": [
    "print(\"Dropping outliers resulted in %d instances in the new dataset\" % len(pd_train))\n",
    "pd_train = pd_train.drop(pd_train[(pd_train['GrLivArea']>4500) \n",
    "                                & (pd_train['SalePrice']<300000)].index)\n",
    "print(\"Dropping outliers resulted in %d instances in the new dataset\" % len(pd_train))\n",
    "pd_train = pd_train.drop(pd_train[(pd_train['GrLivArea']>5500) \n",
    "                                | (pd_train['SalePrice']>500000)].index)\n",
    "print(\"Dropping outliers resulted in %d instances in the new dataset\" % len(pd_train))\n",
    "pd_train = pd_train.drop(pd_train[pd_train['GarageArea']>1100].index)\n",
    "print(\"Dropping outliers resulted in %d instances in the new dataset\" % len(pd_train))"
   ]
  },
  {
   "cell_type": "markdown",
   "metadata": {
    "papermill": {
     "duration": 0.175915,
     "end_time": "2021-04-07T17:44:41.986734",
     "exception": false,
     "start_time": "2021-04-07T17:44:41.810819",
     "status": "completed"
    },
    "tags": []
   },
   "source": [
    "## Creating Spark DataFrames"
   ]
  },
  {
   "cell_type": "code",
   "execution_count": null,
   "metadata": {
    "execution": {
     "iopub.execute_input": "2021-04-07T17:44:42.337102Z",
     "iopub.status.busy": "2021-04-07T17:44:42.336276Z",
     "iopub.status.idle": "2021-04-07T17:44:47.353018Z",
     "shell.execute_reply": "2021-04-07T17:44:47.352076Z"
    },
    "papermill": {
     "duration": 5.194111,
     "end_time": "2021-04-07T17:44:47.353244",
     "exception": false,
     "start_time": "2021-04-07T17:44:42.159133",
     "status": "completed"
    },
    "tags": []
   },
   "outputs": [],
   "source": [
    "train_df = spark_session.createDataFrame(pd_train)\n",
    "test_df = spark_session.createDataFrame(pd_test)"
   ]
  },
  {
   "cell_type": "code",
   "execution_count": null,
   "metadata": {
    "execution": {
     "iopub.execute_input": "2021-04-07T17:44:47.695458Z",
     "iopub.status.busy": "2021-04-07T17:44:47.694565Z",
     "iopub.status.idle": "2021-04-07T17:44:48.425482Z",
     "shell.execute_reply": "2021-04-07T17:44:48.424374Z"
    },
    "papermill": {
     "duration": 0.904361,
     "end_time": "2021-04-07T17:44:48.425818",
     "exception": false,
     "start_time": "2021-04-07T17:44:47.521457",
     "status": "completed"
    },
    "tags": []
   },
   "outputs": [],
   "source": [
    "train_df = train_df.select([c for c in train_df.columns if c not in na_cols])\n",
    "train_cols = train_df.columns\n",
    "train_cols.remove('SalePrice')\n",
    "test_df = test_df.select(train_cols)"
   ]
  },
  {
   "cell_type": "code",
   "execution_count": null,
   "metadata": {
    "execution": {
     "iopub.execute_input": "2021-04-07T17:44:48.780604Z",
     "iopub.status.busy": "2021-04-07T17:44:48.779412Z",
     "iopub.status.idle": "2021-04-07T17:44:49.354100Z",
     "shell.execute_reply": "2021-04-07T17:44:49.353052Z"
    },
    "papermill": {
     "duration": 0.75621,
     "end_time": "2021-04-07T17:44:49.354359",
     "exception": false,
     "start_time": "2021-04-07T17:44:48.598149",
     "status": "completed"
    },
    "tags": []
   },
   "outputs": [
    {
     "name": "stdout",
     "output_type": "stream",
     "text": [
      "root\n",
      " |-- Id: long (nullable = true)\n",
      " |-- MSSubClass: long (nullable = true)\n",
      " |-- MSZoning: string (nullable = true)\n",
      " |-- LotArea: long (nullable = true)\n",
      " |-- Street: string (nullable = true)\n",
      " |-- LotShape: string (nullable = true)\n",
      " |-- LandContour: string (nullable = true)\n",
      " |-- Utilities: string (nullable = true)\n",
      " |-- LotConfig: string (nullable = true)\n",
      " |-- LandSlope: string (nullable = true)\n",
      " |-- Neighborhood: string (nullable = true)\n",
      " |-- Condition1: string (nullable = true)\n",
      " |-- Condition2: string (nullable = true)\n",
      " |-- BldgType: string (nullable = true)\n",
      " |-- HouseStyle: string (nullable = true)\n",
      " |-- OverallQual: long (nullable = true)\n",
      " |-- OverallCond: long (nullable = true)\n",
      " |-- YearBuilt: long (nullable = true)\n",
      " |-- YearRemodAdd: long (nullable = true)\n",
      " |-- RoofStyle: string (nullable = true)\n",
      " |-- RoofMatl: string (nullable = true)\n",
      " |-- Exterior1st: string (nullable = true)\n",
      " |-- Exterior2nd: string (nullable = true)\n",
      " |-- ExterQual: string (nullable = true)\n",
      " |-- ExterCond: string (nullable = true)\n",
      " |-- Foundation: string (nullable = true)\n",
      " |-- BsmtFinSF1: long (nullable = true)\n",
      " |-- BsmtFinSF2: long (nullable = true)\n",
      " |-- BsmtUnfSF: long (nullable = true)\n",
      " |-- TotalBsmtSF: long (nullable = true)\n",
      " |-- Heating: string (nullable = true)\n",
      " |-- HeatingQC: string (nullable = true)\n",
      " |-- CentralAir: string (nullable = true)\n",
      " |-- 1stFlrSF: long (nullable = true)\n",
      " |-- 2ndFlrSF: long (nullable = true)\n",
      " |-- LowQualFinSF: long (nullable = true)\n",
      " |-- GrLivArea: long (nullable = true)\n",
      " |-- BsmtFullBath: long (nullable = true)\n",
      " |-- BsmtHalfBath: long (nullable = true)\n",
      " |-- FullBath: long (nullable = true)\n",
      " |-- HalfBath: long (nullable = true)\n",
      " |-- BedroomAbvGr: long (nullable = true)\n",
      " |-- KitchenAbvGr: long (nullable = true)\n",
      " |-- KitchenQual: string (nullable = true)\n",
      " |-- TotRmsAbvGrd: long (nullable = true)\n",
      " |-- Functional: string (nullable = true)\n",
      " |-- Fireplaces: long (nullable = true)\n",
      " |-- GarageCars: long (nullable = true)\n",
      " |-- GarageArea: long (nullable = true)\n",
      " |-- PavedDrive: string (nullable = true)\n",
      " |-- WoodDeckSF: long (nullable = true)\n",
      " |-- OpenPorchSF: long (nullable = true)\n",
      " |-- EnclosedPorch: long (nullable = true)\n",
      " |-- 3SsnPorch: long (nullable = true)\n",
      " |-- ScreenPorch: long (nullable = true)\n",
      " |-- PoolArea: long (nullable = true)\n",
      " |-- MiscVal: long (nullable = true)\n",
      " |-- MoSold: long (nullable = true)\n",
      " |-- YrSold: long (nullable = true)\n",
      " |-- SaleType: string (nullable = true)\n",
      " |-- SaleCondition: string (nullable = true)\n",
      " |-- SalePrice: long (nullable = true)\n",
      " |-- New: long (nullable = true)\n",
      "\n"
     ]
    }
   ],
   "source": [
    "from pyspark.sql.types import IntegerType\n",
    "\n",
    "# As PySpark DFs can be finicky, sometimes your have to explicitly cast certain data types to columns\n",
    "\n",
    "test_df = test_df.withColumn(\"BsmtFinSF1\", test_df[\"BsmtFinSF1\"].cast(IntegerType()))\n",
    "test_df = test_df.withColumn(\"BsmtFinSF2\", test_df[\"BsmtFinSF2\"].cast(IntegerType()))\n",
    "test_df = test_df.withColumn(\"BsmtUnfSF\", test_df[\"BsmtUnfSF\"].cast(IntegerType()))\n",
    "test_df = test_df.withColumn(\"TotalBsmtSF\", test_df[\"TotalBsmtSF\"].cast(IntegerType()))\n",
    "test_df = test_df.withColumn(\"BsmtFullBath\", test_df[\"BsmtFullBath\"].cast(IntegerType()))\n",
    "test_df = test_df.withColumn(\"BsmtHalfBath\", test_df[\"BsmtHalfBath\"].cast(IntegerType()))\n",
    "test_df = test_df.withColumn(\"GarageCars\", test_df[\"GarageCars\"].cast(IntegerType()))\n",
    "test_df = test_df.withColumn(\"GarageArea\", test_df[\"GarageArea\"].cast(IntegerType()))\n",
    "\n",
    "train_df.printSchema()"
   ]
  },
  {
   "cell_type": "code",
   "execution_count": null,
   "metadata": {
    "execution": {
     "iopub.execute_input": "2021-04-07T17:44:49.712600Z",
     "iopub.status.busy": "2021-04-07T17:44:49.711742Z",
     "iopub.status.idle": "2021-04-07T17:44:49.714029Z",
     "shell.execute_reply": "2021-04-07T17:44:49.715028Z"
    },
    "papermill": {
     "duration": 0.182925,
     "end_time": "2021-04-07T17:44:49.715282",
     "exception": false,
     "start_time": "2021-04-07T17:44:49.532357",
     "status": "completed"
    },
    "tags": []
   },
   "outputs": [],
   "source": [
    "# Defining string columns to pass on to the String Indexer (= categorical feature encoding)\n",
    "\n",
    "train_string_columns = []\n",
    "\n",
    "for col, dtype in train_df.dtypes:\n",
    "    if dtype == 'string':\n",
    "        train_string_columns.append(col)"
   ]
  },
  {
   "cell_type": "code",
   "execution_count": null,
   "metadata": {
    "execution": {
     "iopub.execute_input": "2021-04-07T17:44:50.062482Z",
     "iopub.status.busy": "2021-04-07T17:44:50.061679Z",
     "iopub.status.idle": "2021-04-07T17:45:04.278416Z",
     "shell.execute_reply": "2021-04-07T17:45:04.277393Z"
    },
    "papermill": {
     "duration": 14.394774,
     "end_time": "2021-04-07T17:45:04.278741",
     "exception": false,
     "start_time": "2021-04-07T17:44:49.883967",
     "status": "completed"
    },
    "tags": []
   },
   "outputs": [],
   "source": [
    "from pyspark.ml import Pipeline\n",
    "from pyspark.ml.feature import StringIndexer\n",
    "\n",
    "indexers = [StringIndexer(inputCol=column, outputCol=column+'_index', handleInvalid='keep').fit(train_df) for column in train_string_columns]\n",
    "\n",
    "\n",
    "pipeline = Pipeline(stages=indexers)\n",
    "train_indexed = pipeline.fit(train_df).transform(train_df)"
   ]
  },
  {
   "cell_type": "code",
   "execution_count": null,
   "metadata": {
    "execution": {
     "iopub.execute_input": "2021-04-07T17:45:04.638232Z",
     "iopub.status.busy": "2021-04-07T17:45:04.636883Z",
     "iopub.status.idle": "2021-04-07T17:45:04.652047Z",
     "shell.execute_reply": "2021-04-07T17:45:04.653098Z"
    },
    "papermill": {
     "duration": 0.191404,
     "end_time": "2021-04-07T17:45:04.653448",
     "exception": false,
     "start_time": "2021-04-07T17:45:04.462044",
     "status": "completed"
    },
    "tags": []
   },
   "outputs": [
    {
     "name": "stdout",
     "output_type": "stream",
     "text": [
      "90\n"
     ]
    }
   ],
   "source": [
    "print(len(train_indexed.columns))"
   ]
  },
  {
   "cell_type": "code",
   "execution_count": null,
   "metadata": {
    "execution": {
     "iopub.execute_input": "2021-04-07T17:45:05.037610Z",
     "iopub.status.busy": "2021-04-07T17:45:05.036372Z",
     "iopub.status.idle": "2021-04-07T17:45:05.053478Z",
     "shell.execute_reply": "2021-04-07T17:45:05.052641Z"
    },
    "papermill": {
     "duration": 0.224656,
     "end_time": "2021-04-07T17:45:05.053711",
     "exception": false,
     "start_time": "2021-04-07T17:45:04.829055",
     "status": "completed"
    },
    "tags": []
   },
   "outputs": [],
   "source": [
    "test_string_columns = []\n",
    "\n",
    "for col, dtype in test_df.dtypes:\n",
    "    if dtype == 'string':\n",
    "        test_string_columns.append(col)"
   ]
  },
  {
   "cell_type": "code",
   "execution_count": null,
   "metadata": {
    "execution": {
     "iopub.execute_input": "2021-04-07T17:45:05.410487Z",
     "iopub.status.busy": "2021-04-07T17:45:05.409612Z",
     "iopub.status.idle": "2021-04-07T17:45:13.171347Z",
     "shell.execute_reply": "2021-04-07T17:45:13.170592Z"
    },
    "papermill": {
     "duration": 7.940358,
     "end_time": "2021-04-07T17:45:13.171522",
     "exception": false,
     "start_time": "2021-04-07T17:45:05.231164",
     "status": "completed"
    },
    "tags": []
   },
   "outputs": [],
   "source": [
    "indexers2 = [StringIndexer(inputCol=column, outputCol=column+'_index', handleInvalid='keep').fit(test_df) for column in test_string_columns]\n",
    "\n",
    "pipeline2 = Pipeline(stages=indexers2)\n",
    "test_indexed = pipeline2.fit(test_df).transform(test_df)"
   ]
  },
  {
   "cell_type": "code",
   "execution_count": null,
   "metadata": {
    "execution": {
     "iopub.execute_input": "2021-04-07T17:45:13.524582Z",
     "iopub.status.busy": "2021-04-07T17:45:13.522389Z",
     "iopub.status.idle": "2021-04-07T17:45:13.540472Z",
     "shell.execute_reply": "2021-04-07T17:45:13.541938Z"
    },
    "papermill": {
     "duration": 0.198622,
     "end_time": "2021-04-07T17:45:13.542448",
     "exception": false,
     "start_time": "2021-04-07T17:45:13.343826",
     "status": "completed"
    },
    "tags": []
   },
   "outputs": [
    {
     "name": "stdout",
     "output_type": "stream",
     "text": [
      "89\n"
     ]
    }
   ],
   "source": [
    "print(len(test_indexed.columns))"
   ]
  },
  {
   "cell_type": "code",
   "execution_count": null,
   "metadata": {
    "execution": {
     "iopub.execute_input": "2021-04-07T17:45:13.891854Z",
     "iopub.status.busy": "2021-04-07T17:45:13.890729Z",
     "iopub.status.idle": "2021-04-07T17:45:14.173314Z",
     "shell.execute_reply": "2021-04-07T17:45:14.171617Z"
    },
    "papermill": {
     "duration": 0.458023,
     "end_time": "2021-04-07T17:45:14.173512",
     "exception": false,
     "start_time": "2021-04-07T17:45:13.715489",
     "status": "completed"
    },
    "tags": []
   },
   "outputs": [],
   "source": [
    "def get_dtype(df,colname):\n",
    "    return [dtype for name, dtype in df.dtypes if name == colname][0]\n",
    "\n",
    "num_cols_train = []\n",
    "for col in train_indexed.columns:\n",
    "    if get_dtype(train_indexed,col) != 'string':\n",
    "        num_cols_train.append(str(col))\n",
    "        \n",
    "num_cols_test = []\n",
    "for col in test_indexed.columns:\n",
    "    if get_dtype(test_indexed,col) != 'string':\n",
    "        num_cols_test.append(str(col))\n",
    "\n",
    "train_indexed = train_indexed.select(num_cols_train)\n",
    "test_indexed = test_indexed.select(num_cols_test)"
   ]
  },
  {
   "cell_type": "code",
   "execution_count": null,
   "metadata": {
    "execution": {
     "iopub.execute_input": "2021-04-07T17:45:14.548515Z",
     "iopub.status.busy": "2021-04-07T17:45:14.547654Z",
     "iopub.status.idle": "2021-04-07T17:45:14.564907Z",
     "shell.execute_reply": "2021-04-07T17:45:14.563963Z"
    },
    "papermill": {
     "duration": 0.197976,
     "end_time": "2021-04-07T17:45:14.565105",
     "exception": false,
     "start_time": "2021-04-07T17:45:14.367129",
     "status": "completed"
    },
    "tags": []
   },
   "outputs": [
    {
     "name": "stdout",
     "output_type": "stream",
     "text": [
      "63\n",
      "62\n"
     ]
    }
   ],
   "source": [
    "print(len(train_indexed.columns))\n",
    "print(len(test_indexed.columns))"
   ]
  },
  {
   "cell_type": "markdown",
   "metadata": {
    "papermill": {
     "duration": 0.18617,
     "end_time": "2021-04-07T17:45:14.931266",
     "exception": false,
     "start_time": "2021-04-07T17:45:14.745096",
     "status": "completed"
    },
    "tags": []
   },
   "source": [
    "# 3. Model building (MLlib)"
   ]
  },
  {
   "cell_type": "markdown",
   "metadata": {
    "papermill": {
     "duration": 0.179834,
     "end_time": "2021-04-07T17:45:15.290893",
     "exception": false,
     "start_time": "2021-04-07T17:45:15.111059",
     "status": "completed"
    },
    "tags": []
   },
   "source": [
    "**Before passing the data on to the PySpark model, we need to vectorize the data.**"
   ]
  },
  {
   "cell_type": "code",
   "execution_count": null,
   "metadata": {
    "execution": {
     "iopub.execute_input": "2021-04-07T17:45:15.649916Z",
     "iopub.status.busy": "2021-04-07T17:45:15.649122Z",
     "iopub.status.idle": "2021-04-07T17:45:15.836602Z",
     "shell.execute_reply": "2021-04-07T17:45:15.835894Z"
    },
    "papermill": {
     "duration": 0.370015,
     "end_time": "2021-04-07T17:45:15.836835",
     "exception": false,
     "start_time": "2021-04-07T17:45:15.466820",
     "status": "completed"
    },
    "tags": []
   },
   "outputs": [],
   "source": [
    "from pyspark.ml.feature import VectorAssembler\n",
    "vectorAssembler = VectorAssembler(inputCols = train_indexed.drop(\"SalePrice\").columns, outputCol = 'features').setHandleInvalid(\"keep\")\n",
    "\n",
    "train_vector = vectorAssembler.transform(train_indexed)"
   ]
  },
  {
   "cell_type": "code",
   "execution_count": null,
   "metadata": {
    "execution": {
     "iopub.execute_input": "2021-04-07T17:45:16.247500Z",
     "iopub.status.busy": "2021-04-07T17:45:16.246342Z",
     "iopub.status.idle": "2021-04-07T17:45:16.321965Z",
     "shell.execute_reply": "2021-04-07T17:45:16.321249Z"
    },
    "papermill": {
     "duration": 0.263561,
     "end_time": "2021-04-07T17:45:16.322184",
     "exception": false,
     "start_time": "2021-04-07T17:45:16.058623",
     "status": "completed"
    },
    "tags": []
   },
   "outputs": [],
   "source": [
    "vectorAssembler2 = VectorAssembler(inputCols = test_indexed.columns, outputCol = 'features').setHandleInvalid(\"keep\")\n",
    "\n",
    "test_vector = vectorAssembler2.transform(test_indexed)"
   ]
  },
  {
   "cell_type": "code",
   "execution_count": null,
   "metadata": {
    "execution": {
     "iopub.execute_input": "2021-04-07T17:45:16.691094Z",
     "iopub.status.busy": "2021-04-07T17:45:16.689476Z",
     "iopub.status.idle": "2021-04-07T17:45:16.720328Z",
     "shell.execute_reply": "2021-04-07T17:45:16.718927Z"
    },
    "papermill": {
     "duration": 0.219732,
     "end_time": "2021-04-07T17:45:16.720622",
     "exception": false,
     "start_time": "2021-04-07T17:45:16.500890",
     "status": "completed"
    },
    "tags": []
   },
   "outputs": [],
   "source": [
    "from pyspark.sql.functions import lit\n",
    "\n",
    "test_vector = test_vector.withColumn(\"SalePrice\", lit(0))"
   ]
  },
  {
   "cell_type": "code",
   "execution_count": null,
   "metadata": {
    "execution": {
     "iopub.execute_input": "2021-04-07T17:45:17.095756Z",
     "iopub.status.busy": "2021-04-07T17:45:17.094744Z",
     "iopub.status.idle": "2021-04-07T17:45:17.098974Z",
     "shell.execute_reply": "2021-04-07T17:45:17.099890Z"
    },
    "papermill": {
     "duration": 0.187158,
     "end_time": "2021-04-07T17:45:17.100158",
     "exception": false,
     "start_time": "2021-04-07T17:45:16.913000",
     "status": "completed"
    },
    "tags": []
   },
   "outputs": [],
   "source": [
    "#You can use this to scale all instances, however, as I checked, this did not improve the performance\n",
    "\n",
    "#from pyspark.ml.feature import StandardScaler\n",
    "#scaler = StandardScaler(inputCol=\"features\", outputCol=\"scaledFeatures\", withStd=True, withMean=False)\n",
    "#scalerModel = scaler.fit(train_vector)\n",
    "#scaled_train = scalerModel.transform(train_vector)\n",
    "\n",
    "#scalerModel2 = scaler.fit(test_vector)\n",
    "#scaled_test = scalerModel2.transform(test_vector)"
   ]
  },
  {
   "cell_type": "code",
   "execution_count": null,
   "metadata": {
    "execution": {
     "iopub.execute_input": "2021-04-07T17:45:17.463583Z",
     "iopub.status.busy": "2021-04-07T17:45:17.462798Z",
     "iopub.status.idle": "2021-04-07T17:45:17.524000Z",
     "shell.execute_reply": "2021-04-07T17:45:17.523312Z"
    },
    "papermill": {
     "duration": 0.243188,
     "end_time": "2021-04-07T17:45:17.524218",
     "exception": false,
     "start_time": "2021-04-07T17:45:17.281030",
     "status": "completed"
    },
    "tags": []
   },
   "outputs": [],
   "source": [
    "# Train-test split\n",
    "\n",
    "splits = train_vector.randomSplit([0.7, 0.3])\n",
    "train = splits[0]\n",
    "val = splits[1]"
   ]
  },
  {
   "cell_type": "code",
   "execution_count": null,
   "metadata": {
    "execution": {
     "iopub.execute_input": "2021-04-07T17:45:17.893547Z",
     "iopub.status.busy": "2021-04-07T17:45:17.892719Z",
     "iopub.status.idle": "2021-04-07T17:45:23.899546Z",
     "shell.execute_reply": "2021-04-07T17:45:23.897720Z"
    },
    "papermill": {
     "duration": 6.199853,
     "end_time": "2021-04-07T17:45:23.899942",
     "exception": false,
     "start_time": "2021-04-07T17:45:17.700089",
     "status": "completed"
    },
    "tags": []
   },
   "outputs": [
    {
     "name": "stdout",
     "output_type": "stream",
     "text": [
      "RMSE: 21898.838390\n",
      "r2: 0.908181\n",
      "+------------------+---------+--------------------+\n",
      "|        prediction|SalePrice|            features|\n",
      "+------------------+---------+--------------------+\n",
      "|221144.35696927737|   223500|(62,[0,1,2,3,4,5,...|\n",
      "|351267.72061270545|   345000|(62,[0,1,2,3,4,5,...|\n",
      "| 156773.9754110498|   154000|(62,[0,1,2,3,4,5,...|\n",
      "|278077.91777360276|   306000|(62,[0,1,2,3,4,5,...|\n",
      "| 73904.48554422567|    68500|(62,[0,1,2,3,4,5,...|\n",
      "+------------------+---------+--------------------+\n",
      "only showing top 5 rows\n",
      "\n",
      "R Squared (R2) on val data = 0.893519\n"
     ]
    }
   ],
   "source": [
    "# Simple baseline (linreg)\n",
    "\n",
    "from pyspark.ml.regression import LinearRegression\n",
    "\n",
    "lr = LinearRegression(featuresCol = 'features', labelCol='SalePrice', maxIter=10, \n",
    "                      regParam=0.8, elasticNetParam=0.1) # It is always a good idea to play with hyperparameters.\n",
    "lr_model = lr.fit(train)\n",
    "\n",
    "trainingSummary = lr_model.summary\n",
    "print(\"RMSE: %f\" % trainingSummary.rootMeanSquaredError)\n",
    "print(\"r2: %f\" % trainingSummary.r2)\n",
    "\n",
    "lr_predictions = lr_model.transform(val)\n",
    "lr_predictions.select(\"prediction\",\"SalePrice\",\"features\").show(5)\n",
    "\n",
    "from pyspark.ml.evaluation import RegressionEvaluator\n",
    "lr_evaluator = RegressionEvaluator(predictionCol=\"prediction\", \\\n",
    "                 labelCol=\"SalePrice\",metricName=\"r2\")\n",
    "print(\"R Squared (R2) on val data = %g\" % lr_evaluator.evaluate(lr_predictions))"
   ]
  },
  {
   "cell_type": "code",
   "execution_count": null,
   "metadata": {
    "execution": {
     "iopub.execute_input": "2021-04-07T17:45:24.436175Z",
     "iopub.status.busy": "2021-04-07T17:45:24.435012Z",
     "iopub.status.idle": "2021-04-07T17:45:38.138989Z",
     "shell.execute_reply": "2021-04-07T17:45:38.139816Z"
    },
    "papermill": {
     "duration": 13.967599,
     "end_time": "2021-04-07T17:45:38.140103",
     "exception": false,
     "start_time": "2021-04-07T17:45:24.172504",
     "status": "completed"
    },
    "tags": []
   },
   "outputs": [
    {
     "name": "stdout",
     "output_type": "stream",
     "text": [
      "+------------------+---------+--------------------+\n",
      "|        prediction|SalePrice|            features|\n",
      "+------------------+---------+--------------------+\n",
      "|        233465.275|   223500|(62,[0,1,2,3,4,5,...|\n",
      "| 365232.2041666667|   345000|(62,[0,1,2,3,4,5,...|\n",
      "| 143164.1666666667|   154000|(62,[0,1,2,3,4,5,...|\n",
      "|289972.86666666664|   306000|(62,[0,1,2,3,4,5,...|\n",
      "| 82508.51666666668|    68500|(62,[0,1,2,3,4,5,...|\n",
      "+------------------+---------+--------------------+\n",
      "only showing top 5 rows\n",
      "\n",
      "R Squared (R2) on val data = 0.863645\n"
     ]
    }
   ],
   "source": [
    "# A more complex model with RF\n",
    "\n",
    "from pyspark.ml.regression import RandomForestRegressor\n",
    "\n",
    "rf = RandomForestRegressor(featuresCol = 'features', labelCol='SalePrice', \n",
    "                           maxDepth=20, \n",
    "                           minInstancesPerNode=2,\n",
    "                           bootstrap=True\n",
    "                          )\n",
    "rf_model = rf.fit(train)\n",
    "\n",
    "rf_predictions = rf_model.transform(val)\n",
    "rf_predictions.select(\"prediction\",\"SalePrice\",\"features\").show(5)\n",
    "\n",
    "from pyspark.ml.evaluation import RegressionEvaluator\n",
    "rf_evaluator = RegressionEvaluator(predictionCol=\"prediction\", \\\n",
    "                 labelCol=\"SalePrice\",metricName=\"r2\")\n",
    "print(\"R Squared (R2) on val data = %g\" % rf_evaluator.evaluate(rf_predictions))"
   ]
  },
  {
   "cell_type": "markdown",
   "metadata": {
    "papermill": {
     "duration": 0.165591,
     "end_time": "2021-04-07T17:45:38.506151",
     "exception": false,
     "start_time": "2021-04-07T17:45:38.340560",
     "status": "completed"
    },
    "tags": []
   },
   "source": [
    "# 4. Making predictions & submission"
   ]
  },
  {
   "cell_type": "markdown",
   "metadata": {
    "papermill": {
     "duration": 0.171917,
     "end_time": "2021-04-07T17:45:38.844425",
     "exception": false,
     "start_time": "2021-04-07T17:45:38.672508",
     "status": "completed"
    },
    "tags": []
   },
   "source": [
    "**Let's convert the predictions in the .csv file for submission**"
   ]
  },
  {
   "cell_type": "code",
   "execution_count": null,
   "metadata": {
    "execution": {
     "iopub.execute_input": "2021-04-07T17:45:39.200215Z",
     "iopub.status.busy": "2021-04-07T17:45:39.199427Z",
     "iopub.status.idle": "2021-04-07T17:45:39.391094Z",
     "shell.execute_reply": "2021-04-07T17:45:39.391644Z"
    },
    "papermill": {
     "duration": 0.372901,
     "end_time": "2021-04-07T17:45:39.391907",
     "exception": false,
     "start_time": "2021-04-07T17:45:39.019006",
     "status": "completed"
    },
    "tags": []
   },
   "outputs": [],
   "source": [
    "rf_predictions2 = rf_model.transform(test_vector)\n",
    "#rf_predictions2.printSchema()\n",
    "pred = rf_predictions2.select(\"Id\",\"prediction\")\n",
    "pred = pred.withColumnRenamed(\"prediction\",\"SalePrice\")\n",
    "\n",
    "from pyspark.sql.types import FloatType, IntegerType\n",
    "\n",
    "#pred.printSchema()\n",
    "pred = pred.withColumn(\"Id\", pred[\"Id\"].cast(IntegerType()))\n",
    "pred = pred.withColumn(\"SalePrice\", pred[\"SalePrice\"].cast(FloatType()))\n"
   ]
  },
  {
   "cell_type": "code",
   "execution_count": null,
   "metadata": {
    "execution": {
     "iopub.execute_input": "2021-04-07T17:45:39.745417Z",
     "iopub.status.busy": "2021-04-07T17:45:39.744295Z",
     "iopub.status.idle": "2021-04-07T17:45:40.501347Z",
     "shell.execute_reply": "2021-04-07T17:45:40.501984Z"
    },
    "papermill": {
     "duration": 0.936738,
     "end_time": "2021-04-07T17:45:40.502231",
     "exception": false,
     "start_time": "2021-04-07T17:45:39.565493",
     "status": "completed"
    },
    "tags": []
   },
   "outputs": [],
   "source": [
    "pred_pd = pred.toPandas()\n",
    "save = pred_pd.to_csv(\"submission.csv\", index=False)\n",
    "save"
   ]
  },
  {
   "cell_type": "code",
   "execution_count": null,
   "metadata": {
    "execution": {
     "iopub.execute_input": "2021-04-07T17:45:40.866788Z",
     "iopub.status.busy": "2021-04-07T17:45:40.865773Z",
     "iopub.status.idle": "2021-04-07T17:45:40.871234Z",
     "shell.execute_reply": "2021-04-07T17:45:40.870611Z"
    },
    "papermill": {
     "duration": 0.195331,
     "end_time": "2021-04-07T17:45:40.871416",
     "exception": false,
     "start_time": "2021-04-07T17:45:40.676085",
     "status": "completed"
    },
    "tags": []
   },
   "outputs": [
    {
     "data": {
      "text/html": [
       "<div>\n",
       "<style scoped>\n",
       "    .dataframe tbody tr th:only-of-type {\n",
       "        vertical-align: middle;\n",
       "    }\n",
       "\n",
       "    .dataframe tbody tr th {\n",
       "        vertical-align: top;\n",
       "    }\n",
       "\n",
       "    .dataframe thead th {\n",
       "        text-align: right;\n",
       "    }\n",
       "</style>\n",
       "<table border=\"1\" class=\"dataframe\">\n",
       "  <thead>\n",
       "    <tr style=\"text-align: right;\">\n",
       "      <th></th>\n",
       "      <th>Id</th>\n",
       "      <th>SalePrice</th>\n",
       "    </tr>\n",
       "  </thead>\n",
       "  <tbody>\n",
       "    <tr>\n",
       "      <th>0</th>\n",
       "      <td>1461</td>\n",
       "      <td>130584.585938</td>\n",
       "    </tr>\n",
       "    <tr>\n",
       "      <th>1</th>\n",
       "      <td>1462</td>\n",
       "      <td>155297.078125</td>\n",
       "    </tr>\n",
       "    <tr>\n",
       "      <th>2</th>\n",
       "      <td>1463</td>\n",
       "      <td>163470.000000</td>\n",
       "    </tr>\n",
       "    <tr>\n",
       "      <th>3</th>\n",
       "      <td>1464</td>\n",
       "      <td>176263.156250</td>\n",
       "    </tr>\n",
       "    <tr>\n",
       "      <th>4</th>\n",
       "      <td>1465</td>\n",
       "      <td>212119.484375</td>\n",
       "    </tr>\n",
       "    <tr>\n",
       "      <th>...</th>\n",
       "      <td>...</td>\n",
       "      <td>...</td>\n",
       "    </tr>\n",
       "    <tr>\n",
       "      <th>1454</th>\n",
       "      <td>2915</td>\n",
       "      <td>124907.984375</td>\n",
       "    </tr>\n",
       "    <tr>\n",
       "      <th>1455</th>\n",
       "      <td>2916</td>\n",
       "      <td>127900.984375</td>\n",
       "    </tr>\n",
       "    <tr>\n",
       "      <th>1456</th>\n",
       "      <td>2917</td>\n",
       "      <td>163617.078125</td>\n",
       "    </tr>\n",
       "    <tr>\n",
       "      <th>1457</th>\n",
       "      <td>2918</td>\n",
       "      <td>128809.265625</td>\n",
       "    </tr>\n",
       "    <tr>\n",
       "      <th>1458</th>\n",
       "      <td>2919</td>\n",
       "      <td>245042.000000</td>\n",
       "    </tr>\n",
       "  </tbody>\n",
       "</table>\n",
       "<p>1459 rows × 2 columns</p>\n",
       "</div>"
      ],
      "text/plain": [
       "        Id      SalePrice\n",
       "0     1461  130584.585938\n",
       "1     1462  155297.078125\n",
       "2     1463  163470.000000\n",
       "3     1464  176263.156250\n",
       "4     1465  212119.484375\n",
       "...    ...            ...\n",
       "1454  2915  124907.984375\n",
       "1455  2916  127900.984375\n",
       "1456  2917  163617.078125\n",
       "1457  2918  128809.265625\n",
       "1458  2919  245042.000000\n",
       "\n",
       "[1459 rows x 2 columns]"
      ]
     },
     "execution_count": 74,
     "metadata": {},
     "output_type": "execute_result"
    }
   ],
   "source": [
    "pred_pd"
   ]
  },
  {
   "cell_type": "markdown",
   "metadata": {
    "papermill": {
     "duration": 0.175748,
     "end_time": "2021-04-07T17:45:41.229134",
     "exception": false,
     "start_time": "2021-04-07T17:45:41.053386",
     "status": "completed"
    },
    "tags": []
   },
   "source": [
    "# 5. Conclusion"
   ]
  },
  {
   "cell_type": "markdown",
   "metadata": {
    "papermill": {
     "duration": 0.171542,
     "end_time": "2021-04-07T17:45:41.573474",
     "exception": false,
     "start_time": "2021-04-07T17:45:41.401932",
     "status": "completed"
    },
    "tags": []
   },
   "source": [
    "**PySpark offers way less flexibility in working with data & models. This notebook represents just an exercise in using it. As for this particular dataset, you'd better use classical instruments.**"
   ]
  },
  {
   "cell_type": "markdown",
   "metadata": {
    "papermill": {
     "duration": 0.174261,
     "end_time": "2021-04-07T17:45:41.920344",
     "exception": false,
     "start_time": "2021-04-07T17:45:41.746083",
     "status": "completed"
    },
    "tags": []
   },
   "source": [
    "**However, we achieved quite good metrics of R^2~0.9 with Linear Regression and Random Forest Regression.**"
   ]
  }
 ],
 "metadata": {
  "kernelspec": {
   "display_name": "Python 3.8.10 64-bit (windows store)",
   "language": "python",
   "name": "python3"
  },
  "language_info": {
   "codemirror_mode": {
    "name": "ipython",
    "version": 3
   },
   "file_extension": ".py",
   "mimetype": "text/x-python",
   "name": "python",
   "nbconvert_exporter": "python",
   "pygments_lexer": "ipython3",
   "version": "3.8.10"
  },
  "papermill": {
   "default_parameters": {},
   "duration": 134.196124,
   "end_time": "2021-04-07T17:45:43.116440",
   "environment_variables": {},
   "exception": null,
   "input_path": "__notebook__.ipynb",
   "output_path": "__notebook__.ipynb",
   "parameters": {},
   "start_time": "2021-04-07T17:43:28.920316",
   "version": "2.2.2"
  },
  "vscode": {
   "interpreter": {
    "hash": "aaf5edabc44c88571c4d6b9ef24023248b21d69e1eb8175a770a6e63ccf0995c"
   }
  }
 },
 "nbformat": 4,
 "nbformat_minor": 4
}
