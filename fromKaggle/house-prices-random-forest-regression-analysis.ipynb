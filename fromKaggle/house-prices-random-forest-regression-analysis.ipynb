{
 "cells": [
  {
   "cell_type": "markdown",
   "metadata": {
    "_cell_guid": "94354be7-5f5b-4590-a29d-23349d774321",
    "_uuid": "f682ebb7b3575d95e39b2447f40f1e3f03c6c2e4"
   },
   "source": [
    "# Kaggle Competition: House Price Regression\n",
    "For this competiton, we are given a data set of 1,460 homes, each with a few dozen features of types: float, integer, and categorical. We are tasked with building a regression model to estimate a home's sale price. Since this is my first kaggle competition, and I'm still quite new to machine learning techniques, I'm going to use this problem as a way to explore common classifiers, namely:\n",
    "\n",
    "* random trees and\n",
    "* random forests.\n",
    "\n",
    "I appreciate any feedback! \n",
    "\n",
    "Let's get started by importing some libraries and getting the training data..."
   ]
  },
  {
   "cell_type": "code",
   "execution_count": 1,
   "metadata": {
    "_cell_guid": "6d6e2e5e-97f6-4343-8462-917adfb59a04",
    "_uuid": "e5797fdf56e17bb2dd46df99026300101ee7e5f8"
   },
   "outputs": [
    {
     "ename": "FileNotFoundError",
     "evalue": "[WinError 2] Impossibile trovare il file specificato",
     "output_type": "error",
     "traceback": [
      "\u001b[1;31m---------------------------------------------------------------------------\u001b[0m",
      "\u001b[1;31mFileNotFoundError\u001b[0m                         Traceback (most recent call last)",
      "\u001b[1;32mf:\\Il mio Drive\\Unipa\\Laurea Magistrale\\Anno DUE\\Primo Semestre\\Big Data\\Progetto Esame\\house-prices-random-forest-regression-analysis.ipynb Cell 2'\u001b[0m in \u001b[0;36m<cell line: 17>\u001b[1;34m()\u001b[0m\n\u001b[0;32m     <a href='vscode-notebook-cell:/f%3A/Il%20mio%20Drive/Unipa/Laurea%20Magistrale/Anno%20DUE/Primo%20Semestre/Big%20Data/Progetto%20Esame/house-prices-random-forest-regression-analysis.ipynb#ch0000001?line=12'>13</a>\u001b[0m \u001b[39m# Input data files are available in the \"../input/\" directory.\u001b[39;00m\n\u001b[0;32m     <a href='vscode-notebook-cell:/f%3A/Il%20mio%20Drive/Unipa/Laurea%20Magistrale/Anno%20DUE/Primo%20Semestre/Big%20Data/Progetto%20Esame/house-prices-random-forest-regression-analysis.ipynb#ch0000001?line=13'>14</a>\u001b[0m \u001b[39m# For example, running this (by clicking run or pressing Shift+Enter) will list the files in the input directory\u001b[39;00m\n\u001b[0;32m     <a href='vscode-notebook-cell:/f%3A/Il%20mio%20Drive/Unipa/Laurea%20Magistrale/Anno%20DUE/Primo%20Semestre/Big%20Data/Progetto%20Esame/house-prices-random-forest-regression-analysis.ipynb#ch0000001?line=15'>16</a>\u001b[0m \u001b[39mfrom\u001b[39;00m \u001b[39msubprocess\u001b[39;00m \u001b[39mimport\u001b[39;00m check_output\n\u001b[1;32m---> <a href='vscode-notebook-cell:/f%3A/Il%20mio%20Drive/Unipa/Laurea%20Magistrale/Anno%20DUE/Primo%20Semestre/Big%20Data/Progetto%20Esame/house-prices-random-forest-regression-analysis.ipynb#ch0000001?line=16'>17</a>\u001b[0m \u001b[39mprint\u001b[39m(check_output([\u001b[39m\"\u001b[39;49m\u001b[39mls\u001b[39;49m\u001b[39m\"\u001b[39;49m, \u001b[39m\"\u001b[39;49m\u001b[39m../input\u001b[39;49m\u001b[39m\"\u001b[39;49m])\u001b[39m.\u001b[39mdecode(\u001b[39m\"\u001b[39m\u001b[39mutf8\u001b[39m\u001b[39m\"\u001b[39m))\n",
      "File \u001b[1;32mC:\\Program Files\\WindowsApps\\PythonSoftwareFoundation.Python.3.8_3.8.2800.0_x64__qbz5n2kfra8p0\\lib\\subprocess.py:415\u001b[0m, in \u001b[0;36mcheck_output\u001b[1;34m(timeout, *popenargs, **kwargs)\u001b[0m\n\u001b[0;32m    412\u001b[0m         empty \u001b[39m=\u001b[39m \u001b[39mb\u001b[39m\u001b[39m'\u001b[39m\u001b[39m'\u001b[39m\n\u001b[0;32m    413\u001b[0m     kwargs[\u001b[39m'\u001b[39m\u001b[39minput\u001b[39m\u001b[39m'\u001b[39m] \u001b[39m=\u001b[39m empty\n\u001b[1;32m--> 415\u001b[0m \u001b[39mreturn\u001b[39;00m run(\u001b[39m*\u001b[39;49mpopenargs, stdout\u001b[39m=\u001b[39;49mPIPE, timeout\u001b[39m=\u001b[39;49mtimeout, check\u001b[39m=\u001b[39;49m\u001b[39mTrue\u001b[39;49;00m,\n\u001b[0;32m    416\u001b[0m            \u001b[39m*\u001b[39;49m\u001b[39m*\u001b[39;49mkwargs)\u001b[39m.\u001b[39mstdout\n",
      "File \u001b[1;32mC:\\Program Files\\WindowsApps\\PythonSoftwareFoundation.Python.3.8_3.8.2800.0_x64__qbz5n2kfra8p0\\lib\\subprocess.py:493\u001b[0m, in \u001b[0;36mrun\u001b[1;34m(input, capture_output, timeout, check, *popenargs, **kwargs)\u001b[0m\n\u001b[0;32m    490\u001b[0m     kwargs[\u001b[39m'\u001b[39m\u001b[39mstdout\u001b[39m\u001b[39m'\u001b[39m] \u001b[39m=\u001b[39m PIPE\n\u001b[0;32m    491\u001b[0m     kwargs[\u001b[39m'\u001b[39m\u001b[39mstderr\u001b[39m\u001b[39m'\u001b[39m] \u001b[39m=\u001b[39m PIPE\n\u001b[1;32m--> 493\u001b[0m \u001b[39mwith\u001b[39;00m Popen(\u001b[39m*\u001b[39;49mpopenargs, \u001b[39m*\u001b[39;49m\u001b[39m*\u001b[39;49mkwargs) \u001b[39mas\u001b[39;00m process:\n\u001b[0;32m    494\u001b[0m     \u001b[39mtry\u001b[39;00m:\n\u001b[0;32m    495\u001b[0m         stdout, stderr \u001b[39m=\u001b[39m process\u001b[39m.\u001b[39mcommunicate(\u001b[39minput\u001b[39m, timeout\u001b[39m=\u001b[39mtimeout)\n",
      "File \u001b[1;32mC:\\Program Files\\WindowsApps\\PythonSoftwareFoundation.Python.3.8_3.8.2800.0_x64__qbz5n2kfra8p0\\lib\\subprocess.py:858\u001b[0m, in \u001b[0;36mPopen.__init__\u001b[1;34m(self, args, bufsize, executable, stdin, stdout, stderr, preexec_fn, close_fds, shell, cwd, env, universal_newlines, startupinfo, creationflags, restore_signals, start_new_session, pass_fds, encoding, errors, text)\u001b[0m\n\u001b[0;32m    854\u001b[0m         \u001b[39mif\u001b[39;00m \u001b[39mself\u001b[39m\u001b[39m.\u001b[39mtext_mode:\n\u001b[0;32m    855\u001b[0m             \u001b[39mself\u001b[39m\u001b[39m.\u001b[39mstderr \u001b[39m=\u001b[39m io\u001b[39m.\u001b[39mTextIOWrapper(\u001b[39mself\u001b[39m\u001b[39m.\u001b[39mstderr,\n\u001b[0;32m    856\u001b[0m                     encoding\u001b[39m=\u001b[39mencoding, errors\u001b[39m=\u001b[39merrors)\n\u001b[1;32m--> 858\u001b[0m     \u001b[39mself\u001b[39;49m\u001b[39m.\u001b[39;49m_execute_child(args, executable, preexec_fn, close_fds,\n\u001b[0;32m    859\u001b[0m                         pass_fds, cwd, env,\n\u001b[0;32m    860\u001b[0m                         startupinfo, creationflags, shell,\n\u001b[0;32m    861\u001b[0m                         p2cread, p2cwrite,\n\u001b[0;32m    862\u001b[0m                         c2pread, c2pwrite,\n\u001b[0;32m    863\u001b[0m                         errread, errwrite,\n\u001b[0;32m    864\u001b[0m                         restore_signals, start_new_session)\n\u001b[0;32m    865\u001b[0m \u001b[39mexcept\u001b[39;00m:\n\u001b[0;32m    866\u001b[0m     \u001b[39m# Cleanup if the child failed starting.\u001b[39;00m\n\u001b[0;32m    867\u001b[0m     \u001b[39mfor\u001b[39;00m f \u001b[39min\u001b[39;00m \u001b[39mfilter\u001b[39m(\u001b[39mNone\u001b[39;00m, (\u001b[39mself\u001b[39m\u001b[39m.\u001b[39mstdin, \u001b[39mself\u001b[39m\u001b[39m.\u001b[39mstdout, \u001b[39mself\u001b[39m\u001b[39m.\u001b[39mstderr)):\n",
      "File \u001b[1;32mC:\\Program Files\\WindowsApps\\PythonSoftwareFoundation.Python.3.8_3.8.2800.0_x64__qbz5n2kfra8p0\\lib\\subprocess.py:1311\u001b[0m, in \u001b[0;36mPopen._execute_child\u001b[1;34m(self, args, executable, preexec_fn, close_fds, pass_fds, cwd, env, startupinfo, creationflags, shell, p2cread, p2cwrite, c2pread, c2pwrite, errread, errwrite, unused_restore_signals, unused_start_new_session)\u001b[0m\n\u001b[0;32m   1309\u001b[0m \u001b[39m# Start the process\u001b[39;00m\n\u001b[0;32m   1310\u001b[0m \u001b[39mtry\u001b[39;00m:\n\u001b[1;32m-> 1311\u001b[0m     hp, ht, pid, tid \u001b[39m=\u001b[39m _winapi\u001b[39m.\u001b[39;49mCreateProcess(executable, args,\n\u001b[0;32m   1312\u001b[0m                              \u001b[39m# no special security\u001b[39;49;00m\n\u001b[0;32m   1313\u001b[0m                              \u001b[39mNone\u001b[39;49;00m, \u001b[39mNone\u001b[39;49;00m,\n\u001b[0;32m   1314\u001b[0m                              \u001b[39mint\u001b[39;49m(\u001b[39mnot\u001b[39;49;00m close_fds),\n\u001b[0;32m   1315\u001b[0m                              creationflags,\n\u001b[0;32m   1316\u001b[0m                              env,\n\u001b[0;32m   1317\u001b[0m                              cwd,\n\u001b[0;32m   1318\u001b[0m                              startupinfo)\n\u001b[0;32m   1319\u001b[0m \u001b[39mfinally\u001b[39;00m:\n\u001b[0;32m   1320\u001b[0m     \u001b[39m# Child is launched. Close the parent's copy of those pipe\u001b[39;00m\n\u001b[0;32m   1321\u001b[0m     \u001b[39m# handles that only the child should have open.  You need\u001b[39;00m\n\u001b[1;32m   (...)\u001b[0m\n\u001b[0;32m   1324\u001b[0m     \u001b[39m# pipe will not close when the child process exits and the\u001b[39;00m\n\u001b[0;32m   1325\u001b[0m     \u001b[39m# ReadFile will hang.\u001b[39;00m\n\u001b[0;32m   1326\u001b[0m     \u001b[39mself\u001b[39m\u001b[39m.\u001b[39m_close_pipe_fds(p2cread, p2cwrite,\n\u001b[0;32m   1327\u001b[0m                          c2pread, c2pwrite,\n\u001b[0;32m   1328\u001b[0m                          errread, errwrite)\n",
      "\u001b[1;31mFileNotFoundError\u001b[0m: [WinError 2] Impossibile trovare il file specificato"
     ]
    }
   ],
   "source": [
    "# This Python 3 environment comes with many helpful analytics libraries installed\n",
    "# It is defined by the kaggle/python docker image: https://github.com/kaggle/docker-python\n",
    "# For example, here's several helpful packages to load in \n",
    "\n",
    "import numpy as np # linear algebra\n",
    "import pandas as pd # data processing, CSV file I/O (e.g. pd.read_csv)\n",
    "import matplotlib.pyplot as plt # some plotting!\n",
    "import seaborn as sns # so pretty!\n",
    "from scipy import stats # I might use this\n",
    "from sklearn.ensemble import RandomForestClassifier # checking if this is available\n",
    "# from sklearn import cross_validation\n",
    "%matplotlib inline\n",
    "# Input data files are available in the \"../input/\" directory.\n",
    "# For example, running this (by clicking run or pressing Shift+Enter) will list the files in the input directory\n",
    "\n",
    "from subprocess import check_output\n",
    "print(check_output([\"ls\", \"../input\"]).decode(\"utf8\"))\n",
    "\n",
    "# Any results you write to the current directory are saved as output."
   ]
  },
  {
   "cell_type": "code",
   "execution_count": 2,
   "metadata": {
    "_cell_guid": "c3e56148-aeb9-43bf-ba55-a3f4d4535798",
    "_uuid": "58c6afdc57a0c70bca9066dc9999b6e1a7b6e03b"
   },
   "outputs": [
    {
     "name": "stdout",
     "output_type": "stream",
     "text": [
      "<class 'pandas.core.frame.DataFrame'>\n",
      "RangeIndex: 1460 entries, 0 to 1459\n",
      "Data columns (total 81 columns):\n",
      "Id               1460 non-null int64\n",
      "MSSubClass       1460 non-null int64\n",
      "MSZoning         1460 non-null object\n",
      "LotFrontage      1201 non-null float64\n",
      "LotArea          1460 non-null int64\n",
      "Street           1460 non-null object\n",
      "Alley            91 non-null object\n",
      "LotShape         1460 non-null object\n",
      "LandContour      1460 non-null object\n",
      "Utilities        1460 non-null object\n",
      "LotConfig        1460 non-null object\n",
      "LandSlope        1460 non-null object\n",
      "Neighborhood     1460 non-null object\n",
      "Condition1       1460 non-null object\n",
      "Condition2       1460 non-null object\n",
      "BldgType         1460 non-null object\n",
      "HouseStyle       1460 non-null object\n",
      "OverallQual      1460 non-null int64\n",
      "OverallCond      1460 non-null int64\n",
      "YearBuilt        1460 non-null int64\n",
      "YearRemodAdd     1460 non-null int64\n",
      "RoofStyle        1460 non-null object\n",
      "RoofMatl         1460 non-null object\n",
      "Exterior1st      1460 non-null object\n",
      "Exterior2nd      1460 non-null object\n",
      "MasVnrType       1452 non-null object\n",
      "MasVnrArea       1452 non-null float64\n",
      "ExterQual        1460 non-null object\n",
      "ExterCond        1460 non-null object\n",
      "Foundation       1460 non-null object\n",
      "BsmtQual         1423 non-null object\n",
      "BsmtCond         1423 non-null object\n",
      "BsmtExposure     1422 non-null object\n",
      "BsmtFinType1     1423 non-null object\n",
      "BsmtFinSF1       1460 non-null int64\n",
      "BsmtFinType2     1422 non-null object\n",
      "BsmtFinSF2       1460 non-null int64\n",
      "BsmtUnfSF        1460 non-null int64\n",
      "TotalBsmtSF      1460 non-null int64\n",
      "Heating          1460 non-null object\n",
      "HeatingQC        1460 non-null object\n",
      "CentralAir       1460 non-null object\n",
      "Electrical       1459 non-null object\n",
      "1stFlrSF         1460 non-null int64\n",
      "2ndFlrSF         1460 non-null int64\n",
      "LowQualFinSF     1460 non-null int64\n",
      "GrLivArea        1460 non-null int64\n",
      "BsmtFullBath     1460 non-null int64\n",
      "BsmtHalfBath     1460 non-null int64\n",
      "FullBath         1460 non-null int64\n",
      "HalfBath         1460 non-null int64\n",
      "BedroomAbvGr     1460 non-null int64\n",
      "KitchenAbvGr     1460 non-null int64\n",
      "KitchenQual      1460 non-null object\n",
      "TotRmsAbvGrd     1460 non-null int64\n",
      "Functional       1460 non-null object\n",
      "Fireplaces       1460 non-null int64\n",
      "FireplaceQu      770 non-null object\n",
      "GarageType       1379 non-null object\n",
      "GarageYrBlt      1379 non-null float64\n",
      "GarageFinish     1379 non-null object\n",
      "GarageCars       1460 non-null int64\n",
      "GarageArea       1460 non-null int64\n",
      "GarageQual       1379 non-null object\n",
      "GarageCond       1379 non-null object\n",
      "PavedDrive       1460 non-null object\n",
      "WoodDeckSF       1460 non-null int64\n",
      "OpenPorchSF      1460 non-null int64\n",
      "EnclosedPorch    1460 non-null int64\n",
      "3SsnPorch        1460 non-null int64\n",
      "ScreenPorch      1460 non-null int64\n",
      "PoolArea         1460 non-null int64\n",
      "PoolQC           7 non-null object\n",
      "Fence            281 non-null object\n",
      "MiscFeature      54 non-null object\n",
      "MiscVal          1460 non-null int64\n",
      "MoSold           1460 non-null int64\n",
      "YrSold           1460 non-null int64\n",
      "SaleType         1460 non-null object\n",
      "SaleCondition    1460 non-null object\n",
      "SalePrice        1460 non-null int64\n",
      "dtypes: float64(3), int64(35), object(43)\n",
      "memory usage: 924.0+ KB\n"
     ]
    }
   ],
   "source": [
    "# import the training data set and make sure it's in correctly...\n",
    "train = pd.read_csv('../input/train.csv')\n",
    "train_original = pd.read_csv('../input/train.csv')\n",
    "test = pd.read_csv('../input/test.csv')\n",
    "train.info()"
   ]
  },
  {
   "cell_type": "markdown",
   "metadata": {
    "_cell_guid": "6db033b7-4e89-4b27-a81d-e1608f1ceb0c",
    "_uuid": "7ab0a053788332c364000ceff35c88be38c1e6bc"
   },
   "source": [
    "# Feature First Impressions\n",
    "It looks like we have integer, float, and object (categorical) features. Also, it looks like some of the features only pertain to a small portion of the 1,460 samples. For now, let's ignore those features where data is missing.\n",
    "\n",
    "## Pre-processing Categorical Features\n",
    "Let's declare a quick function to convert categorical features into integer features, with the most common category of the feature being converted to integer 0, the next most common to 1, and so on. This may be useful later."
   ]
  },
  {
   "cell_type": "code",
   "execution_count": 3,
   "metadata": {
    "_cell_guid": "8be03658-8732-4265-844b-7e483419e9ae",
    "_uuid": "c31611d88331f4c8d21f48c1cc604aab30c52555",
    "scrolled": true
   },
   "outputs": [
    {
     "data": {
      "text/html": [
       "<div>\n",
       "<style>\n",
       "    .dataframe thead tr:only-child th {\n",
       "        text-align: right;\n",
       "    }\n",
       "\n",
       "    .dataframe thead th {\n",
       "        text-align: left;\n",
       "    }\n",
       "\n",
       "    .dataframe tbody tr th {\n",
       "        vertical-align: top;\n",
       "    }\n",
       "</style>\n",
       "<table border=\"1\" class=\"dataframe\">\n",
       "  <thead>\n",
       "    <tr style=\"text-align: right;\">\n",
       "      <th></th>\n",
       "      <th>Id</th>\n",
       "      <th>MSSubClass</th>\n",
       "      <th>MSZoning</th>\n",
       "      <th>LotFrontage</th>\n",
       "      <th>LotArea</th>\n",
       "      <th>Street</th>\n",
       "      <th>Alley</th>\n",
       "      <th>LotShape</th>\n",
       "      <th>LandContour</th>\n",
       "      <th>Utilities</th>\n",
       "      <th>...</th>\n",
       "      <th>PoolArea</th>\n",
       "      <th>PoolQC</th>\n",
       "      <th>Fence</th>\n",
       "      <th>MiscFeature</th>\n",
       "      <th>MiscVal</th>\n",
       "      <th>MoSold</th>\n",
       "      <th>YrSold</th>\n",
       "      <th>SaleType</th>\n",
       "      <th>SaleCondition</th>\n",
       "      <th>SalePrice</th>\n",
       "    </tr>\n",
       "  </thead>\n",
       "  <tbody>\n",
       "    <tr>\n",
       "      <th>0</th>\n",
       "      <td>1</td>\n",
       "      <td>60</td>\n",
       "      <td>RL</td>\n",
       "      <td>65.0</td>\n",
       "      <td>8450</td>\n",
       "      <td>Pave</td>\n",
       "      <td>NaN</td>\n",
       "      <td>0</td>\n",
       "      <td>Lvl</td>\n",
       "      <td>AllPub</td>\n",
       "      <td>...</td>\n",
       "      <td>0</td>\n",
       "      <td>NaN</td>\n",
       "      <td>NaN</td>\n",
       "      <td>NaN</td>\n",
       "      <td>0</td>\n",
       "      <td>2</td>\n",
       "      <td>2008</td>\n",
       "      <td>WD</td>\n",
       "      <td>Normal</td>\n",
       "      <td>208500</td>\n",
       "    </tr>\n",
       "    <tr>\n",
       "      <th>1</th>\n",
       "      <td>2</td>\n",
       "      <td>20</td>\n",
       "      <td>RL</td>\n",
       "      <td>80.0</td>\n",
       "      <td>9600</td>\n",
       "      <td>Pave</td>\n",
       "      <td>NaN</td>\n",
       "      <td>0</td>\n",
       "      <td>Lvl</td>\n",
       "      <td>AllPub</td>\n",
       "      <td>...</td>\n",
       "      <td>0</td>\n",
       "      <td>NaN</td>\n",
       "      <td>NaN</td>\n",
       "      <td>NaN</td>\n",
       "      <td>0</td>\n",
       "      <td>5</td>\n",
       "      <td>2007</td>\n",
       "      <td>WD</td>\n",
       "      <td>Normal</td>\n",
       "      <td>181500</td>\n",
       "    </tr>\n",
       "    <tr>\n",
       "      <th>2</th>\n",
       "      <td>3</td>\n",
       "      <td>60</td>\n",
       "      <td>RL</td>\n",
       "      <td>68.0</td>\n",
       "      <td>11250</td>\n",
       "      <td>Pave</td>\n",
       "      <td>NaN</td>\n",
       "      <td>1</td>\n",
       "      <td>Lvl</td>\n",
       "      <td>AllPub</td>\n",
       "      <td>...</td>\n",
       "      <td>0</td>\n",
       "      <td>NaN</td>\n",
       "      <td>NaN</td>\n",
       "      <td>NaN</td>\n",
       "      <td>0</td>\n",
       "      <td>9</td>\n",
       "      <td>2008</td>\n",
       "      <td>WD</td>\n",
       "      <td>Normal</td>\n",
       "      <td>223500</td>\n",
       "    </tr>\n",
       "    <tr>\n",
       "      <th>3</th>\n",
       "      <td>4</td>\n",
       "      <td>70</td>\n",
       "      <td>RL</td>\n",
       "      <td>60.0</td>\n",
       "      <td>9550</td>\n",
       "      <td>Pave</td>\n",
       "      <td>NaN</td>\n",
       "      <td>1</td>\n",
       "      <td>Lvl</td>\n",
       "      <td>AllPub</td>\n",
       "      <td>...</td>\n",
       "      <td>0</td>\n",
       "      <td>NaN</td>\n",
       "      <td>NaN</td>\n",
       "      <td>NaN</td>\n",
       "      <td>0</td>\n",
       "      <td>2</td>\n",
       "      <td>2006</td>\n",
       "      <td>WD</td>\n",
       "      <td>Abnorml</td>\n",
       "      <td>140000</td>\n",
       "    </tr>\n",
       "    <tr>\n",
       "      <th>4</th>\n",
       "      <td>5</td>\n",
       "      <td>60</td>\n",
       "      <td>RL</td>\n",
       "      <td>84.0</td>\n",
       "      <td>14260</td>\n",
       "      <td>Pave</td>\n",
       "      <td>NaN</td>\n",
       "      <td>1</td>\n",
       "      <td>Lvl</td>\n",
       "      <td>AllPub</td>\n",
       "      <td>...</td>\n",
       "      <td>0</td>\n",
       "      <td>NaN</td>\n",
       "      <td>NaN</td>\n",
       "      <td>NaN</td>\n",
       "      <td>0</td>\n",
       "      <td>12</td>\n",
       "      <td>2008</td>\n",
       "      <td>WD</td>\n",
       "      <td>Normal</td>\n",
       "      <td>250000</td>\n",
       "    </tr>\n",
       "    <tr>\n",
       "      <th>5</th>\n",
       "      <td>6</td>\n",
       "      <td>50</td>\n",
       "      <td>RL</td>\n",
       "      <td>85.0</td>\n",
       "      <td>14115</td>\n",
       "      <td>Pave</td>\n",
       "      <td>NaN</td>\n",
       "      <td>1</td>\n",
       "      <td>Lvl</td>\n",
       "      <td>AllPub</td>\n",
       "      <td>...</td>\n",
       "      <td>0</td>\n",
       "      <td>NaN</td>\n",
       "      <td>MnPrv</td>\n",
       "      <td>Shed</td>\n",
       "      <td>700</td>\n",
       "      <td>10</td>\n",
       "      <td>2009</td>\n",
       "      <td>WD</td>\n",
       "      <td>Normal</td>\n",
       "      <td>143000</td>\n",
       "    </tr>\n",
       "    <tr>\n",
       "      <th>6</th>\n",
       "      <td>7</td>\n",
       "      <td>20</td>\n",
       "      <td>RL</td>\n",
       "      <td>75.0</td>\n",
       "      <td>10084</td>\n",
       "      <td>Pave</td>\n",
       "      <td>NaN</td>\n",
       "      <td>0</td>\n",
       "      <td>Lvl</td>\n",
       "      <td>AllPub</td>\n",
       "      <td>...</td>\n",
       "      <td>0</td>\n",
       "      <td>NaN</td>\n",
       "      <td>NaN</td>\n",
       "      <td>NaN</td>\n",
       "      <td>0</td>\n",
       "      <td>8</td>\n",
       "      <td>2007</td>\n",
       "      <td>WD</td>\n",
       "      <td>Normal</td>\n",
       "      <td>307000</td>\n",
       "    </tr>\n",
       "    <tr>\n",
       "      <th>7</th>\n",
       "      <td>8</td>\n",
       "      <td>60</td>\n",
       "      <td>RL</td>\n",
       "      <td>NaN</td>\n",
       "      <td>10382</td>\n",
       "      <td>Pave</td>\n",
       "      <td>NaN</td>\n",
       "      <td>1</td>\n",
       "      <td>Lvl</td>\n",
       "      <td>AllPub</td>\n",
       "      <td>...</td>\n",
       "      <td>0</td>\n",
       "      <td>NaN</td>\n",
       "      <td>NaN</td>\n",
       "      <td>Shed</td>\n",
       "      <td>350</td>\n",
       "      <td>11</td>\n",
       "      <td>2009</td>\n",
       "      <td>WD</td>\n",
       "      <td>Normal</td>\n",
       "      <td>200000</td>\n",
       "    </tr>\n",
       "    <tr>\n",
       "      <th>8</th>\n",
       "      <td>9</td>\n",
       "      <td>50</td>\n",
       "      <td>RM</td>\n",
       "      <td>51.0</td>\n",
       "      <td>6120</td>\n",
       "      <td>Pave</td>\n",
       "      <td>NaN</td>\n",
       "      <td>0</td>\n",
       "      <td>Lvl</td>\n",
       "      <td>AllPub</td>\n",
       "      <td>...</td>\n",
       "      <td>0</td>\n",
       "      <td>NaN</td>\n",
       "      <td>NaN</td>\n",
       "      <td>NaN</td>\n",
       "      <td>0</td>\n",
       "      <td>4</td>\n",
       "      <td>2008</td>\n",
       "      <td>WD</td>\n",
       "      <td>Abnorml</td>\n",
       "      <td>129900</td>\n",
       "    </tr>\n",
       "    <tr>\n",
       "      <th>9</th>\n",
       "      <td>10</td>\n",
       "      <td>190</td>\n",
       "      <td>RL</td>\n",
       "      <td>50.0</td>\n",
       "      <td>7420</td>\n",
       "      <td>Pave</td>\n",
       "      <td>NaN</td>\n",
       "      <td>0</td>\n",
       "      <td>Lvl</td>\n",
       "      <td>AllPub</td>\n",
       "      <td>...</td>\n",
       "      <td>0</td>\n",
       "      <td>NaN</td>\n",
       "      <td>NaN</td>\n",
       "      <td>NaN</td>\n",
       "      <td>0</td>\n",
       "      <td>1</td>\n",
       "      <td>2008</td>\n",
       "      <td>WD</td>\n",
       "      <td>Normal</td>\n",
       "      <td>118000</td>\n",
       "    </tr>\n",
       "  </tbody>\n",
       "</table>\n",
       "<p>10 rows × 81 columns</p>\n",
       "</div>"
      ],
      "text/plain": [
       "   Id  MSSubClass MSZoning  LotFrontage  LotArea Street Alley  LotShape  \\\n",
       "0   1          60       RL         65.0     8450   Pave   NaN         0   \n",
       "1   2          20       RL         80.0     9600   Pave   NaN         0   \n",
       "2   3          60       RL         68.0    11250   Pave   NaN         1   \n",
       "3   4          70       RL         60.0     9550   Pave   NaN         1   \n",
       "4   5          60       RL         84.0    14260   Pave   NaN         1   \n",
       "5   6          50       RL         85.0    14115   Pave   NaN         1   \n",
       "6   7          20       RL         75.0    10084   Pave   NaN         0   \n",
       "7   8          60       RL          NaN    10382   Pave   NaN         1   \n",
       "8   9          50       RM         51.0     6120   Pave   NaN         0   \n",
       "9  10         190       RL         50.0     7420   Pave   NaN         0   \n",
       "\n",
       "  LandContour Utilities    ...     PoolArea PoolQC  Fence MiscFeature MiscVal  \\\n",
       "0         Lvl    AllPub    ...            0    NaN    NaN         NaN       0   \n",
       "1         Lvl    AllPub    ...            0    NaN    NaN         NaN       0   \n",
       "2         Lvl    AllPub    ...            0    NaN    NaN         NaN       0   \n",
       "3         Lvl    AllPub    ...            0    NaN    NaN         NaN       0   \n",
       "4         Lvl    AllPub    ...            0    NaN    NaN         NaN       0   \n",
       "5         Lvl    AllPub    ...            0    NaN  MnPrv        Shed     700   \n",
       "6         Lvl    AllPub    ...            0    NaN    NaN         NaN       0   \n",
       "7         Lvl    AllPub    ...            0    NaN    NaN        Shed     350   \n",
       "8         Lvl    AllPub    ...            0    NaN    NaN         NaN       0   \n",
       "9         Lvl    AllPub    ...            0    NaN    NaN         NaN       0   \n",
       "\n",
       "  MoSold YrSold  SaleType  SaleCondition  SalePrice  \n",
       "0      2   2008        WD         Normal     208500  \n",
       "1      5   2007        WD         Normal     181500  \n",
       "2      9   2008        WD         Normal     223500  \n",
       "3      2   2006        WD        Abnorml     140000  \n",
       "4     12   2008        WD         Normal     250000  \n",
       "5     10   2009        WD         Normal     143000  \n",
       "6      8   2007        WD         Normal     307000  \n",
       "7     11   2009        WD         Normal     200000  \n",
       "8      4   2008        WD        Abnorml     129900  \n",
       "9      1   2008        WD         Normal     118000  \n",
       "\n",
       "[10 rows x 81 columns]"
      ]
     },
     "execution_count": 3,
     "metadata": {},
     "output_type": "execute_result"
    }
   ],
   "source": [
    "# define a function to convert an object (categorical) feature into an int feature\n",
    "# 0 = most common category, highest int = least common.\n",
    "def getObjectFeature(df, col, datalength=1460):\n",
    "    if df[col].dtype!='object': # if it's not categorical..\n",
    "        print('feature',col,'is not an object feature.')\n",
    "        return df\n",
    "    elif len([i for i in df[col].T.notnull() if i == True])!=datalength: # if there's missing data..\n",
    "        print('feature',col,'is missing data.')\n",
    "        return df\n",
    "    else:\n",
    "        df1 = df\n",
    "        counts = df1[col].value_counts() # get the counts for each label for the feature\n",
    "        df1[col] = [counts.index.tolist().index(i) for i in df1[col]] # do the conversion\n",
    "        return df1 # make the new (integer) column from the conversion\n",
    "# and test the function...\n",
    "fcntest = getObjectFeature(train,'LotShape')\n",
    "fcntest.head(10)"
   ]
  },
  {
   "cell_type": "markdown",
   "metadata": {},
   "source": [
    "# Target Variable Analysis: Is it Normal?\n",
    "\n",
    "*This section was added after my first submission*\n",
    "\n",
    "After going through a few other kernels on this problem to learn from the masters, I realized that checking for target variable normality (and enforcing normality through a transform) is helpful in developing accurate regression models. Namely, I want to cite [Marcelino's](https://www.kaggle.com/pmarcelino/comprehensive-data-exploration-with-python) and [Serigne's](https://www.kaggle.com/serigne/stacked-regressions-top-4-on-leaderboard) kernels, from which I learned a ton.\n",
    "\n",
    "So let's take a look at the Sale Price data and check for normality, and try to correct it otherwise..."
   ]
  },
  {
   "cell_type": "code",
   "execution_count": 4,
   "metadata": {},
   "outputs": [
    {
     "data": {
      "image/png": "[encoded data removed]",
      "text/plain": [
       "<matplotlib.figure.Figure at 0x7f342bc2b128>"
      ]
     },
     "metadata": {},
     "output_type": "display_data"
    },
    {
     "data": {
      "image/png": "[encoded data removed]",
      "text/plain": [
       "<matplotlib.figure.Figure at 0x7f342bc2b1d0>"
      ]
     },
     "metadata": {},
     "output_type": "display_data"
    }
   ],
   "source": [
    "#histogram and normal probability plot\n",
    "from scipy.stats import norm\n",
    "sns.distplot(train['SalePrice'],fit=norm);\n",
    "fig = plt.figure()\n",
    "res = stats.probplot(train['SalePrice'], plot=plt)"
   ]
  },
  {
   "cell_type": "markdown",
   "metadata": {},
   "source": [
    "So, certainly not normal: we have right-skewness and the data is a bit peak-y. Let's apply a log transform on the data and see what happens..."
   ]
  },
  {
   "cell_type": "code",
   "execution_count": 5,
   "metadata": {},
   "outputs": [
    {
     "data": {
      "image/png": "[encoded data removed]",
      "text/plain": [
       "<matplotlib.figure.Figure at 0x7f342a484320>"
      ]
     },
     "metadata": {},
     "output_type": "display_data"
    },
    {
     "data": {
      "image/png": "[encoded data removed]",
      "text/plain": [
       "<matplotlib.figure.Figure at 0x7f342b8e2780>"
      ]
     },
     "metadata": {},
     "output_type": "display_data"
    }
   ],
   "source": [
    "train['SalePrice'] = np.log(train['SalePrice'])\n",
    "sns.distplot(train['SalePrice'],fit=norm);\n",
    "fig = plt.figure()\n",
    "res = stats.probplot(train['SalePrice'], plot=plt)"
   ]
  },
  {
   "cell_type": "markdown",
   "metadata": {},
   "source": [
    "## A Better Fit!\n",
    "\n",
    "That looks much more normal, which will hopefully improve the regressions. We just have to remember to transform the output data back using an exponentiation before we submit anything."
   ]
  },
  {
   "cell_type": "markdown",
   "metadata": {
    "_cell_guid": "ef71184e-bbd8-479a-b8b4-6c94629e2918",
    "_uuid": "b1f415a7e2154348d8f20684d15e4a3a15be0df3",
    "collapsed": true
   },
   "source": [
    "# First things first: A Random Tree Regressor\n",
    "To start off, let's try to train a simple model using ONLY the features on the \"benchmark\" solution provided with the data for this competition. Those features are:\n",
    "* Year and month of sale,\n",
    "* Lot square footage, and\n",
    "*  Number of bedrooms.\n",
    "\n",
    "We will go for a very simple decision tree regression first. We can test for performance and overfitting using k-fold validation; here we take $k=10$. First, we take the data and make it useful...\n"
   ]
  },
  {
   "cell_type": "code",
   "execution_count": 6,
   "metadata": {
    "_cell_guid": "ae5dd19c-df17-4562-9d5c-a8a076d64229",
    "_uuid": "b3e74ba5ae7f11f8a70c0a77a46dac43ea18a6ce",
    "scrolled": true
   },
   "outputs": [
    {
     "name": "stdout",
     "output_type": "stream",
     "text": [
      "   MoSold  YrSold  LotArea  BedroomAbvGr\n",
      "0       2    2008     8450             3\n",
      "1       5    2007     9600             3\n",
      "2       9    2008    11250             3\n",
      "3       2    2006     9550             3\n",
      "4      12    2008    14260             4\n",
      "   SalePrice\n",
      "0  12.247694\n",
      "1  12.109011\n",
      "2  12.317167\n",
      "3  11.849398\n",
      "4  12.429216\n"
     ]
    }
   ],
   "source": [
    "from sklearn.tree import DecisionTreeRegressor as dtr\n",
    "# define the training data X...\n",
    "X = train[['MoSold','YrSold','LotArea','BedroomAbvGr']]\n",
    "Y = train[['SalePrice']]\n",
    "# and the data for the competition submission...\n",
    "X_test = test[['MoSold','YrSold','LotArea','BedroomAbvGr']]\n",
    "print(X.head())\n",
    "print(Y.head())"
   ]
  },
  {
   "cell_type": "markdown",
   "metadata": {
    "_cell_guid": "096c5d89-fbd1-4e03-a659-1ae97cc45a46",
    "_uuid": "d259de022bf19d4ed9e5fa236be29641f215544c"
   },
   "source": [
    "... and now we can use cross validation to see how well a proposed regression model performs. \n",
    "\n",
    "## Explained Variance as a Performance Metric\n",
    "For now, we use explained variance, $EV$, as a metric to evaluate the performance of a model:\n",
    "\n",
    "$EV = 1 - \\frac{Var(y-\\bar{y})}{Var(y)}$\n",
    "\n",
    "where $y$ is the true price, $\\bar{y}$ is the estimated price from the model, and $Var(\\cdot)$ is the variance. The $\\bar{y}$ estimates come from predictions made on the data witheld from training in each round of cross-validation. See: \n",
    "http://scikit-learn.org/stable/modules/model_evaluation.html#explained-variance-score \n",
    "\n",
    "Let's apply this metric..."
   ]
  },
  {
   "cell_type": "code",
   "execution_count": 7,
   "metadata": {
    "_cell_guid": "df991ec7-1f55-4f84-9f56-70000ac2d516",
    "_uuid": "6ad15048ea3fdd3b6cb0a4f3228f6ba6dcf8e3fd"
   },
   "outputs": [
    {
     "name": "stdout",
     "output_type": "stream",
     "text": [
      "scores for k=10 fold validation: [-0.36738494 -0.34548191 -0.28471074 -0.43725959 -0.17166163 -0.56317275\n",
      " -0.59803353 -0.63440301 -1.16130382 -0.27550748]\n",
      "Est. explained variance: -0.48 (+/- 0.54)\n"
     ]
    }
   ],
   "source": [
    "# let's set up some cross-validation analysis to evaluate our model and later models...\n",
    "from sklearn.model_selection import cross_val_score\n",
    "# try fitting a decision tree regression model...\n",
    "DTR_1 = dtr(max_depth=None) # declare the regression model form. Let the depth be default.\n",
    "# DTR_1.fit(X,Y) # fit the training data\n",
    "scores_dtr = cross_val_score(DTR_1, X, Y, cv=10,scoring='explained_variance') # 10-fold cross validation\n",
    "print('scores for k=10 fold validation:',scores_dtr)\n",
    "print(\"Est. explained variance: %0.2f (+/- %0.2f)\" % (scores_dtr.mean(), scores_dtr.std() * 2))"
   ]
  },
  {
   "cell_type": "markdown",
   "metadata": {
    "_cell_guid": "69bbfc96-1c74-4f24-ab98-4e9223e73b6d",
    "_uuid": "751e8acedd768ab5284a85d2d583881c7cef1edd"
   },
   "source": [
    "## The Random Tree Regressor: A Terrible Model\n",
    "Wow, that's.... super bad. For explained variance, the best possible result is 1, which would correspond to $Var(y-y_{est})=0$. Values below 1 indicate error in the regression. Negative values imply $Var(y-\\bar{y}) > Var(y)$, which is frankly embarrasing.\n",
    "\n",
    "# Seeing the Random Forest for the Trees\n",
    "\n",
    "So, using one tree is a bad idea... but what if we consider an ensemble of trees? Let's use a random forest regressor instead. We will consider forests with varying numbers of trees (estimators), each of which provides a weak regression solution that can be averaged to get the overall regression output. See: http://scikit-learn.org/stable/modules/generated/sklearn.ensemble.RandomForestRegressor.html"
   ]
  },
  {
   "cell_type": "code",
   "execution_count": 8,
   "metadata": {
    "_cell_guid": "c56b39d0-1a14-4966-9bfe-24a20c563558",
    "_uuid": "122cc69b32ee96b793c53ca50f6476409cca6179",
    "scrolled": true
   },
   "outputs": [
    {
     "name": "stdout",
     "output_type": "stream",
     "text": [
      "estimators: 2\n",
      "Est. explained variance: -0.15 (+/- 0.26)\n",
      "\n",
      "estimators: 5\n",
      "Est. explained variance: 0.00 (+/- 0.25)\n",
      "\n",
      "estimators: 10\n",
      "Est. explained variance: 0.10 (+/- 0.19)\n",
      "\n",
      "estimators: 15\n",
      "Est. explained variance: 0.13 (+/- 0.20)\n",
      "\n",
      "estimators: 20\n",
      "Est. explained variance: 0.15 (+/- 0.16)\n",
      "\n",
      "estimators: 25\n",
      "Est. explained variance: 0.14 (+/- 0.18)\n",
      "\n",
      "estimators: 30\n",
      "Est. explained variance: 0.13 (+/- 0.21)\n",
      "\n",
      "estimators: 35\n",
      "Est. explained variance: 0.16 (+/- 0.17)\n",
      "\n",
      "estimators: 40\n",
      "Est. explained variance: 0.15 (+/- 0.16)\n",
      "\n",
      "estimators: 45\n",
      "Est. explained variance: 0.16 (+/- 0.16)\n",
      "\n",
      "estimators: 50\n",
      "Est. explained variance: 0.15 (+/- 0.18)\n",
      "\n",
      "estimators: 55\n",
      "Est. explained variance: 0.16 (+/- 0.18)\n",
      "\n",
      "estimators: 60\n",
      "Est. explained variance: 0.16 (+/- 0.19)\n",
      "\n",
      "estimators: 65\n",
      "Est. explained variance: 0.15 (+/- 0.18)\n",
      "\n",
      "estimators: 70\n",
      "Est. explained variance: 0.16 (+/- 0.18)\n",
      "\n",
      "estimators: 75\n",
      "Est. explained variance: 0.16 (+/- 0.17)\n",
      "\n",
      "estimators: 80\n",
      "Est. explained variance: 0.16 (+/- 0.18)\n",
      "\n"
     ]
    }
   ],
   "source": [
    "from sklearn.ensemble import RandomForestRegressor as rfr\n",
    "estimators = [2, 5, 10, 15, 20, 25, 30, 35, 40, 45, 50, 55, 60, 65, 70, 75, 80]\n",
    "mean_rfrs = []\n",
    "std_rfrs_upper = []\n",
    "std_rfrs_lower = []\n",
    "yt = [i for i in Y['SalePrice']] # quick pre-processing of the target\n",
    "np.random.seed(11111)\n",
    "for i in estimators:\n",
    "    model = rfr(n_estimators=i,max_depth=None)\n",
    "    scores_rfr = cross_val_score(model,X,yt,cv=10,scoring='explained_variance')\n",
    "    print('estimators:',i)\n",
    "#     print('explained variance scores for k=10 fold validation:',scores_rfr)\n",
    "    print(\"Est. explained variance: %0.2f (+/- %0.2f)\" % (scores_rfr.mean(), scores_rfr.std() * 2))\n",
    "    print('')\n",
    "    mean_rfrs.append(scores_rfr.mean())\n",
    "    std_rfrs_upper.append(scores_rfr.mean()+scores_rfr.std()*2) # for error plotting\n",
    "    std_rfrs_lower.append(scores_rfr.mean()-scores_rfr.std()*2) # for error plotting"
   ]
  },
  {
   "cell_type": "code",
   "execution_count": 9,
   "metadata": {
    "_cell_guid": "9f0ef18d-aa80-4d2c-b114-c412ca540182",
    "_uuid": "dda9791f267bd35548367df30d584db61bcd1deb"
   },
   "outputs": [
    {
     "data": {
      "image/png": "[encoded data removed]",
      "text/plain": [
       "<matplotlib.figure.Figure at 0x7f3427ea9518>"
      ]
     },
     "metadata": {},
     "output_type": "display_data"
    }
   ],
   "source": [
    "# and plot...\n",
    "fig = plt.figure(figsize=(12,8))\n",
    "ax = fig.add_subplot(111)\n",
    "ax.plot(estimators,mean_rfrs,marker='o',\n",
    "       linewidth=4,markersize=12)\n",
    "ax.fill_between(estimators,std_rfrs_lower,std_rfrs_upper,\n",
    "                facecolor='green',alpha=0.3,interpolate=True)\n",
    "ax.set_ylim([-.3,1])\n",
    "ax.set_xlim([0,80])\n",
    "plt.title('Expected Variance of Random Forest Regressor')\n",
    "plt.ylabel('Expected Variance')\n",
    "plt.xlabel('Trees in Forest')\n",
    "plt.grid()\n",
    "plt.show()"
   ]
  },
  {
   "cell_type": "markdown",
   "metadata": {
    "_cell_guid": "4fcacac7-e145-4ec4-a7a6-6e55d7c9139f",
    "_uuid": "ffa2f0e946c1e677f94ae92c765c02f906934d6c"
   },
   "source": [
    "## Random Forests: A Slight Improvement\n",
    "\n",
    "Yeah, the results are still absolutely awful. But, at least the estimated means for explained variance are positive, which is a small improvement. We probably need more features, considering how poor even heavily populated forests perform. Let's start by adding a few more features and seeing what happens..."
   ]
  },
  {
   "cell_type": "code",
   "execution_count": 10,
   "metadata": {
    "_cell_guid": "edf4d7ce-fbf8-4b31-b8a5-29da7ab45248",
    "_uuid": "edaf5660f3d3339c254d5695931bc54bb1ebc102"
   },
   "outputs": [
    {
     "name": "stderr",
     "output_type": "stream",
     "text": [
      "/opt/conda/lib/python3.6/site-packages/ipykernel_launcher.py:13: SettingWithCopyWarning: \n",
      "A value is trying to be set on a copy of a slice from a DataFrame.\n",
      "Try using .loc[row_indexer,col_indexer] = value instead\n",
      "\n",
      "See the caveats in the documentation: http://pandas.pydata.org/pandas-docs/stable/indexing.html#indexing-view-versus-copy\n",
      "  del sys.path[0]\n"
     ]
    },
    {
     "data": {
      "text/html": [
       "<div>\n",
       "<style>\n",
       "    .dataframe thead tr:only-child th {\n",
       "        text-align: right;\n",
       "    }\n",
       "\n",
       "    .dataframe thead th {\n",
       "        text-align: left;\n",
       "    }\n",
       "\n",
       "    .dataframe tbody tr th {\n",
       "        vertical-align: top;\n",
       "    }\n",
       "</style>\n",
       "<table border=\"1\" class=\"dataframe\">\n",
       "  <thead>\n",
       "    <tr style=\"text-align: right;\">\n",
       "      <th></th>\n",
       "      <th>MoSold</th>\n",
       "      <th>YrSold</th>\n",
       "      <th>LotArea</th>\n",
       "      <th>BedroomAbvGr</th>\n",
       "      <th>FullBath</th>\n",
       "      <th>HalfBath</th>\n",
       "      <th>TotRmsAbvGrd</th>\n",
       "      <th>YearBuilt</th>\n",
       "      <th>YearRemodAdd</th>\n",
       "      <th>LotShape</th>\n",
       "      <th>Utilities</th>\n",
       "    </tr>\n",
       "  </thead>\n",
       "  <tbody>\n",
       "    <tr>\n",
       "      <th>0</th>\n",
       "      <td>2</td>\n",
       "      <td>2008</td>\n",
       "      <td>8450</td>\n",
       "      <td>3</td>\n",
       "      <td>2</td>\n",
       "      <td>1</td>\n",
       "      <td>8</td>\n",
       "      <td>2003</td>\n",
       "      <td>2003</td>\n",
       "      <td>0</td>\n",
       "      <td>0</td>\n",
       "    </tr>\n",
       "    <tr>\n",
       "      <th>1</th>\n",
       "      <td>5</td>\n",
       "      <td>2007</td>\n",
       "      <td>9600</td>\n",
       "      <td>3</td>\n",
       "      <td>2</td>\n",
       "      <td>0</td>\n",
       "      <td>6</td>\n",
       "      <td>1976</td>\n",
       "      <td>1976</td>\n",
       "      <td>0</td>\n",
       "      <td>0</td>\n",
       "    </tr>\n",
       "    <tr>\n",
       "      <th>2</th>\n",
       "      <td>9</td>\n",
       "      <td>2008</td>\n",
       "      <td>11250</td>\n",
       "      <td>3</td>\n",
       "      <td>2</td>\n",
       "      <td>1</td>\n",
       "      <td>6</td>\n",
       "      <td>2001</td>\n",
       "      <td>2002</td>\n",
       "      <td>1</td>\n",
       "      <td>0</td>\n",
       "    </tr>\n",
       "    <tr>\n",
       "      <th>3</th>\n",
       "      <td>2</td>\n",
       "      <td>2006</td>\n",
       "      <td>9550</td>\n",
       "      <td>3</td>\n",
       "      <td>1</td>\n",
       "      <td>0</td>\n",
       "      <td>7</td>\n",
       "      <td>1915</td>\n",
       "      <td>1970</td>\n",
       "      <td>1</td>\n",
       "      <td>0</td>\n",
       "    </tr>\n",
       "    <tr>\n",
       "      <th>4</th>\n",
       "      <td>12</td>\n",
       "      <td>2008</td>\n",
       "      <td>14260</td>\n",
       "      <td>4</td>\n",
       "      <td>2</td>\n",
       "      <td>1</td>\n",
       "      <td>9</td>\n",
       "      <td>2000</td>\n",
       "      <td>2000</td>\n",
       "      <td>1</td>\n",
       "      <td>0</td>\n",
       "    </tr>\n",
       "  </tbody>\n",
       "</table>\n",
       "</div>"
      ],
      "text/plain": [
       "   MoSold  YrSold  LotArea  BedroomAbvGr  FullBath  HalfBath  TotRmsAbvGrd  \\\n",
       "0       2    2008     8450             3         2         1             8   \n",
       "1       5    2007     9600             3         2         0             6   \n",
       "2       9    2008    11250             3         2         1             6   \n",
       "3       2    2006     9550             3         1         0             7   \n",
       "4      12    2008    14260             4         2         1             9   \n",
       "\n",
       "   YearBuilt  YearRemodAdd  LotShape  Utilities  \n",
       "0       2003          2003         0          0  \n",
       "1       1976          1976         0          0  \n",
       "2       2001          2002         1          0  \n",
       "3       1915          1970         1          0  \n",
       "4       2000          2000         1          0  "
      ]
     },
     "execution_count": 10,
     "metadata": {},
     "output_type": "execute_result"
    }
   ],
   "source": [
    "# list all the features we want. This is still arbitrary...\n",
    "included_features = ['MoSold','YrSold','LotArea','BedroomAbvGr', # original data\n",
    "                    'FullBath','HalfBath','TotRmsAbvGrd', # bathrooms and total rooms\n",
    "                    'YearBuilt','YearRemodAdd', # age of the house\n",
    "                    'LotShape','Utilities'] # some categoricals \n",
    "# define the training data X...\n",
    "X = train[included_features]\n",
    "Y = train[['SalePrice']]\n",
    "# and the data for the competition submission...\n",
    "X_test = test[included_features]\n",
    "# transform categorical data if included in X...\n",
    "for col in list(X):\n",
    "    if X[col].dtype=='object':\n",
    "        X = getObjectFeature(X, col)\n",
    "X.head()"
   ]
  },
  {
   "cell_type": "code",
   "execution_count": 11,
   "metadata": {
    "_cell_guid": "66a173d7-46a6-4a6b-8677-58386ba853f4",
    "_uuid": "3ce526949e9a87062646cbacfd704592ad4247af",
    "scrolled": true
   },
   "outputs": [
    {
     "name": "stdout",
     "output_type": "stream",
     "text": [
      "estimators: 2\n",
      "Est. explained variance: 0.58 (+/- 0.16)\n",
      "\n",
      "estimators: 5\n",
      "Est. explained variance: 0.67 (+/- 0.09)\n",
      "\n",
      "estimators: 10\n",
      "Est. explained variance: 0.69 (+/- 0.10)\n",
      "\n",
      "estimators: 15\n",
      "Est. explained variance: 0.69 (+/- 0.09)\n",
      "\n",
      "estimators: 20\n",
      "Est. explained variance: 0.70 (+/- 0.08)\n",
      "\n",
      "estimators: 25\n",
      "Est. explained variance: 0.70 (+/- 0.10)\n",
      "\n",
      "estimators: 30\n",
      "Est. explained variance: 0.71 (+/- 0.08)\n",
      "\n",
      "estimators: 35\n",
      "Est. explained variance: 0.71 (+/- 0.09)\n",
      "\n",
      "estimators: 40\n",
      "Est. explained variance: 0.71 (+/- 0.10)\n",
      "\n",
      "estimators: 45\n",
      "Est. explained variance: 0.72 (+/- 0.09)\n",
      "\n",
      "estimators: 50\n",
      "Est. explained variance: 0.71 (+/- 0.09)\n",
      "\n",
      "estimators: 55\n",
      "Est. explained variance: 0.71 (+/- 0.09)\n",
      "\n",
      "estimators: 60\n",
      "Est. explained variance: 0.72 (+/- 0.10)\n",
      "\n",
      "estimators: 65\n",
      "Est. explained variance: 0.72 (+/- 0.08)\n",
      "\n",
      "estimators: 70\n",
      "Est. explained variance: 0.71 (+/- 0.09)\n",
      "\n",
      "estimators: 75\n",
      "Est. explained variance: 0.72 (+/- 0.09)\n",
      "\n",
      "estimators: 80\n",
      "Est. explained variance: 0.71 (+/- 0.09)\n",
      "\n"
     ]
    }
   ],
   "source": [
    "# define the number of estimators to consider\n",
    "estimators = [2, 5, 10, 15, 20, 25, 30, 35, 40, 45, 50, 55, 60, 65, 70, 75, 80]\n",
    "mean_rfrs = []\n",
    "std_rfrs_upper = []\n",
    "std_rfrs_lower = []\n",
    "yt = [i for i in Y['SalePrice']]\n",
    "np.random.seed(11111)\n",
    "# for each number of estimators, fit the model and find the results for 8-fold cross validation\n",
    "for i in estimators:\n",
    "    model = rfr(n_estimators=i,max_depth=None)\n",
    "    scores_rfr = cross_val_score(model,X,yt,cv=10,scoring='explained_variance')\n",
    "    print('estimators:',i)\n",
    "#     print('explained variance scores for k=10 fold validation:',scores_rfr)\n",
    "    print(\"Est. explained variance: %0.2f (+/- %0.2f)\" % (scores_rfr.mean(), scores_rfr.std() * 2))\n",
    "    print(\"\")\n",
    "    mean_rfrs.append(scores_rfr.mean())\n",
    "    std_rfrs_upper.append(scores_rfr.mean()+scores_rfr.std()*2) # for error plotting\n",
    "    std_rfrs_lower.append(scores_rfr.mean()-scores_rfr.std()*2) # for error plotting"
   ]
  },
  {
   "cell_type": "code",
   "execution_count": 12,
   "metadata": {
    "_cell_guid": "6b3ed5f8-f245-4102-bab7-c6955d9c9bfe",
    "_uuid": "6941d18cfcb484520d312544acace6948a8968cf"
   },
   "outputs": [
    {
     "data": {
      "image/png": "[encoded data removed]",
      "text/plain": [
       "<matplotlib.figure.Figure at 0x7f3427fe6c18>"
      ]
     },
     "metadata": {},
     "output_type": "display_data"
    }
   ],
   "source": [
    "# and plot...\n",
    "fig = plt.figure(figsize=(12,8))\n",
    "ax = fig.add_subplot(111)\n",
    "ax.plot(estimators,mean_rfrs,marker='o',\n",
    "       linewidth=4,markersize=12)\n",
    "ax.fill_between(estimators,std_rfrs_lower,std_rfrs_upper,\n",
    "                facecolor='green',alpha=0.3,interpolate=True)\n",
    "ax.set_ylim([-.2,1])\n",
    "ax.set_xlim([0,80])\n",
    "plt.title('Expected Variance of Random Forest Regressor')\n",
    "plt.ylabel('Expected Variance')\n",
    "plt.xlabel('Trees in Forest')\n",
    "plt.grid()\n",
    "plt.show()"
   ]
  },
  {
   "cell_type": "markdown",
   "metadata": {
    "_cell_guid": "4816d291-3126-49c7-805b-84d9bc92343e",
    "_uuid": "6d54bddf980fefae0f80397a10157450b338aacb"
   },
   "source": [
    "Clearly better, but still pretty bad. At least we are moving in the right direction (towards expected variance of 1). \n",
    "\n",
    "# Scientific-ish Feature Analysis to Improve Random Forest Regressors\n",
    "Let's stick with random forest regression for now, but let's try to be more scientific about the features we select for training the forests. Let's do some feature analysis.\n",
    "\n",
    "First, let's collect all the available features and transform the categorical features where necessary...."
   ]
  },
  {
   "cell_type": "code",
   "execution_count": 13,
   "metadata": {
    "_cell_guid": "7ad6e975-9916-47da-a9ce-eb80e8774028",
    "_uuid": "f3153e033e0cfeaa7e09c3aead9ab58ce67e50d0",
    "scrolled": true
   },
   "outputs": [
    {
     "name": "stderr",
     "output_type": "stream",
     "text": [
      "/opt/conda/lib/python3.6/site-packages/ipykernel_launcher.py:13: SettingWithCopyWarning: \n",
      "A value is trying to be set on a copy of a slice from a DataFrame.\n",
      "Try using .loc[row_indexer,col_indexer] = value instead\n",
      "\n",
      "See the caveats in the documentation: http://pandas.pydata.org/pandas-docs/stable/indexing.html#indexing-view-versus-copy\n",
      "  del sys.path[0]\n"
     ]
    },
    {
     "data": {
      "text/html": [
       "<div>\n",
       "<style>\n",
       "    .dataframe thead tr:only-child th {\n",
       "        text-align: right;\n",
       "    }\n",
       "\n",
       "    .dataframe thead th {\n",
       "        text-align: left;\n",
       "    }\n",
       "\n",
       "    .dataframe tbody tr th {\n",
       "        vertical-align: top;\n",
       "    }\n",
       "</style>\n",
       "<table border=\"1\" class=\"dataframe\">\n",
       "  <thead>\n",
       "    <tr style=\"text-align: right;\">\n",
       "      <th></th>\n",
       "      <th>Id</th>\n",
       "      <th>MSSubClass</th>\n",
       "      <th>MSZoning</th>\n",
       "      <th>LotArea</th>\n",
       "      <th>Street</th>\n",
       "      <th>LotShape</th>\n",
       "      <th>LandContour</th>\n",
       "      <th>Utilities</th>\n",
       "      <th>LotConfig</th>\n",
       "      <th>LandSlope</th>\n",
       "      <th>...</th>\n",
       "      <th>OpenPorchSF</th>\n",
       "      <th>EnclosedPorch</th>\n",
       "      <th>3SsnPorch</th>\n",
       "      <th>ScreenPorch</th>\n",
       "      <th>PoolArea</th>\n",
       "      <th>MiscVal</th>\n",
       "      <th>MoSold</th>\n",
       "      <th>YrSold</th>\n",
       "      <th>SaleType</th>\n",
       "      <th>SaleCondition</th>\n",
       "    </tr>\n",
       "  </thead>\n",
       "  <tbody>\n",
       "    <tr>\n",
       "      <th>0</th>\n",
       "      <td>1</td>\n",
       "      <td>60</td>\n",
       "      <td>0</td>\n",
       "      <td>8450</td>\n",
       "      <td>0</td>\n",
       "      <td>0</td>\n",
       "      <td>0</td>\n",
       "      <td>0</td>\n",
       "      <td>0</td>\n",
       "      <td>0</td>\n",
       "      <td>...</td>\n",
       "      <td>61</td>\n",
       "      <td>0</td>\n",
       "      <td>0</td>\n",
       "      <td>0</td>\n",
       "      <td>0</td>\n",
       "      <td>0</td>\n",
       "      <td>2</td>\n",
       "      <td>2008</td>\n",
       "      <td>0</td>\n",
       "      <td>0</td>\n",
       "    </tr>\n",
       "    <tr>\n",
       "      <th>1</th>\n",
       "      <td>2</td>\n",
       "      <td>20</td>\n",
       "      <td>0</td>\n",
       "      <td>9600</td>\n",
       "      <td>0</td>\n",
       "      <td>0</td>\n",
       "      <td>0</td>\n",
       "      <td>0</td>\n",
       "      <td>3</td>\n",
       "      <td>0</td>\n",
       "      <td>...</td>\n",
       "      <td>0</td>\n",
       "      <td>0</td>\n",
       "      <td>0</td>\n",
       "      <td>0</td>\n",
       "      <td>0</td>\n",
       "      <td>0</td>\n",
       "      <td>5</td>\n",
       "      <td>2007</td>\n",
       "      <td>0</td>\n",
       "      <td>0</td>\n",
       "    </tr>\n",
       "    <tr>\n",
       "      <th>2</th>\n",
       "      <td>3</td>\n",
       "      <td>60</td>\n",
       "      <td>0</td>\n",
       "      <td>11250</td>\n",
       "      <td>0</td>\n",
       "      <td>1</td>\n",
       "      <td>0</td>\n",
       "      <td>0</td>\n",
       "      <td>0</td>\n",
       "      <td>0</td>\n",
       "      <td>...</td>\n",
       "      <td>42</td>\n",
       "      <td>0</td>\n",
       "      <td>0</td>\n",
       "      <td>0</td>\n",
       "      <td>0</td>\n",
       "      <td>0</td>\n",
       "      <td>9</td>\n",
       "      <td>2008</td>\n",
       "      <td>0</td>\n",
       "      <td>0</td>\n",
       "    </tr>\n",
       "    <tr>\n",
       "      <th>3</th>\n",
       "      <td>4</td>\n",
       "      <td>70</td>\n",
       "      <td>0</td>\n",
       "      <td>9550</td>\n",
       "      <td>0</td>\n",
       "      <td>1</td>\n",
       "      <td>0</td>\n",
       "      <td>0</td>\n",
       "      <td>1</td>\n",
       "      <td>0</td>\n",
       "      <td>...</td>\n",
       "      <td>35</td>\n",
       "      <td>272</td>\n",
       "      <td>0</td>\n",
       "      <td>0</td>\n",
       "      <td>0</td>\n",
       "      <td>0</td>\n",
       "      <td>2</td>\n",
       "      <td>2006</td>\n",
       "      <td>0</td>\n",
       "      <td>2</td>\n",
       "    </tr>\n",
       "    <tr>\n",
       "      <th>4</th>\n",
       "      <td>5</td>\n",
       "      <td>60</td>\n",
       "      <td>0</td>\n",
       "      <td>14260</td>\n",
       "      <td>0</td>\n",
       "      <td>1</td>\n",
       "      <td>0</td>\n",
       "      <td>0</td>\n",
       "      <td>3</td>\n",
       "      <td>0</td>\n",
       "      <td>...</td>\n",
       "      <td>84</td>\n",
       "      <td>0</td>\n",
       "      <td>0</td>\n",
       "      <td>0</td>\n",
       "      <td>0</td>\n",
       "      <td>0</td>\n",
       "      <td>12</td>\n",
       "      <td>2008</td>\n",
       "      <td>0</td>\n",
       "      <td>0</td>\n",
       "    </tr>\n",
       "  </tbody>\n",
       "</table>\n",
       "<p>5 rows × 61 columns</p>\n",
       "</div>"
      ],
      "text/plain": [
       "   Id  MSSubClass  MSZoning  LotArea  Street  LotShape  LandContour  \\\n",
       "0   1          60         0     8450       0         0            0   \n",
       "1   2          20         0     9600       0         0            0   \n",
       "2   3          60         0    11250       0         1            0   \n",
       "3   4          70         0     9550       0         1            0   \n",
       "4   5          60         0    14260       0         1            0   \n",
       "\n",
       "   Utilities  LotConfig  LandSlope      ...        OpenPorchSF  EnclosedPorch  \\\n",
       "0          0          0          0      ...                 61              0   \n",
       "1          0          3          0      ...                  0              0   \n",
       "2          0          0          0      ...                 42              0   \n",
       "3          0          1          0      ...                 35            272   \n",
       "4          0          3          0      ...                 84              0   \n",
       "\n",
       "   3SsnPorch  ScreenPorch  PoolArea  MiscVal  MoSold  YrSold  SaleType  \\\n",
       "0          0            0         0        0       2    2008         0   \n",
       "1          0            0         0        0       5    2007         0   \n",
       "2          0            0         0        0       9    2008         0   \n",
       "3          0            0         0        0       2    2006         0   \n",
       "4          0            0         0        0      12    2008         0   \n",
       "\n",
       "   SaleCondition  \n",
       "0              0  \n",
       "1              0  \n",
       "2              0  \n",
       "3              2  \n",
       "4              0  \n",
       "\n",
       "[5 rows x 61 columns]"
      ]
     },
     "execution_count": 13,
     "metadata": {},
     "output_type": "execute_result"
    }
   ],
   "source": [
    "import sklearn.feature_selection as fs # feature selection library in scikit-learn\n",
    "train = pd.read_csv('../input/train.csv') # get the training data again just in case\n",
    "train['SalePrice'] = np.log(train['SalePrice'])\n",
    "# first, let's include every feature that has data for all 1460 houses in the data set...\n",
    "included_features = [col for col in list(train)\n",
    "                    if len([i for i in train[col].T.notnull() if i == True])==1460\n",
    "                    and col!='SalePrice' and col!='id']\n",
    "# define the training data X...\n",
    "X = train[included_features] # the feature data\n",
    "Y = train[['SalePrice']] # the target\n",
    "yt = [i for i in Y['SalePrice']] # the target list \n",
    "# and the data for the competition submission...\n",
    "X_test = test[included_features]\n",
    "# transform categorical data if included in X...\n",
    "for col in list(X):\n",
    "    if X[col].dtype=='object':\n",
    "        X = getObjectFeature(X, col)\n",
    "X.head()\n",
    "# Y.head()"
   ]
  },
  {
   "cell_type": "markdown",
   "metadata": {
    "_cell_guid": "b9debd8f-869b-4a6b-8976-843f9b04cc96",
    "_uuid": "eea43e42afc89a5191af12aa5e9c22fbdfd83e48"
   },
   "source": [
    "## Mutual Information Regression Metric for Feature Ranking\n",
    "We will use mutual information regression for feature ranking and selection. This metric measures the dependence between two random variables, in this case each feature in the data set and the sales price regression target. Note that this doesn't consider combinations of feature values (for example, the dependence between *sales price* and *the year of sale* combined with *overall quality*), which may also be useful.\n",
    "\n",
    "See: http://scikit-learn.org/stable/modules/generated/sklearn.feature_selection.mutual_info_regression.html"
   ]
  },
  {
   "cell_type": "code",
   "execution_count": 14,
   "metadata": {
    "_cell_guid": "1195f0fb-c5c2-41dc-9449-c9e127cbf890",
    "_uuid": "7294912521220af1003f16a90fbf14d813e18dfb",
    "scrolled": true
   },
   "outputs": [
    {
     "name": "stderr",
     "output_type": "stream",
     "text": [
      "/opt/conda/lib/python3.6/site-packages/sklearn/utils/validation.py:444: DataConversionWarning: Data with input dtype int64 was converted to float64 by the scale function.\n",
      "  warnings.warn(msg, DataConversionWarning)\n"
     ]
    },
    {
     "name": "stdout",
     "output_type": "stream",
     "text": [
      "[['OverallQual' '0.513638172174']\n",
      " ['GrLivArea' '0.370362761174']\n",
      " ['GarageCars' '0.363067861809']\n",
      " ['KitchenQual' '0.333816397398']\n",
      " ['ExterQual' '0.32876409725']\n",
      " ['GarageArea' '0.288564418897']\n",
      " ['TotalBsmtSF' '0.265984510681']\n",
      " ['FullBath' '0.262270787714']\n",
      " ['1stFlrSF' '0.261994730628']\n",
      " ['YearBuilt' '0.259608433369']\n",
      " ['YearRemodAdd' '0.19600822777']\n",
      " ['Foundation' '0.195626580985']\n",
      " ['TotRmsAbvGrd' '0.191502053325']\n",
      " ['Fireplaces' '0.170319977323']\n",
      " ['HeatingQC' '0.169955921911']\n",
      " ['BsmtFinSF1' '0.131088111214']\n",
      " ['MSZoning' '0.121486166688']\n",
      " ['OverallCond' '0.113493734868']\n",
      " ['2ndFlrSF' '0.108673750888']\n",
      " ['LotShape' '0.0979153207264']\n",
      " ['HalfBath' '0.0876808362195']\n",
      " ['LotArea' '0.0875187368582']\n",
      " ['SaleType' '0.0786177211471']\n",
      " ['SaleCondition' '0.0746072717317']\n",
      " ['BedroomAbvGr' '0.0676400172657']\n",
      " ['CentralAir' '0.0639223060812']\n",
      " ['MSSubClass' '0.0621486597']\n",
      " ['OpenPorchSF' '0.0579227282531']\n",
      " ['HouseStyle' '0.0506487336246']\n",
      " ['BsmtUnfSF' '0.0504051652468']\n",
      " ['PavedDrive' '0.0500237987487']\n",
      " ['WoodDeckSF' '0.0470139180822']\n",
      " ['Neighborhood' '0.0453362524159']\n",
      " ['BldgType' '0.0430142365587']\n",
      " ['Exterior2nd' '0.0319092961086']\n",
      " ['LandContour' '0.0291469939656']\n",
      " ['Exterior1st' '0.0270527763035']\n",
      " ['ExterCond' '0.0231781019953']\n",
      " ['BsmtFullBath' '0.0221592838941']\n",
      " ['EnclosedPorch' '0.0210249814821']\n",
      " ['KitchenAbvGr' '0.0173565501784']\n",
      " ['LotConfig' '0.0162367914013']\n",
      " ['Condition1' '0.0162277900568']\n",
      " ['BsmtHalfBath' '0.0157235984376']\n",
      " ['YrSold' '0.014816807328']\n",
      " ['ScreenPorch' '0.0128727825063']\n",
      " ['Heating' '0.0125773514626']\n",
      " ['RoofStyle' '0.0114289829525']\n",
      " ['RoofMatl' '0.00725502296313']\n",
      " ['Functional' '0.00694497501364']\n",
      " ['LandSlope' '0.00350433131895']\n",
      " ['Condition2' '0.00154194016054']\n",
      " ['LowQualFinSF' '0.000578977682803']\n",
      " ['Street' '0.00032923710231']\n",
      " ['3SsnPorch' '4.00990592686e-06']\n",
      " ['Id' '0.0']\n",
      " ['Utilities' '0.0']\n",
      " ['BsmtFinSF2' '0.0']\n",
      " ['PoolArea' '0.0']\n",
      " ['MiscVal' '0.0']\n",
      " ['MoSold' '0.0']]\n"
     ]
    }
   ],
   "source": [
    "mir_result = fs.mutual_info_regression(X, yt) # mutual information regression feature ordering\n",
    "feature_scores = []\n",
    "for i in np.arange(len(included_features)):\n",
    "    feature_scores.append([included_features[i],mir_result[i]])\n",
    "sorted_scores = sorted(np.array(feature_scores), key=lambda s: float(s[1]), reverse=True) \n",
    "print(np.array(sorted_scores))"
   ]
  },
  {
   "cell_type": "markdown",
   "metadata": {
    "_cell_guid": "be648519-0249-456b-8114-94e6f1103809",
    "_uuid": "ad5719ab90c8fe8f01c7301706062fd34fc1a9eb"
   },
   "source": [
    "## MIR Results: What do homebuyers care about?\n",
    "Well, it seems like the most important factors (with respect to sales price) are overall quality, amount of living area, garage car capacity, kitchen quality, and exterior material quality. These seem like fairly intuitve results, at least for somebody with a distant notion of what matters when selecting a house (me).\n",
    "\n",
    "Let's plot the results next to each other for a better visualization..."
   ]
  },
  {
   "cell_type": "code",
   "execution_count": 15,
   "metadata": {
    "_cell_guid": "77da7f0f-3900-4316-9906-7ca41fd3e523",
    "_uuid": "edcd23ce7880e95d22c0b76923a0cc8fe8246ad4"
   },
   "outputs": [
    {
     "data": {
      "image/png": "[encoded data removed]",
      "text/plain": [
       "<matplotlib.figure.Figure at 0x7f3427fa5828>"
      ]
     },
     "metadata": {},
     "output_type": "display_data"
    }
   ],
   "source": [
    "# and plot...\n",
    "fig = plt.figure(figsize=(13,6))\n",
    "ax = fig.add_subplot(111)\n",
    "ind = np.arange(len(included_features))\n",
    "plt.bar(ind,[float(i) for i in np.array(sorted_scores)[:,1]])\n",
    "ax.axes.set_xticks(ind)\n",
    "plt.title('Feature Importances (Mutual Information Regression)')\n",
    "plt.ylabel('Importance')\n",
    "# plt.xlabel('Trees in Forest')\n",
    "# plt.grid()\n",
    "plt.show()"
   ]
  },
  {
   "cell_type": "markdown",
   "metadata": {
    "_cell_guid": "e3c59abe-adab-425b-90a2-2652e7a4ed70",
    "_uuid": "8355d324e2810d35cbec80101fdd237b419a3c51"
   },
   "source": [
    "## Feature Pruning\n",
    "It seems like the top few dozen features are fairly important... let's take the top 15, 20, 30, 40, and 50 features to train the random forest regressor model we've been working with and compare the performances. We will wrap the necessary model building and plotting code in functions first."
   ]
  },
  {
   "cell_type": "code",
   "execution_count": 16,
   "metadata": {
    "_cell_guid": "95ceb5da-6d6d-4b92-b97f-807d98010895",
    "_uuid": "791986216af0b9178d053bef178c8adcd3167a1c",
    "collapsed": true
   },
   "outputs": [],
   "source": [
    "# define a function to do the necessary model building....\n",
    "def getModel(sorted_scores,train,numFeatures):\n",
    "    included_features = np.array(sorted_scores)[:,0][:numFeatures] # ordered list of important features\n",
    "    # define the training data X...\n",
    "    X = train[included_features]\n",
    "    Y = train[['SalePrice']]\n",
    "    # transform categorical data if included in X...\n",
    "    for col in list(X):\n",
    "        if X[col].dtype=='object':\n",
    "            X = getObjectFeature(X, col)\n",
    "    # define the number of estimators to consider\n",
    "    estimators = [2, 5, 10, 15, 20, 25, 30, 35, 40, 45, 50, 55, 60, 65, 70, 75, 80]\n",
    "    mean_rfrs = []\n",
    "    std_rfrs_upper = []\n",
    "    std_rfrs_lower = []\n",
    "    yt = [i for i in Y['SalePrice']]\n",
    "    np.random.seed(11111)\n",
    "    # for each number of estimators, fit the model and find the results for 8-fold cross validation\n",
    "    for i in estimators:\n",
    "        model = rfr(n_estimators=i,max_depth=None)\n",
    "        scores_rfr = cross_val_score(model,X,yt,cv=10,scoring='explained_variance')\n",
    "        mean_rfrs.append(scores_rfr.mean())\n",
    "        std_rfrs_upper.append(scores_rfr.mean()+scores_rfr.std()*2) # for error plotting\n",
    "        std_rfrs_lower.append(scores_rfr.mean()-scores_rfr.std()*2) # for error plotting\n",
    "    return mean_rfrs,std_rfrs_upper,std_rfrs_lower\n",
    "\n",
    "# define a function to plot the model expected variance results...\n",
    "def plotResults(mean_rfrs,std_rfrs_upper,std_rfrs_lower,numFeatures):\n",
    "    fig = plt.figure(figsize=(12,8))\n",
    "    ax = fig.add_subplot(111)\n",
    "    ax.plot(estimators,mean_rfrs,marker='o',\n",
    "           linewidth=4,markersize=12)\n",
    "    ax.fill_between(estimators,std_rfrs_lower,std_rfrs_upper,\n",
    "                    facecolor='green',alpha=0.3,interpolate=True)\n",
    "    ax.set_ylim([-.2,1])\n",
    "    ax.set_xlim([0,80])\n",
    "    plt.title('Expected Variance of Random Forest Regressor: Top %d Features'%numFeatures)\n",
    "    plt.ylabel('Expected Variance')\n",
    "    plt.xlabel('Trees in Forest')\n",
    "    plt.grid()\n",
    "    plt.show()\n",
    "    return"
   ]
  },
  {
   "cell_type": "markdown",
   "metadata": {
    "_cell_guid": "3a8c9e3d-1251-4258-a571-90c913fcbb06",
    "_uuid": "6a3ad8000ca86b0dd4d1474213b85254774df6dd"
   },
   "source": [
    "...and let's run the regression model fitting for each of the scenarios listed before..."
   ]
  },
  {
   "cell_type": "code",
   "execution_count": 17,
   "metadata": {
    "_cell_guid": "3219ce7d-8eed-4574-9269-f2c9634e08a4",
    "_uuid": "f84a0bd5d4773e3fe6c8b4ce4fe1ac6fc8b692bf",
    "scrolled": false
   },
   "outputs": [
    {
     "name": "stderr",
     "output_type": "stream",
     "text": [
      "/opt/conda/lib/python3.6/site-packages/ipykernel_launcher.py:13: SettingWithCopyWarning: \n",
      "A value is trying to be set on a copy of a slice from a DataFrame.\n",
      "Try using .loc[row_indexer,col_indexer] = value instead\n",
      "\n",
      "See the caveats in the documentation: http://pandas.pydata.org/pandas-docs/stable/indexing.html#indexing-view-versus-copy\n",
      "  del sys.path[0]\n"
     ]
    },
    {
     "data": {
      "image/png": "[encoded data removed]",
      "text/plain": [
       "<matplotlib.figure.Figure at 0x7f3427fd52e8>"
      ]
     },
     "metadata": {},
     "output_type": "display_data"
    }
   ],
   "source": [
    "# top 15...\n",
    "mean_rfrs,std_rfrs_upper,std_rfrs_lower = getModel(sorted_scores,train,15)\n",
    "plotResults(mean_rfrs,std_rfrs_upper,std_rfrs_lower,15)"
   ]
  },
  {
   "cell_type": "code",
   "execution_count": 18,
   "metadata": {
    "_cell_guid": "c9a77b93-6aef-4750-a6d4-7eed12a9aefd",
    "_uuid": "164bd4d18c9eacd89af87266bed68c25142603d2"
   },
   "outputs": [
    {
     "name": "stderr",
     "output_type": "stream",
     "text": [
      "/opt/conda/lib/python3.6/site-packages/ipykernel_launcher.py:13: SettingWithCopyWarning: \n",
      "A value is trying to be set on a copy of a slice from a DataFrame.\n",
      "Try using .loc[row_indexer,col_indexer] = value instead\n",
      "\n",
      "See the caveats in the documentation: http://pandas.pydata.org/pandas-docs/stable/indexing.html#indexing-view-versus-copy\n",
      "  del sys.path[0]\n"
     ]
    },
    {
     "data": {
      "image/png": "[encoded data removed]",
      "text/plain": [
       "<matplotlib.figure.Figure at 0x7f346511d898>"
      ]
     },
     "metadata": {},
     "output_type": "display_data"
    }
   ],
   "source": [
    "# top 20...\n",
    "mean_rfrs,std_rfrs_upper,std_rfrs_lower = getModel(sorted_scores,train,20)\n",
    "plotResults(mean_rfrs,std_rfrs_upper,std_rfrs_lower,20)"
   ]
  },
  {
   "cell_type": "code",
   "execution_count": 19,
   "metadata": {
    "_cell_guid": "9df514c1-2a4d-4796-8dde-68fe3a4fe457",
    "_uuid": "722dd06605b7f71cc9f420ff527164d817579dab"
   },
   "outputs": [
    {
     "name": "stderr",
     "output_type": "stream",
     "text": [
      "/opt/conda/lib/python3.6/site-packages/ipykernel_launcher.py:13: SettingWithCopyWarning: \n",
      "A value is trying to be set on a copy of a slice from a DataFrame.\n",
      "Try using .loc[row_indexer,col_indexer] = value instead\n",
      "\n",
      "See the caveats in the documentation: http://pandas.pydata.org/pandas-docs/stable/indexing.html#indexing-view-versus-copy\n",
      "  del sys.path[0]\n"
     ]
    },
    {
     "data": {
      "image/png": "[encoded data removed]",
      "text/plain": [
       "<matplotlib.figure.Figure at 0x7f33d61deeb8>"
      ]
     },
     "metadata": {},
     "output_type": "display_data"
    }
   ],
   "source": [
    "# top 30...\n",
    "mean_rfrs,std_rfrs_upper,std_rfrs_lower = getModel(sorted_scores,train,30)\n",
    "plotResults(mean_rfrs,std_rfrs_upper,std_rfrs_lower,30)"
   ]
  },
  {
   "cell_type": "code",
   "execution_count": 20,
   "metadata": {
    "_cell_guid": "fa73c89a-1c06-4dc9-83b3-c4c6ddc89f9a",
    "_uuid": "2f3e6cf074a8b07279ed1118048beccfc8fe2503",
    "scrolled": false
   },
   "outputs": [
    {
     "name": "stderr",
     "output_type": "stream",
     "text": [
      "/opt/conda/lib/python3.6/site-packages/ipykernel_launcher.py:13: SettingWithCopyWarning: \n",
      "A value is trying to be set on a copy of a slice from a DataFrame.\n",
      "Try using .loc[row_indexer,col_indexer] = value instead\n",
      "\n",
      "See the caveats in the documentation: http://pandas.pydata.org/pandas-docs/stable/indexing.html#indexing-view-versus-copy\n",
      "  del sys.path[0]\n"
     ]
    },
    {
     "data": {
      "image/png": "[encoded data removed]",
      "text/plain": [
       "<matplotlib.figure.Figure at 0x7f3427fc5d68>"
      ]
     },
     "metadata": {},
     "output_type": "display_data"
    }
   ],
   "source": [
    "# top 40...\n",
    "mean_rfrs,std_rfrs_upper,std_rfrs_lower = getModel(sorted_scores,train,40)\n",
    "plotResults(mean_rfrs,std_rfrs_upper,std_rfrs_lower,40)"
   ]
  },
  {
   "cell_type": "code",
   "execution_count": 21,
   "metadata": {
    "_cell_guid": "a9c0fa0e-65e5-41b0-8a9c-edd9df54962d",
    "_uuid": "54f0a18ea74f7487e7d16939a1b7647a01a56bbe"
   },
   "outputs": [
    {
     "name": "stderr",
     "output_type": "stream",
     "text": [
      "/opt/conda/lib/python3.6/site-packages/ipykernel_launcher.py:13: SettingWithCopyWarning: \n",
      "A value is trying to be set on a copy of a slice from a DataFrame.\n",
      "Try using .loc[row_indexer,col_indexer] = value instead\n",
      "\n",
      "See the caveats in the documentation: http://pandas.pydata.org/pandas-docs/stable/indexing.html#indexing-view-versus-copy\n",
      "  del sys.path[0]\n"
     ]
    },
    {
     "data": {
      "image/png": "[encoded data removed]",
      "text/plain": [
       "<matplotlib.figure.Figure at 0x7f33d61ec048>"
      ]
     },
     "metadata": {},
     "output_type": "display_data"
    }
   ],
   "source": [
    "# top 50...\n",
    "mean_rfrs,std_rfrs_upper,std_rfrs_lower = getModel(sorted_scores,train,50)\n",
    "plotResults(mean_rfrs,std_rfrs_upper,std_rfrs_lower,50)"
   ]
  },
  {
   "cell_type": "markdown",
   "metadata": {
    "_cell_guid": "c6cf58c2-cdcf-46cd-93eb-b11a1a598c0e",
    "_uuid": "7b5cd64a9ba7f13bb622327d958be62e7cfa23e4"
   },
   "source": [
    "# Random Forest Regression Impressions\n",
    "It seems like the mean expected variance of the regressions stops improving at around 20 features and 20 to 30 trees in the forest. The deviation in the expected variance score decreases with increasing features, which is intuitive. The 40-feature and 50-feature results look almost identical, probably because the 40th- to 50th-most important features are barely significant. Let's only consider the top 40 features from here on out."
   ]
  },
  {
   "cell_type": "markdown",
   "metadata": {
    "_cell_guid": "84e5185e-03c4-41db-829b-75400f817541",
    "_uuid": "c0f52fad586afd216fac020e139057167e25a092",
    "collapsed": true
   },
   "source": [
    "# The Finale: Building the Output for Submission\n",
    "Now, let's take the best regression model we have and build the competition output. For this model, we have:\n",
    "* A random forest resgression model, incorporating\n",
    "* the 40 most prominent features according to an MIR analysis, and\n",
    "* 60 regressor trees per forest, and\n",
    "* the default sklearn settings for the rest of the model parameters.\n",
    "\n",
    "So let's apply this model to the test data and generate the submission!"
   ]
  },
  {
   "cell_type": "code",
   "execution_count": 22,
   "metadata": {
    "_cell_guid": "8d184d0d-5691-48cc-81c5-0e950adbf76d",
    "_uuid": "5ae838eab461d7fb7ee9cc56c38be8252a957753",
    "scrolled": true
   },
   "outputs": [
    {
     "name": "stderr",
     "output_type": "stream",
     "text": [
      "/opt/conda/lib/python3.6/site-packages/ipykernel_launcher.py:13: SettingWithCopyWarning: \n",
      "A value is trying to be set on a copy of a slice from a DataFrame.\n",
      "Try using .loc[row_indexer,col_indexer] = value instead\n",
      "\n",
      "See the caveats in the documentation: http://pandas.pydata.org/pandas-docs/stable/indexing.html#indexing-view-versus-copy\n",
      "  del sys.path[0]\n"
     ]
    },
    {
     "name": "stdout",
     "output_type": "stream",
     "text": [
      "explained variance scores for k=10 fold validation: [ 0.84300715  0.89703488  0.89517081  0.83918575  0.86654884  0.90095974\n",
      "  0.88492673  0.90104156  0.85066814  0.86036962]\n",
      "Est. explained variance: 0.87 (+/- 0.05)\n"
     ]
    },
    {
     "data": {
      "text/plain": [
       "RandomForestRegressor(bootstrap=True, criterion='mse', max_depth=None,\n",
       "           max_features='auto', max_leaf_nodes=None,\n",
       "           min_impurity_decrease=0.0, min_impurity_split=None,\n",
       "           min_samples_leaf=1, min_samples_split=2,\n",
       "           min_weight_fraction_leaf=0.0, n_estimators=60, n_jobs=1,\n",
       "           oob_score=False, random_state=None, verbose=0, warm_start=False)"
      ]
     },
     "execution_count": 22,
     "metadata": {},
     "output_type": "execute_result"
    }
   ],
   "source": [
    "# build the model with the desired parameters...\n",
    "numFeatures = 40 # the number of features to inlcude\n",
    "trees = 60 # trees in the forest\n",
    "included_features = np.array(sorted_scores)[:,0][:numFeatures]\n",
    "# define the training data X...\n",
    "X = train[included_features]\n",
    "Y = train[['SalePrice']]\n",
    "# transform categorical data if included in X...\n",
    "for col in list(X):\n",
    "    if X[col].dtype=='object':\n",
    "        X = getObjectFeature(X, col)\n",
    "yt = [i for i in Y['SalePrice']]\n",
    "np.random.seed(11111)\n",
    "model = rfr(n_estimators=trees,max_depth=None)\n",
    "scores_rfr = cross_val_score(model,X,yt,cv=10,scoring='explained_variance')\n",
    "print('explained variance scores for k=10 fold validation:',scores_rfr)\n",
    "print(\"Est. explained variance: %0.2f (+/- %0.2f)\" % (scores_rfr.mean(), scores_rfr.std() * 2))\n",
    "# fit the model\n",
    "model.fit(X,yt)"
   ]
  },
  {
   "cell_type": "code",
   "execution_count": 23,
   "metadata": {
    "_cell_guid": "29b92fc3-7133-4cb4-9ab9-739a305d7bf3",
    "_uuid": "bd073fcc63ac9aa70e4a4aee6b143d72cd49fc54",
    "collapsed": true
   },
   "outputs": [],
   "source": [
    "# let's read the test data to be sure...\n",
    "test = pd.read_csv('../input/test.csv')"
   ]
  },
  {
   "cell_type": "markdown",
   "metadata": {
    "_cell_guid": "9faf2c25-63a0-4a3b-a719-e649d8ea33a6",
    "_uuid": "f4a54b3d44b88e81388580931978950a4c644d1e"
   },
   "source": [
    "We will tweak the pre-processing function from before to handle missing data better, too..."
   ]
  },
  {
   "cell_type": "code",
   "execution_count": 24,
   "metadata": {
    "_cell_guid": "3cc55499-aeca-450b-a756-91e5e441890f",
    "_uuid": "aab6242664bb2db8d1f24c1feeddd73aeb05c1ba",
    "collapsed": true
   },
   "outputs": [],
   "source": [
    "# re-define a function to convert an object (categorical) feature into an int feature\n",
    "# 0 = most common category, highest int = least common.\n",
    "def getObjectFeature(df, col, datalength=1460):\n",
    "    if df[col].dtype!='object': # if it's not categorical..\n",
    "        print('feature',col,'is not an object feature.')\n",
    "        return df\n",
    "    else:\n",
    "        df1 = df\n",
    "        counts = df1[col].value_counts() # get the counts for each label for the feature\n",
    "#         print(col,'labels, common to rare:',counts.index.tolist()) # get an ordered list of the labels\n",
    "        df1[col] = [counts.index.tolist().index(i) \n",
    "                    if i in counts.index.tolist() \n",
    "                    else 0 \n",
    "                    for i in df1[col] ] # do the conversion\n",
    "        return df1 # make the new (integer) column from the conversion"
   ]
  },
  {
   "cell_type": "code",
   "execution_count": 25,
   "metadata": {
    "_cell_guid": "3fe77768-059d-4284-88f5-ca6a46008937",
    "_uuid": "9a2bc6ae752ba1209a36600a386d404fee91c207",
    "scrolled": true
   },
   "outputs": [
    {
     "name": "stderr",
     "output_type": "stream",
     "text": [
      "/opt/conda/lib/python3.6/site-packages/ipykernel_launcher.py:14: SettingWithCopyWarning: \n",
      "A value is trying to be set on a copy of a slice from a DataFrame.\n",
      "Try using .loc[row_indexer,col_indexer] = value instead\n",
      "\n",
      "See the caveats in the documentation: http://pandas.pydata.org/pandas-docs/stable/indexing.html#indexing-view-versus-copy\n",
      "  \n"
     ]
    },
    {
     "name": "stdout",
     "output_type": "stream",
     "text": [
      "[ 11.76616431  11.94897975  12.08819693 ...,  11.96282689  11.66081124\n",
      "  12.35911794]\n"
     ]
    }
   ],
   "source": [
    "# apply the model to the test data and get the output...\n",
    "X_test = test[included_features]\n",
    "for col in list(X_test):\n",
    "    if X_test[col].dtype=='object':\n",
    "        X_test = getObjectFeature(X_test, col, datalength=1459)\n",
    "# print(X_test.head(20))\n",
    "y_output = model.predict(X_test.fillna(0)) # get the results and fill nan's with 0\n",
    "print(y_output)"
   ]
  },
  {
   "cell_type": "code",
   "execution_count": 26,
   "metadata": {},
   "outputs": [
    {
     "name": "stdout",
     "output_type": "stream",
     "text": [
      "[ 128819.09211963  154659.27440382  177761.30199441 ...,  156815.76003756\n",
      "  115938.04625134  233075.55264608]\n"
     ]
    }
   ],
   "source": [
    "# transform the data to be sure\n",
    "y_output = np.exp(y_output)\n",
    "print(y_output)"
   ]
  },
  {
   "cell_type": "code",
   "execution_count": 27,
   "metadata": {
    "_cell_guid": "a04026a3-14ef-40d4-88a7-c660c9d5be3a",
    "_uuid": "e2c184860e127997104d0e8f2036016ffe558027"
   },
   "outputs": [
    {
     "data": {
      "text/html": [
       "<div>\n",
       "<style>\n",
       "    .dataframe thead tr:only-child th {\n",
       "        text-align: right;\n",
       "    }\n",
       "\n",
       "    .dataframe thead th {\n",
       "        text-align: left;\n",
       "    }\n",
       "\n",
       "    .dataframe tbody tr th {\n",
       "        vertical-align: top;\n",
       "    }\n",
       "</style>\n",
       "<table border=\"1\" class=\"dataframe\">\n",
       "  <thead>\n",
       "    <tr style=\"text-align: right;\">\n",
       "      <th></th>\n",
       "      <th>Id</th>\n",
       "      <th>SalePrice</th>\n",
       "    </tr>\n",
       "  </thead>\n",
       "  <tbody>\n",
       "    <tr>\n",
       "      <th>0</th>\n",
       "      <td>1461</td>\n",
       "      <td>128819.092120</td>\n",
       "    </tr>\n",
       "    <tr>\n",
       "      <th>1</th>\n",
       "      <td>1462</td>\n",
       "      <td>154659.274404</td>\n",
       "    </tr>\n",
       "    <tr>\n",
       "      <th>2</th>\n",
       "      <td>1463</td>\n",
       "      <td>177761.301994</td>\n",
       "    </tr>\n",
       "    <tr>\n",
       "      <th>3</th>\n",
       "      <td>1464</td>\n",
       "      <td>181290.564512</td>\n",
       "    </tr>\n",
       "    <tr>\n",
       "      <th>4</th>\n",
       "      <td>1465</td>\n",
       "      <td>192073.658970</td>\n",
       "    </tr>\n",
       "  </tbody>\n",
       "</table>\n",
       "</div>"
      ],
      "text/plain": [
       "     Id      SalePrice\n",
       "0  1461  128819.092120\n",
       "1  1462  154659.274404\n",
       "2  1463  177761.301994\n",
       "3  1464  181290.564512\n",
       "4  1465  192073.658970"
      ]
     },
     "execution_count": 27,
     "metadata": {},
     "output_type": "execute_result"
    }
   ],
   "source": [
    "# define the data frame for the results\n",
    "saleprice = pd.DataFrame(y_output, columns=['SalePrice'])\n",
    "# print(saleprice.head())\n",
    "# saleprice.tail()\n",
    "results = pd.concat([test['Id'],saleprice['SalePrice']],axis=1)\n",
    "results.head()"
   ]
  },
  {
   "cell_type": "code",
   "execution_count": 28,
   "metadata": {
    "_cell_guid": "aac2812a-dc81-4401-982d-63b474746a43",
    "_uuid": "42df785bfa8de18add8d35aef43fcba1606704ba",
    "collapsed": true
   },
   "outputs": [],
   "source": [
    "# and write to output\n",
    "results.to_csv('housepricing_submission.csv', index = False)"
   ]
  },
  {
   "cell_type": "markdown",
   "metadata": {
    "_cell_guid": "b03f8434-b4a8-47c8-b2b7-0bbed5ad3df5",
    "_uuid": "b251baf557da53eaf9c455880cd6d9c0816d00f3"
   },
   "source": [
    "So, there's my random forest regression for the house price data set. I appreciate any feedback, comments, corrections, improvements!"
   ]
  },
  {
   "cell_type": "code",
   "execution_count": 29,
   "metadata": {
    "_cell_guid": "9a8ce167-f955-4d8f-b45f-08089f4bf323",
    "_uuid": "9896a917f711813fd9ef796f97f47e2216e252a2",
    "collapsed": true
   },
   "outputs": [],
   "source": []
  }
 ],
 "metadata": {
  "kernelspec": {
   "display_name": "Python 3.8.10 64-bit (windows store)",
   "language": "python",
   "name": "python3"
  },
  "language_info": {
   "codemirror_mode": {
    "name": "ipython",
    "version": 3
   },
   "file_extension": ".py",
   "mimetype": "text/x-python",
   "name": "python",
   "nbconvert_exporter": "python",
   "pygments_lexer": "ipython3",
   "version": "3.8.10"
  },
  "vscode": {
   "interpreter": {
    "hash": "aaf5edabc44c88571c4d6b9ef24023248b21d69e1eb8175a770a6e63ccf0995c"
   }
  }
 },
 "nbformat": 4,
 "nbformat_minor": 1
}
